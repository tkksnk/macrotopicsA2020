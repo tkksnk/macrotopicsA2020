{
 "cells": [
  {
   "cell_type": "markdown",
   "metadata": {},
   "source": [
    "# 練習問題\n",
    "\n",
    "I. 次のような2期間モデルを考える。家計は以下の効用関数を、各期の予算制約を所与として最大化する\n",
    "\n",
    "$$\n",
    "  U(c_1,c_2) = u(c_1) + \\beta E u(c_2)\n",
    "$$\n",
    "\n",
    "subject to\n",
    "\n",
    "\\begin{align*}\n",
    "  c_{1} + a_{2} &= a_{1} \\\\\n",
    "  c_{2} &= (1+r)a_{2} + w\n",
    "\\end{align*}\n",
    "\n",
    "ここで、2期目の所得は、\n",
    "$$\n",
    "  w = \\begin{cases} w_{H} \\text{ with prob. } p \\\\\n",
    "    w_{L} \\text{ with prob. } 1-p \n",
    "  \\end{cases}\n",
    "$$\n",
    "であるとする\n",
    "\n",
    "1. 効用最大化のための一階の必要条件（オイラー方程式）を求めよ\n",
    "2. 以下では、$a_{1}$を$a_{1}^{i}\\in\\{0.1,0.2,...,1.0\\}$の10個のグリッドで近似する。また、$\\beta=0.985^{30}, 1+r=1.025^{30}, w_{H} = 1.0, w_{L} = 0.0, p = 0.5, u(c)=\\ln c$とする\n",
    "  1. 状態変数$a_{1}$と操作変数$a_{2}$がともに離散の場合の数値解を求めよ（ヒント：$w_{H}=0$の場合と比べて、貯蓄関数はどのように変化するだろうか？）\n",
    "  2. 操作変数$a_{2}$を連続とした場合の数値解を求めよ\n",
    "3. 2.で$w_{L}=0.1$とした場合に、貯蓄関数はどのような形をとるだろうか（ヒント：$a_{1}=0.1$の場合に注意せよ）"
   ]
  },
  {
   "cell_type": "markdown",
   "metadata": {},
   "source": [
    "II. I.の2期間モデルを無限期間に拡張してみよう。すなわち、家計は以下の効用関数を、各期の予算制約を所与として最大化する\n",
    "\n",
    "$$\n",
    "  U(c_1,c_2,\\dots) = E_{1}\\sum_{t=1}^{\\infty}\\beta^{t-1}u(c_t)\n",
    "$$\n",
    "\n",
    "subject to\n",
    "\n",
    "$$\n",
    "  c_{t} + a_{t+1} = (1+r)a_{t} + w_{t}\n",
    "$$\n",
    "\n",
    "for $t=1,2,...$.\n",
    "\n",
    "ここで、各期$t=1,2,...$の所得は、\n",
    "$$\n",
    "  w_{t} = \\begin{cases} w_{H} \\text{ with prob. } p \\\\\n",
    "    w_{L} \\text{ with prob. } 1-p \n",
    "  \\end{cases}\n",
    "$$\n",
    "\n",
    "であるとする\n",
    "\n",
    "1. $(a_{t},w_{t})$を状態変数として、ベルマン方程式を求めよ\n",
    "2. 効用最大化のための一階の必要条件（オイラー方程式）を求めよ\n",
    "3. $a_{t}$を$a_{t}^{i}\\in\\{0.0,0.1,0.2,...,10.0\\}$の101個のグリッドで近似する。また、$\\beta=0.985, 1+r=1.01, w_{H} = 1.0, w_{L} = 0.1, p = 0.9, u(c)=\\ln c$とする\n",
    "  1. 状態変数$a_{t}$と操作変数$a_{t+1}$がともに離散の場合の数値解を求めよ\n",
    "  2. 操作変数$a_{t+1}$を連続とした場合の数値解を求めよ\n",
    "4. 以下のそれぞれのパラメータの変化が、貯蓄関数に与える影響を議論せよ\n",
    "  1. $1+r$が上昇する場合\n",
    "  2. $p$が低下する場合"
   ]
  }
 ],
 "metadata": {
  "kernelspec": {
   "display_name": "Matlab",
   "language": "matlab",
   "name": "matlab"
  },
  "language_info": {
   "codemirror_mode": "octave",
   "file_extension": ".m",
   "help_links": [
    {
     "text": "MetaKernel Magics",
     "url": "https://metakernel.readthedocs.io/en/latest/source/README.html"
    }
   ],
   "mimetype": "text/x-octave",
   "name": "matlab",
   "version": "0.16.9"
  }
 },
 "nbformat": 4,
 "nbformat_minor": 4
}
