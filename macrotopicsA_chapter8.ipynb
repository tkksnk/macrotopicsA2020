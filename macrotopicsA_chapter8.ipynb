{
 "cells": [
  {
   "cell_type": "markdown",
   "metadata": {
    "slideshow": {
     "slide_type": "slide"
    }
   },
   "source": [
    "<div style=\"text-align: center;\">\n",
    "# マクロ経済特論A\n",
    "<div style=\"text-align: center;\">\n",
    "第8回：「定量的マクロ経済学のフロンティア：HANKモデルとフォワード・ガイダンス・パズル」\n",
    "<br>\n",
    "<br>\n",
    "<div style=\"text-align: center;\">    \n",
    "2020年12月\n",
    "<div style=\"text-align: center;\">   \n",
    "一橋大学　砂川武貴"
   ]
  },
  {
   "cell_type": "markdown",
   "metadata": {
    "slideshow": {
     "slide_type": "slide"
    }
   },
   "source": [
    "# イントロダクション\n",
    "\n",
    "- 近年、金融政策分析において、HANK(Heterogeneous Agent New Keynesian)モデルが注目を集めている\n",
    "\n",
    "\n",
    "- HANKモデルは、連載第5回で学んだニューケインジアン・モデルに、連載第6回で学んだ不確実性と不完備市場の仮定のもとで家計の異質性を導入したものである\n",
    "\n",
    "\n",
    "- 例えば、金融政策が家計の資産分布、すなわち格差(inequality)に与える影響や、分布を通じた金融政策の波及過程(transmission mechanism of monetary policy)について考えることができる"
   ]
  },
  {
   "cell_type": "markdown",
   "metadata": {
    "slideshow": {
     "slide_type": "subslide"
    }
   },
   "source": [
    "- 標準的なニューケインジアン・モデルでは、金融政策の波及過程において、消費のオイラー方程式における異時点間の代替(intertemporal substitution)が非常に大きな役割を持っている\n",
    "\n",
    "- 例えば、中央銀行が名目金利を引き下げたとしよう\n",
    "  - このときインフレ率を一定とすると、実質金利も低下し、家計は貯蓄を減らすか借り入れをして、消費を増やそうとする\n",
    "  - しかし、不完備市場のもとで借入制約に直面している家計は、実質金利が低下しても、借り入れを行って消費を増やすことができないかもしれない\n",
    "  - 流動的な資産(現金や預金など)がなく限界消費性向の高いその日暮らし(hand-to-mouth)家計の経済全体に占める割合が高いとき、名目金利の引き下げは大きな緩和効果は持たない"
   ]
  },
  {
   "cell_type": "markdown",
   "metadata": {
    "slideshow": {
     "slide_type": "subslide"
    }
   },
   "source": [
    "- 世界金融危機以降、中央銀行は、名目金利の実行下限（ゼロ金利制約）の下で、非伝統的金融政策の一環として、経済の安定化を目的として将来の政策に関する情報を発信するようになった\n",
    "\n",
    "- これはフォワード・ガイダンス(forward guidance)と呼ばれる\n",
    "\n",
    "- 標準的なモデルにおいては、フォワード・ガイダンスは大きな緩和効果を持つ\n",
    "  - 経済がゼロ金利制約に直面していても、将来の名目金利を経済が回復した後もゼロに据え置くことを約束することで、現在の経済に緩和効果を持つ\n",
    "  - 経済の先行きを見越して行動するとき、家計や企業は将来の経済の過熱化を予測して、現在の経済活動を活発化させる"
   ]
  },
  {
   "cell_type": "markdown",
   "metadata": {
    "slideshow": {
     "slide_type": "subslide"
    }
   },
   "source": [
    "- しかし、実際の経済ではフォワード・ガイダンスの効果は必ずしも大きくない(DelNegro, Giannoni, and Paterson, 2015)\n",
    "\n",
    "- このパズルに対する1つの回答が、家計の異質性をモデルに導入することである(McKay, Nakamura, and Steinsson, 2016)\n",
    "  - 借入制約に直面しているような家計は、将来の金利低下とそれによる好況を知らされても、借り入れをして今期の消費を増やすことができない\n",
    "  - このような家計の影響が経済全体に与える影響が大きいとき、フォワード・ガイダンスの効果は限定的になる"
   ]
  },
  {
   "cell_type": "markdown",
   "metadata": {
    "slideshow": {
     "slide_type": "slide"
    }
   },
   "source": [
    "## HANKモデル\n",
    "\n",
    "- ここでは、不完備市場と所得の不確実性のもとでの家計の異質性が、フォワード・ガイダンスの効果にどのような影響を与えるのか見ていこう\n",
    "\n",
    "- モデルの定常状態は、第6回でみたビューリーモデルと基本的に同じである\n",
    "\n",
    "- また、消費やインフレ率といった各変数の現在から将来への経路を数値的に解くには、第7回で学習したモデルの移行過程の数値計算を応用する"
   ]
  },
  {
   "cell_type": "markdown",
   "metadata": {
    "slideshow": {
     "slide_type": "subslide"
    }
   },
   "source": [
    "- 第5回で学んだような、最終財生産企業と中間財生産企業、家計、政府からなるニューケインジアン・モデルを考える\n",
    "\n",
    "- ここでの違いは、家計は市場の不完備性と所得の不確実性に直面しており、それぞれの家計は異なる資産と生産性を持っているという点である"
   ]
  },
  {
   "cell_type": "markdown",
   "metadata": {
    "slideshow": {
     "slide_type": "subslide"
    }
   },
   "source": [
    "## 企業\n",
    "\n",
    "- それぞれの中間財生産企業は、異なる中間財$Y_{t}(j), j \\in [0,1]$を独占的競争下で生産し、2次の価格調整コストのもとで価格を設定する\n",
    "\n",
    "\n",
    "- 生産関数および最終財生産企業による需要関数は以下で与えられる\n",
    "\\begin{align*}\n",
    "  Y_{t}(j) &= N_{t}(j) \\\\\n",
    "  Y_{t}(j) &= \\left(\\frac{P_{t}(j)}{P_{t}}\\right)^{-1/\\nu} Y_{t}\n",
    "\\end{align*}\n",
    "  - $N_{t}(j)$: 労働投入 \n",
    "  - $P_{t}(j)$: 中間投入$Y_{t}(j)$の価格\n",
    "  - $\\nu$: 需要の価格弾力性の逆数\n",
    "  - $Y_{t}$は最終財、$P_{t}=\\left( \\int_{0}^{1} P_{t}(j)^{\\frac{\\nu-1}{\\nu}}dj \\right)^{\\frac{\\nu}{\\nu-1}}$は一般価格水準（最終財の価格）"
   ]
  },
  {
   "cell_type": "markdown",
   "metadata": {
    "slideshow": {
     "slide_type": "subslide"
    }
   },
   "source": [
    "- 中間財$j$を生産する企業は、その企業自身の生産関数と、最終財生産企業からの需要関数を制約条件として、以下の将来の期待利益の割引現在価値を最大化するように中間財価格$P_{t}(j)$を選ぶ\n",
    "$$\n",
    "  \\sum_{s=0}^{\\infty} D_{t+s} \\left( \\frac{P_{t+s}(j)}{P_{t+s}}Y_{t+s}(j)-(1-\\tau^{w})w_{t+s}N_{t+s}(j)-AC_{t+s}(j) \\right)\n",
    "$$\n",
    "  - $D_{t}=1, D_{t+s}=\\frac{1}{1+r_{t}}\\frac{1}{1+r_{t+1}}\\cdots\\frac{1}{1+r_{t+s-1}}$: 将来利益の割引因子\n",
    "  - 粗実質金利$1+r_{t}$と実質賃金率$w_{t}$は企業にとって所与とする \n",
    "\n",
    "- 価格の調整費用は、$AC_{t}(j) = \\frac{\\phi}{2}\\left( \\frac{P_{t}(j)}{P_{t-1}(j)}-\\Pi \\right)^{2}Y_{t}(j)$として定式化される\n",
    "\n",
    "- 企業は$\\tau^{w}w_{t}N_{t}(j)$の補助金を政府から受け取る"
   ]
  },
  {
   "cell_type": "markdown",
   "metadata": {
    "slideshow": {
     "slide_type": "subslide"
    }
   },
   "source": [
    "- $P_{t}(j)$について微分し整理することで、最適化の必要条件は以下の式で与えられる\n",
    "\n",
    "$$\n",
    "  0 = (1-\\nu^{-1}) + (1-\\tau^{w})\\nu^{-1}w_{t} - \\phi \\pi_{t}(1+\\pi_{t}) - \\frac{1}{1+r_{t}}\\pi_{t+1}(1+\\pi_{t+1})\\frac{Y_{t+1}}{Y_{t}}\n",
    "$$\n",
    "\n",
    "ここで、均衡では$P_{t}(j)=P_{t}$であることを利用した。これは、割引率が実質金利であることを除いては、第5回で出てきた非線形ニューケインジアン・フィリップス曲線と同じものである"
   ]
  },
  {
   "cell_type": "markdown",
   "metadata": {
    "slideshow": {
     "slide_type": "subslide"
    }
   },
   "source": [
    "- また、独占的競争下で得られる、中間財生産企業の各期における実質利益は以下で与えられる\n",
    "\n",
    "$$\n",
    "  d_{t} = Y_{t} - (1-\\tau^{w})w_{t}Y_{t}\n",
    "$$\n",
    "\n",
    "- 定常状態では、\n",
    "\n",
    "$$\n",
    "  0 = (1-\\nu^{-1}) + (1-\\tau^{w})\\nu^{-1}w\n",
    "$$"
   ]
  },
  {
   "cell_type": "markdown",
   "metadata": {
    "slideshow": {
     "slide_type": "subslide"
    }
   },
   "source": [
    "## 家計\n",
    "\n",
    "- 家計は、実質金利$r_{t}$、賃金率$w_{t}$、税$T_{t}$および配当$d_{t}$を所与として、消費$c$と労働時間$h$から得られる効用$u(c,h)$の期待割引現在価値を予算制約のもとで最大化する\n",
    "\n",
    "\n",
    "- それぞれの家計は所得の不確実性に直面しており、市場は不完備、すなわち、家計が所得リスクに備える唯一の手段は資産を購入して貯蓄を行うことである"
   ]
  },
  {
   "cell_type": "markdown",
   "metadata": {
    "slideshow": {
     "slide_type": "subslide"
    }
   },
   "source": [
    "- ベルマン方程式は以下のように書ける\n",
    "\n",
    "$$\n",
    "  V(a,s_{i}) = \\max_{c,a',h}\\left\\{ u(c,h) + \\beta \\sum_{j} p_{ij}^{s} V(a',s_{j}) \\right\\}\n",
    "$$\n",
    "subject to\n",
    "\\begin{align*}\n",
    "  c + a' &= (1+r_{t})a + w_{t}s_{i}h - T_{t}(s_{i}) + d_{t} \\\\\n",
    "  a' &\\geq 0\n",
    "\\end{align*}\n",
    "\n",
    "ここで、$a' \\geq 0$であり、家計は借り入れを行うことができないとする"
   ]
  },
  {
   "cell_type": "markdown",
   "metadata": {
    "slideshow": {
     "slide_type": "subslide"
    }
   },
   "source": [
    "- 労働生産性$s$はマルコフ連鎖に従う\n",
    "  - $s$の値が取り得る上限および下限を設定し、$N_{s}$個のグリッド$[s_{1},\\cdots,s_{N_{s}}]$で離散化する\n",
    "  - 今期の生産性$s_{i}$から次期に$s_{j}$となる確率を$p_{ij}^{s}$で表す\n",
    "  - また、価値関数$V$は今期の状態変数$(a,s_{i})$の関数となる\n",
    "  \n",
    "- 労働生産性の分布は時間によらず不変であり、$\\mu^{s}(s_{i})=\\int \\mu_{t}(a,s_{i})da$となる"
   ]
  },
  {
   "cell_type": "markdown",
   "metadata": {
    "slideshow": {
     "slide_type": "subslide"
    }
   },
   "source": [
    "## 政府\n",
    "\n",
    "- 政府の予算制約式は以下で与えられる\n",
    "\n",
    "$$\n",
    "  b_{t+1} = (1+r_{t})b_{t} - \\sum_{i}\\mu^{s}(s_{i})T_{t}(s_{i}) + \\tau^{w}w_{t}\\int N_{t}(j)dj\n",
    "$$\n",
    "\n",
    "- 中央銀行は名目金利の水準$R_{t}$を決定する。ここで、以下のフィッシャー方程式(Fisher equation)が成り立つ\n",
    "\n",
    "$$\n",
    "  1+r_{t} = \\frac{1+R_{t}}{1+\\pi_{t+1}}\n",
    "$$"
   ]
  },
  {
   "cell_type": "markdown",
   "metadata": {
    "slideshow": {
     "slide_type": "subslide"
    }
   },
   "source": [
    "- 財市場、労働市場および債券市場の市場清算条件(market clearing condition)は以下で与えられる\n",
    "\n",
    "\\begin{align*}\n",
    "  Y_{t} &= C_{t} = \\sum_{i}\\int g_{c}(a,s_{i})\\mu_{t}(a,s_{i})da \\\\\n",
    "  b_{t} &= \\sum_{i}\\int g_{a}(a,s_{i})\\mu_{t}(a,s_{i})da \\\\\n",
    "  N_{t} &= \\sum_{i}\\int s_{i}g_{h}(a,s_{i})\\mu_{t}(a,s_{i})da\n",
    "\\end{align*}\n",
    "\n",
    "また、中間財投入企業の生産関数より、$Y_{t}=N_{t}$となる"
   ]
  },
  {
   "cell_type": "markdown",
   "metadata": {
    "slideshow": {
     "slide_type": "subslide"
    }
   },
   "source": [
    "### 競争均衡の定義\n",
    "\n",
    "この不完備市場モデルにおける定常均衡は、以下の条件を満たす政策関数$a'=g_{a}(a,s)$および$h=g_{h}(a,s)$、個人の状態変数空間における確率分布$\\mu_{t}(a,s)$、実質債券の量$b_{t}$、総労働$N_{t}$、金利$r_{t}$、賃金$w_{t}$、税$T_{t}$および配当$d_{t}$によって定義される\n",
    "\n",
    "1. 実質賃金率$w_{t}$および実質金利$r_{t}$は労働市場と債券市場のそれぞれにおいて競争的に決定される\n",
    "\n",
    "2. 政府は家計から税$T_{t}$を徴収し、名目金利$R_{t}$を設定する\n",
    "\n",
    "3. 実質賃金率$w_{t}$および実質金利$r_{t}$を所与として、企業は中間財の価格を独占的競争下で最適に設定する。独占によって得られた利益は家計に配当$d_{t}$として移転される\n",
    "\n",
    "4. 政策関数$a'=g_{a}(a,l)$および$h=g_{h}(a,l)$は、賃金$w_{t}$、金利$r_{t}$、税$T_{t}$および配当$d_{t}$を所与としたときの、家計の最適化問題の解である\n",
    "\n",
    "5. 確率分布$\\mu_{t}(a,l)$は、政策関数$g_{a}(a,s)$および労働生産性$s$の推移確率に従って推移する\n",
    "\n",
    "6. 政府の実質債券供給と家計の総債券需要は一致する。また企業の総労働需要と総労働供給も一致する"
   ]
  },
  {
   "cell_type": "markdown",
   "metadata": {
    "slideshow": {
     "slide_type": "slide"
    }
   },
   "source": [
    "## 定常状態の計算\n",
    "\n",
    "- ビューリーモデルと同様に、HANKモデルの定常状態を数値的に解くことができる\n",
    "\n",
    "- 簡素化のため、定常インフレ率はゼロ($\\pi=0$)とする。このとき、名目金利は実質金利と等しくなる"
   ]
  },
  {
   "cell_type": "markdown",
   "metadata": {
    "slideshow": {
     "slide_type": "subslide"
    }
   },
   "source": [
    "- このモデルにおいても、金利・賃金などの要素価格を所与としたミクロの家計の最適化問題と、要素価格を決定するマクロの需給均衡を分けて考える\n",
    "\n",
    "- またここでは、政府の予算制約についても考える必要がある\n",
    "\n",
    "- 「外側」のマクロステップと「内側」のミクロステップの2段階に分けて計算する"
   ]
  },
  {
   "cell_type": "markdown",
   "metadata": {
    "slideshow": {
     "slide_type": "subslide"
    }
   },
   "source": [
    "- マクロステップ：労働供給が内生的であるため、労働市場と債券市場の均衡を考える必要がある\n",
    "\n",
    "- 定常状態でインフレ率がゼロの場合、労働市場の均衡条件は\n",
    "\n",
    "\\begin{align*}\n",
    "  w &= (1-\\tau^{w})^{-1}(1-\\nu) \\\\\n",
    "  N &= \\sum_{i}\\int s_{i}g_{h}(a,s_{i})\\mu(a,s_{i})da\n",
    "\\end{align*}\n",
    "\n",
    "賃金は他の条件によらず一定となり、総労働はそのような賃金のもとでの労働供給の量となる"
   ]
  },
  {
   "cell_type": "markdown",
   "metadata": {
    "slideshow": {
     "slide_type": "fragment"
    }
   },
   "source": [
    "- 債券市場の均衡条件は、\n",
    "\n",
    "\\begin{align*}\n",
    "  r \\cdot b &= \\sum_{i}\\mu^{s}(s_{i})T_{t}(s_{i}) - \\tau^{w}w\\int N_{t}(j)dj \\\\\n",
    "  b &= \\sum_{i}\\int g_{a}(a,s_{i})\\mu(a,s_{i})da\n",
    "\\end{align*}\n",
    "\n",
    "通常であれば、これらの式を満たす$(r,b)$の組を求める"
   ]
  },
  {
   "cell_type": "markdown",
   "metadata": {
    "slideshow": {
     "slide_type": "subslide"
    }
   },
   "source": [
    "- ここでは、実質債券の量の総生産量に対する比率$b_{y}=b/Y$をデータと一致させるように、税収$\\tau$を調整したい\n",
    "\n",
    "\n",
    "- このため、$T(s_{i})=\\tau \\bar{\\tau}(s_{i})$と定式化して、債券・生産比率$b_{y}$と総生産$Y$を所与としたとき、政府の予算制約式から\n",
    "\n",
    "$$\n",
    "  r \\cdot b_{y}Y = \\tau \\sum_{i} \\mu^{s}(s_{i})\\bar{\\tau}(s_{i})\n",
    "$$"
   ]
  },
  {
   "cell_type": "markdown",
   "metadata": {
    "slideshow": {
     "slide_type": "subslide"
    }
   },
   "source": [
    "- また、実質金利についても、債券市場の需要と供給を一致させるような値$b=b_{y}Y$を求める代わりに、実質金利の値$r$をターゲットと合致させる\n",
    "\n",
    "\n",
    "- 実質金利のターゲットはデータに基づいて決定し、需給が一致する均衡においてそのような実質金利が内生的に導出されるような主観的割引率$\\beta$を求める\n",
    "\n",
    "- すなわち、債券市場の均衡条件を、ターゲット$(b_{y},r)$を所与として$(\\beta,\\tau)$について解く"
   ]
  },
  {
   "cell_type": "markdown",
   "metadata": {
    "slideshow": {
     "slide_type": "subslide"
    }
   },
   "source": [
    "### カリブレーション\n",
    "\n",
    "- モデルの1期間の長さは四半期とする: このとき、実質金利の定常状態は年率2%、すなわち$1+r=1.005$\n",
    "- 定常状態のインフレ率は$\\pi=0$\n",
    "- 家計の効用関数は$u(c,h)=\\frac{c^{1-\\gamma}}{1-\\gamma}+\\frac{h^{1+\\psi}}{1+\\psi}$とし、$\\gamma=2,\\psi=2$\n",
    "- 需要の価格弾力性の逆数は$\\nu=1/6$\n",
    "- 債券・生産比率については$b_{y}=5.5/4$\n",
    "- 価格の調整コストのパラメータは$\\phi=800$"
   ]
  },
  {
   "cell_type": "markdown",
   "metadata": {
    "slideshow": {
     "slide_type": "subslide"
    }
   },
   "source": [
    "- 労働生産性の対数はAR(1)過程に従う。Floden and Linde (2001)によるPSIDの年次データを用いた推定結果を四半期変換する\n",
    "\n",
    "$$\n",
    "  \\log s' = 0.966 \\log s + \\varepsilon', \\quad \\varepsilon' \\sim N(0,0.017)\n",
    "$$\n",
    "\n",
    "- このAR(1)過程を、グリッド数$N_{s}=3, s_{i}\\in\\{s_{L},s_{M},s_{H}\\}$のマルコフ連鎖で近似した"
   ]
  },
  {
   "cell_type": "markdown",
   "metadata": {
    "slideshow": {
     "slide_type": "subslide"
    }
   },
   "source": [
    "- 政府は労働生産性が最も高い家計にのみ税金を課す。すなわち、$T(s_{i})=\\tau\\bar{\\tau}(s_{i})$としたとき、\n",
    "\n",
    "$$\n",
    "  \\mu^{s}(s_{L})\\bar{\\tau}(s_{L}) = 0, \\quad \\mu^{s}(s_{M})\\bar{\\tau}(s_{M}) = 0, \\quad \\mu^{s}(s_{H})\\bar{\\tau}(s_{H}) = 1\n",
    "$$\n",
    "\n",
    "とおき、$\\tau$については政府の予算制約式を満たすように計算した\n",
    "\n",
    "$$\n",
    "  \\tau = \\frac{r \\cdot b}{\\sum_{i} \\mu^{s}(s_{i})\\bar{\\tau}(s_{i})}\n",
    "$$"
   ]
  },
  {
   "cell_type": "markdown",
   "metadata": {
    "slideshow": {
     "slide_type": "skip"
    }
   },
   "source": [
    "- ミクロステップにおいて、家計による労働供給と実質債券需要を計算するには、ベルマン方程式を用いた動的計画法による解に加えて、資産と労働生産性の空間における定常分布を導出する必要がある"
   ]
  },
  {
   "cell_type": "markdown",
   "metadata": {
    "slideshow": {
     "slide_type": "subslide"
    }
   },
   "source": [
    "アルゴリズム\n",
    "\n",
    "\n",
    "1. 初期セットアップ: パラメータを設定する。労働生産性は$[s_{1},...,s_{N_{s}}]$のグリッドに離散化し、推移確率$p_{ij}^{s}$を求める\n",
    "\n",
    "2. グリッド生成: 個人の資産について、状態空間の評価点を$N_{a}$個のグリッドに区切る\n",
    "\n",
    "3. 収束の基準になるパラメータ$\\varepsilon$を定める"
   ]
  },
  {
   "cell_type": "markdown",
   "metadata": {
    "slideshow": {
     "slide_type": "subslide"
    }
   },
   "source": [
    "4. マクロ変数の初期値設定: \n",
    "  - 実質賃金率の値は一定とし、実質金利の値はデータから所与であり一定とする\n",
    "  - 債券市場の需給を均衡させるような割引率の初期値$\\beta_{0} \\in (\\beta_{min},\\beta_{max})$を求める\n",
    "  - $Y_{0}$を所与として、政府の予算制約式を満たす$\\tau_{0}$の値を求める。配当についても$d_{0} = Y_{0} - (1-\\tau^{w})wY_{0}$として計算する\n",
    "  \n",
    "\n",
    "5. 個人の政策関数の導出: 割引率$\\beta_{0}$および$(w,r,\\tau_{0},d_{0})$を所与として、個人の最適化問題を解く。各状態変数$(a,s)$における個人の政策関数$a'=g(a,s)$および$h=g_{h}(a,s)$を求める\n",
    "\n",
    "\n",
    "6. 定常分布の導出: 定常分布を求めて総債券需要量$b$および総生産量$Y=N$を求める\n",
    "\n",
    "\n",
    "7. 均衡条件の確認: モデルの総債券需要量$b$の総生産量$Y$に対する比率をデータの値を比較する。$|b/Y-b_{y}|<\\varepsilon$であればストップ。そうでなければ$\\beta_{0}$の値を調整して、新しい$Y$により政府の予算制約式を満たすような$\\tau_{0}$の値を求めて、ステップ4-6を繰り返す"
   ]
  },
  {
   "cell_type": "markdown",
   "metadata": {
    "slideshow": {
     "slide_type": "subslide"
    }
   },
   "source": [
    "- 数値計算上の注意点:\n",
    "  - 個人の最適化問題において、選択変数が2つであるため、離散ではなく連続にするなど、何らかの工夫が必要である\n",
    "  - 選択変数が連続の場合、補間についても工夫が必要である\n",
    "  - MNSのコードでは、endogenous gridpoint methodとshape-preserving splineが使われている"
   ]
  },
  {
   "cell_type": "markdown",
   "metadata": {
    "slideshow": {
     "slide_type": "subslide"
    }
   },
   "source": [
    "- 定常分布の計算は、ビューリーモデルの場合と基本的に同じである\n",
    "\n",
    "- 以下では、反復によるアルゴリズムのみを再掲する"
   ]
  },
  {
   "cell_type": "markdown",
   "metadata": {
    "slideshow": {
     "slide_type": "subslide"
    }
   },
   "source": [
    "アルゴリズム\n",
    "\n",
    "\n",
    "1. 初期セットアップ: 政策関数$a'=g(a,s)$および労働生産性の遷移確率$p_{ij}^{s}$から、推移確率行列$P$を求める\n",
    "\n",
    "2. 収束の基準になるパラメータ$\\varepsilon$を定める\n",
    "\n",
    "3. 状態変数空間における分布$\\pi_{0}$（ただし$\\sum_{a,s}\\mu_{0}(a,s)=1$）を当て推量する\n",
    "\n",
    "4. 推移確率行列$P$に基づき、$\\pi'_{1} = \\pi'_{0} P$を計算する\n",
    "\n",
    "5. $\\|\\pi_{1}-\\pi_{0}\\|<\\varepsilon$であればストップ。そうでなければ$\\pi_{0}=\\pi_{1}$として、ステップ4を繰り返す"
   ]
  },
  {
   "cell_type": "markdown",
   "metadata": {
    "slideshow": {
     "slide_type": "subslide"
    }
   },
   "source": [
    "<br>\n",
    "<div align=\"center\">\n",
    "<img src=\"./dist.png\",width=\"600\",height=\"400\">\n",
    "</div>"
   ]
  },
  {
   "cell_type": "markdown",
   "metadata": {
    "slideshow": {
     "slide_type": "subslide"
    }
   },
   "source": [
    "- 労働生産性の低い家計$(s=s_{L})$の多くは資産がなく借入制約に直面している一方で、労働生産性の高い家計$(s=s_{H})$は資産も多い\n",
    "  - 借入制約に直面している家計の割合は14.8%\n",
    "  \n",
    "  \n",
    "- モデルで計算される資産のジニ係数は0.63である: 労働生産性の高い慣性が、データでみられるような大きい資産格差を生じさせる"
   ]
  },
  {
   "cell_type": "markdown",
   "metadata": {
    "slideshow": {
     "slide_type": "slide"
    }
   },
   "source": [
    "## 移行過程の計算\n",
    "\n",
    "- 所得の不確実性と不完備市場の仮定のもとで、家計の異質性はフォワード・ガイダンスの効果にどのような影響を与えるのだろうか\n",
    "\n",
    "- 例えば、実質金利が将来のある時点（例えば20期目）に一時的に50bps低下し、その後すぐに元の水準に戻るということが現在（0期目）にわかっているとする"
   ]
  },
  {
   "cell_type": "markdown",
   "metadata": {
    "slideshow": {
     "slide_type": "subslide"
    }
   },
   "source": [
    "- このとき、現在から将来にかけての総生産やインフレ率といったマクロ変数はどのように反応するだろうか\n",
    "\n",
    "- この問いに答えるためには、将来の外生変数の動きについて完全予見(perfect foresight)の仮定のもとでモデルを解けばよい"
   ]
  },
  {
   "cell_type": "markdown",
   "metadata": {
    "slideshow": {
     "slide_type": "subslide"
    }
   },
   "source": [
    "- 代表的家計のニューケインジアンモデルでは、完全予見のもとでフォワード・ガイダンスは大きな効果を持つ\n",
    "\n",
    "- 対数線形化後の消費のオイラー方程式から、現在の消費は将来の金利ギャップの総和として書くことができる\n",
    "\n",
    "\\begin{align*}\n",
    "  & c_{t} = c_{t+1} - (r_{t}-r^{*}) \\\\\n",
    "  \\Leftrightarrow & c_{t} = -\\sum_{i=0}^{\\infty}(r_{t+i}-r^{*})\n",
    "\\end{align*}"
   ]
  },
  {
   "cell_type": "markdown",
   "metadata": {
    "slideshow": {
     "slide_type": "subslide"
    }
   },
   "source": [
    "- すなわち、20期目に金利ギャップがマイナスになることがわかっていれば、1～20期目の消費に対して等しく押し上げる効果がある\n",
    "\n",
    "- しかし、現実には異時点間の代替による金融政策の効果は弱いかもしれない\n",
    "\n",
    "- ここでは、HANKモデルを用いて、家計の異質性が与える影響を定量化してみよう"
   ]
  },
  {
   "cell_type": "markdown",
   "metadata": {
    "slideshow": {
     "slide_type": "subslide"
    }
   },
   "source": [
    "- 移行過程の計算は大きく分けて2つのステップからなる\n",
    "\n",
    "- まず、定常状態における均衡を計算する\n",
    "\n",
    "- 次に、この定常状態をスタートおよびゴール地点として、その間の外生変数$(w_{t},r_{t},\\tau_{t},d_{t})$の一時的な変化に伴う移行経路を導出する\n",
    "  - 計算期間には、全ての変数が定常状態へとスムーズに収束するのに十分な長さが必要となる"
   ]
  },
  {
   "cell_type": "markdown",
   "metadata": {
    "slideshow": {
     "slide_type": "subslide"
    }
   },
   "source": [
    "アルゴリズム\n",
    "\n",
    "1. 初期定常状態および最終定常状態を求める\n",
    "\n",
    "\n",
    "2. 移行過程の計算における収束の基準となるパラメータ$\\varepsilon$を定める"
   ]
  },
  {
   "cell_type": "markdown",
   "metadata": {
    "slideshow": {
     "slide_type": "subslide"
    }
   },
   "source": [
    "3. 移行過程における各期の$\\{w_{t},r_{t},\\tau_{t},d_{t}\\}_{t=1}^{T}$を当て推量する\n",
    "\n",
    "  - ここでは、$\\{\\eta_{1t},\\eta_{2t}\\}$を所与として、修正ニュートン法により以下のシステムを内生変数$\\{C_{t},N_{t},Y_{t},w_{t},r_{t},d_{t},R_{t},\\pi_{t}\\}_{t=1}^{T}$について解く\n",
    "\n",
    "  \\begin{align*}\n",
    "  C_{t}^{-\\sigma} = \\eta_{1t}\\beta(1+R_{t})C_{t+1}^{-\\sigma} \\\\\n",
    "  C_{t}^{-\\sigma}w_{t} = \\eta_{2t}N_{t}^{\\phi} \\\\\n",
    "  Y_{t} = N_{t} \\\\\n",
    "  Y_{t} = C_{t} \\\\\n",
    "  0 = (1-\\nu^{-1}) + (1-\\tau^{w})\\nu^{-1}w_{t} - \\phi \\pi_{t}(1+\\pi_{t}) - \\frac{1}{1+r_{t}}\\pi_{t+1} (1+\\pi_{t+1})\\frac{Y_{t+1}}{Y_{t}} \\\\\n",
    "  d_{t} = Y_{t} - w_{t}N_{t} \\\\\n",
    "  1+r_{t} = (1+R_{t})/(1+\\pi_{t+1}) \\\\ \n",
    "  r_{t} = r + \\epsilon_{t}\n",
    "  \\end{align*}\n",
    "\n",
    "  - また、政府の予算制約式より各期の$\\tau_{t}$を求める\n",
    "  $$\n",
    "    \\tau_{t} = \\frac{r_{t} \\cdot b_{y}Y_{t}}{\\sum_{i} \\mu^{s}(s_{i})\\bar{\\tau}(s_{i})}\n",
    "  $$"
   ]
  },
  {
   "cell_type": "markdown",
   "metadata": {
    "slideshow": {
     "slide_type": "subslide"
    }
   },
   "source": [
    "4. $\\{w_{t},r_{t},\\tau_{t},d_{t}\\}_{t=1}^{T}$を所与として、各期の政策関数を後ろ向き帰納法により求める\n",
    "  \n",
    "  a. 最終$T$期における個人の最適化問題を解く。ここで、最終定常状態の価値関数$V(a,s)$を「次期」の価値関数として計算を行う。$T$期の価値関数$V_{T}(a,s)$および政策関数$a'=g_{T}(a,s)$を導出、保存する\n",
    "  \n",
    "  b. $V_{T}(a,s)$を「次期」の価値関数として、$t=T-1$期の最適化問題を解き、$V_{T-1}(a,s)$および$a'=g_{a,T-1}(a,s), h=g_{h,T-1}(a,s)$を導出、保存する\n",
    "  \n",
    "  c. $t=T-2,T-3,\\cdots,3,2,1$と順に計算を行い、一連の政策関数$\\{g_{a,t}(a,s), g_{h,t}(a,s)\\}_{t=1}^{T}$を保存する"
   ]
  },
  {
   "cell_type": "markdown",
   "metadata": {
    "slideshow": {
     "slide_type": "subslide"
    }
   },
   "source": [
    "5. 初期定常状態における分布を$t=1$期初の分布とし、ステップ4で計算された政策関数をもとに一連の分布$\\{\\psi_{t}(a,l)\\}_{t=1}^{T}$を計算する\n",
    "\n",
    "\n",
    "6. ステップ5で計算した分布をもとに、各期における総消費および総労働供給$\\{\\tilde{C}_{t},\\tilde{N}_{t}\\}_{t=1}^{T}$を計算する。$\\max_{t}|\\tilde{C}_{t}-C_{t}|<\\varepsilon$および$\\max_{t}|\\tilde{N}_{t}-N_{t}|<\\varepsilon$であればストップ、そうでなければ$w_{t},R_{t}$を所与として、以下の変数をアップデート、ステップ3-6を繰り返す\n",
    "\n",
    "\\begin{align*}\n",
    "  \\eta_{1t} = \\frac{C_{t}^{-\\sigma}}{\\beta(1+R_{t})C_{t+1}^{-\\sigma}} \\\\\n",
    "  \\eta_{2t} = \\frac{C_{t}^{-\\sigma}w_{t}}{N_{t}^{\\phi}}\n",
    "\\end{align*}"
   ]
  },
  {
   "cell_type": "markdown",
   "metadata": {
    "slideshow": {
     "slide_type": "subslide"
    }
   },
   "source": [
    "<br>\n",
    "<div align=\"center\">\n",
    "<img src=\"./HANKtr.png\",width=\"600\",height=\"400\">\n",
    "</div>"
   ]
  },
  {
   "cell_type": "code",
   "execution_count": null,
   "metadata": {},
   "outputs": [],
   "source": []
  },
  {
   "cell_type": "code",
   "execution_count": null,
   "metadata": {},
   "outputs": [],
   "source": []
  }
 ],
 "metadata": {
  "celltoolbar": "Slideshow",
  "kernelspec": {
   "display_name": "Matlab",
   "language": "matlab",
   "name": "matlab"
  },
  "language_info": {
   "codemirror_mode": "octave",
   "file_extension": ".m",
   "help_links": [
    {
     "text": "MetaKernel Magics",
     "url": "https://metakernel.readthedocs.io/en/latest/source/README.html"
    }
   ],
   "mimetype": "text/x-octave",
   "name": "matlab",
   "version": "0.16.9"
  }
 },
 "nbformat": 4,
 "nbformat_minor": 4
}
