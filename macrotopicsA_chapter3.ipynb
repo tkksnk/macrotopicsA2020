{
 "cells": [
  {
   "cell_type": "markdown",
   "metadata": {
    "slideshow": {
     "slide_type": "slide"
    }
   },
   "source": [
    "# 第3回：動的計画法\n",
    "## 局所的近似と大域的近似\n",
    "\n",
    "\n",
    "- 動学的マクロ経済モデルの代表的な解法：動的計画法(dynamic programming)\n",
    "\n",
    "\n",
    "- 現在のマクロ経済モデルは新古典派成長モデル(neoclassical growth model)に支えられている\n",
    "  - 代表的個人（家計）と代表的企業が経済活動を無限期間行うと想定した際の動学的最適化問題\n",
    "  - 実物的景気循環理論やニューケインジアンDSGEモデルなどのベース"
   ]
  },
  {
   "cell_type": "markdown",
   "metadata": {
    "slideshow": {
     "slide_type": "subslide"
    }
   },
   "source": [
    "- 似たような経済問題であっても、モデルの特性や知りたいことに応じて解法はいくつか存在\n",
    "\n",
    "\n",
    "- 2つのアプローチ\n",
    "  - 定常状態の近傍を局所的(local)に線形近似で解くアプローチ\n",
    "  - モデルを大域的(global)に解くアプローチ\n",
    "\n",
    "\n",
    "- 動的計画法は大域的に消費者や企業の意思決定問題を解くことができる\n",
    "  - 強い非線形性が存在するモデルにおいて強みを発揮\n",
    "  - 構造推計(structural estimation)にも利用される"
   ]
  },
  {
   "cell_type": "markdown",
   "metadata": {
    "slideshow": {
     "slide_type": "slide"
    }
   },
   "source": [
    "# ロビンソン・クルーソーとベルマン方程式\n",
    "\n",
    "- 代表的個人モデル(representative agent model)を設定\n",
    "\n",
    "- 無人島で生活するロビンソン・クルーソーは、一人で生産と消費・貯蓄の計画を立てる\n",
    "\n",
    "- 他の経済主体との市場における取引は存在しない\n",
    "\n",
    "- 消費と貯蓄の最適経路(optimal path)を考えて実行する"
   ]
  },
  {
   "cell_type": "markdown",
   "metadata": {
    "slideshow": {
     "slide_type": "subslide"
    }
   },
   "source": [
    "- 時間は離散的に進む\n",
    "  - 現時点でのカレンダー年：$t>0$\n",
    "  - 必ず$T$期終了後に助けが来ることがわかっている：$t=0,...,T$\n",
    "\n",
    "\n",
    "- $t=0$期時点で手元にある資本（穀物の種）$k_{0}$を使って、最適な消費・貯蓄計画を立てる\n",
    "\n",
    "\n",
    "- この種を食べるか、種を蒔いて増やす：全ての種を食べると次期に食べるものがなくなるが、全ての種を蒔くと今日ひもじい思いをするため、ちょうどよいバランスを考える"
   ]
  },
  {
   "cell_type": "markdown",
   "metadata": {
    "slideshow": {
     "slide_type": "subslide"
    }
   },
   "source": [
    "- この状況を予算制約として表現すると、\n",
    "\n",
    "$$\n",
    "  c_{t} + k_{t+1} \\leq f(k_{t}) \\tag{1}\n",
    "$$"
   ]
  },
  {
   "cell_type": "markdown",
   "metadata": {
    "slideshow": {
     "slide_type": "fragment"
    }
   },
   "source": [
    "- $c_{t}$は$t$期における消費\n",
    "\n",
    "- $f(k_{t})$は生産関数：$k_{t}$単位の種を蒔くと$y_{t}=f(k_{t})$だけの種が収穫できる\n",
    "\n",
    "- $f'(k_{t})>0$および$f''(k_{t})<0$を満たす（収穫逓減の仮定）"
   ]
  },
  {
   "cell_type": "markdown",
   "metadata": {
    "slideshow": {
     "slide_type": "subslide"
    }
   },
   "source": [
    "- ロビンソン・クルーソーは消費から得られる効用の割引現在価値を最大化する\n",
    "\n",
    "$$\n",
    "  \\max_{\\{c_{t},k_{t+1}\\}_{t=0}^{T}} \\sum_{t=0}^{T} \\beta^{t} u(c_{t}) \\tag{2}\n",
    "$$"
   ]
  },
  {
   "cell_type": "markdown",
   "metadata": {
    "slideshow": {
     "slide_type": "fragment"
    }
   },
   "source": [
    "- 効用関数$u(c_{t})$にも、$u'(c_{t})>0$および$u''(c_{t})<0$を仮定する\n",
    "\n",
    "- (2)の目的関数を最大にする消費及び資本の経路$\\{c_{t},k_{t+1}\\}_{t=0}^{T}$を知りたい\n",
    "  - $T$期にある種は全て食べてしまうのが最適：$k_{T+1}=0$\n",
    "  - $0$期に手元にある種（無人島では種を借りることはできない）：$k_{0}>0$"
   ]
  },
  {
   "cell_type": "markdown",
   "metadata": {
    "slideshow": {
     "slide_type": "subslide"
    }
   },
   "source": [
    "- 予算制約式(1)のもとで(2)式を最大化する動学的最適化問題を解く\n",
    "\n",
    "\n",
    "- 逐次問題(sequential problem)：ラグランジュ未定乗数法を用いると、1階の必要条件であるオイラー方程式を導出できる\n",
    "\n",
    "$$\n",
    "  u'(c_{t}) = \\beta u'(c_{t+1})f'(k_{t+1})\n",
    "$$"
   ]
  },
  {
   "cell_type": "markdown",
   "metadata": {
    "slideshow": {
     "slide_type": "subslide"
    }
   },
   "source": [
    "- ここでは、別のアプローチを考える\n",
    "\n",
    "- ロビンソン・クルーソーが最適計画を立てるのに必要な情報は、無人島で生活する期間$T$とスタート時点で保有している資本$k_{0}$である"
   ]
  },
  {
   "cell_type": "markdown",
   "metadata": {
    "slideshow": {
     "slide_type": "fragment"
    }
   },
   "source": [
    "- 価値関数(value function)：$V_{0}(k_{0})$を0期において$k_{0}$だけ資本を保有していた際に達成できる最大効用と定義すると\n",
    "\n",
    "\\begin{align*}\n",
    "  V_{0}(k_{0}) &= \\max\\{u(c_{0}) + \\beta u(c_{1}) + \\beta^{2} u(c_{2}) + \\cdots + \\beta^{T} u(c_{T})\\} \\\\\n",
    "  & = \\max\\{u(c_{0}) + \\beta [u(c_{1}) + \\beta u(c_{2}) + \\cdots + \\beta^{T-1} u(c_{T})]\\} \\\\\n",
    "  & = \\max\\{u(c_{0}) + \\beta V_{1}(k_{1})\\} \\tag{4}\n",
    "\\end{align*}\n",
    "\n",
    "$V_{1}(k_{1})$は1期に$k_{1}$だけ資本を保有していた際の価値関数\n",
    "\n",
    "- 同じだけ資本を保有していても残存期間が異なれば価値関数は異なる($V_{0}(k) \\neq V_{1}(k)$)"
   ]
  },
  {
   "cell_type": "markdown",
   "metadata": {
    "slideshow": {
     "slide_type": "subslide"
    }
   },
   "source": [
    "- 0期に$k_{0}$を保有していた経済主体が$T+1$期間を通じた最適貯蓄計画を解く問題を、\n",
    "  - 0期の消費・貯蓄選択問題と\n",
    "  - 「1期に$k_{1}$を保有している際の最適貯蓄問題」に分割した\n",
    "  \n",
    "  \n",
    "- これにより、$T+1$期間の消費と貯蓄の流列を探す問題を、（$V_{1}(k)$を所与として）$k_{1}$を探す問題に変換した"
   ]
  },
  {
   "cell_type": "markdown",
   "metadata": {
    "slideshow": {
     "slide_type": "fragment"
    }
   },
   "source": [
    "- 最適性原理(principle of optimality)：0期に最適計画が出来ているのであれば、それ以降の部分問題（「1期に$k_{1}$を保有している際の最適貯蓄問題」）も最適になっている\n",
    "\n",
    "\n",
    "- (4)式はベルマン方程式(Bellman equation)とも呼ばれる"
   ]
  },
  {
   "cell_type": "markdown",
   "metadata": {
    "slideshow": {
     "slide_type": "slide"
    }
   },
   "source": [
    "# 有限期間モデルの解法\n",
    "## 後ろ向き帰納法\n",
    "\n",
    "- 我々が知りたいのは、価値関数$V_{t}(k_{t})$と、政策関数$k_{t+1}=g_{t}(k_{t})$である\n",
    "\n",
    "- 前回同様、最終期から後ろ向きに解いていけばよい\n",
    "\n",
    "- カリブレーション\n",
    "  - ロビンソン・クルーソーは、$T=10$期間後に助けが来ることを知っている\n",
    "  - 割引因子：$\\beta=0.96$\n",
    "  - 効用関数：$u(c)=\\ln c$\n",
    "  - 生産関数：$f(k)=k^{\\alpha}, \\alpha=0.4$"
   ]
  },
  {
   "cell_type": "markdown",
   "metadata": {
    "slideshow": {
     "slide_type": "subslide"
    }
   },
   "source": [
    "- 状態変数$k$を離散化して、$k^{i}\\in\\{k^{1},...,k^{I}\\}$を資本に関するグリッドとする\n",
    "\n",
    "- 最終期の$T$期では、資本を残しておく必要はない\n",
    "\n",
    "$$\n",
    "  c^{i}_{T} = f(k^{i}), \\quad V_{T}(k^{i}) = \\ln c^{i}_{T}\n",
    "$$"
   ]
  },
  {
   "cell_type": "markdown",
   "metadata": {
    "slideshow": {
     "slide_type": "subslide"
    }
   },
   "source": [
    "- $T-1$期では、前回勉強した2期間モデルと構造は全く同じである\n",
    "\n",
    "\\begin{align*}\n",
    "  V_{T-1}(k^{i}) &= \\max_{k_{T}} u(f(k^{i})-k_{T}) + \\beta V_{T}(k_{T}) \\\\\n",
    "  &= \\max_{k_{T}} \\ln(f(k^{i})-k_{T}) + \\beta \\ln(k_{T})\n",
    "\\end{align*}\n",
    "\n",
    "- 前回紹介した最適化によって、近似的な価値関数（点の集まり）$\\{V_{T-1}(k^{i})\\}_{i=1}^{I}$を得られる"
   ]
  },
  {
   "cell_type": "markdown",
   "metadata": {
    "slideshow": {
     "slide_type": "subslide"
    }
   },
   "source": [
    "- $T-2$期では、解きたい問題は\n",
    "\n",
    "$$\n",
    "  V_{T-2}(k^{i}) = \\max_{k_{T-1}} u(f(k^{i})-k_{T-1}) + \\beta V_{T-1}(k_{T-1}) \\tag{5}\n",
    "$$"
   ]
  },
  {
   "cell_type": "markdown",
   "metadata": {
    "slideshow": {
     "slide_type": "fragment"
    }
   },
   "source": [
    "- $V_{T-1}(k_{T-1})$は、$\\{V_{T-1}(k^{i})\\}_{i=1}^{I}$という離散個の点の集まり\n",
    "\n",
    "- 最適な次期の資本$k_{T-1}$が必ずしもグリッド上の値を取る保証はないため、内挿法(interpolation)が必要になる"
   ]
  },
  {
   "cell_type": "markdown",
   "metadata": {
    "slideshow": {
     "slide_type": "subslide"
    }
   },
   "source": [
    "## 内挿法と外挿法\n",
    "\n",
    "- 線形補間(linear interpolation)：$k_{T-1}\\in[k^{i},k^{i+1}]$であれば、\n",
    "\n",
    "$$\n",
    "  V_{T-1}(k_{T-1}) = V_{T-1}(k^{i})\\frac{k^{i}-k_{T-1}}{k^{i+1}-k^{i}} + V_{T-1}(k^{i+1})\\frac{k_{T-1}-k^{i}}{k^{i+1}-k^{i}}\n",
    "$$"
   ]
  },
  {
   "cell_type": "markdown",
   "metadata": {
    "slideshow": {
     "slide_type": "fragment"
    }
   },
   "source": [
    "- 線形補間は直観的で強力であるが、欠点も存在\n",
    "\n",
    "- 価値関数は微分可能な関数であるが、それを線形補間して近似した関数は、線と線のつなぎ目（グリッド上）で微分不可能になる\n",
    "\n",
    "- 微分可能性を維持する方法の1つとして、3次のスプライン補間(cubic spline interpolation)がある"
   ]
  },
  {
   "cell_type": "code",
   "execution_count": 1,
   "metadata": {
    "slideshow": {
     "slide_type": "subslide"
    }
   },
   "outputs": [
    {
     "name": "stdout",
     "output_type": "stream",
     "text": [
      "Created file '/home/takeki/Documents/CRRA.m'.\n"
     ]
    }
   ],
   "source": [
    "%%file CRRA.m\n",
    "function util = CRRA(cons,gamma)\n",
    "\n",
    "if gamma ~= 1;\n",
    "    util = cons.^(1-gamma)./(1-gamma);\n",
    "else\n",
    "    util = log(cons);\n",
    "end\n",
    "\n",
    "return;"
   ]
  },
  {
   "cell_type": "code",
   "execution_count": 24,
   "metadata": {
    "slideshow": {
     "slide_type": "subslide"
    }
   },
   "outputs": [
    {
     "name": "stdout",
     "output_type": "stream",
     "text": [
      "Created file 'C:\\Users\\takeki\\Documents\\BellmanEq.m'.\n"
     ]
    }
   ],
   "source": [
    "%%file BellmanEq.m\n",
    "function  value = BellmanEq(kprime)\n",
    "\n",
    "global beta gamma alpha delta capital vfcn kgrid\n",
    "%global beta gamma alpha capital val_fcn kgrid\n",
    "\n",
    "%% ベルマン方程式\n",
    "\n",
    "wealth = capital.^alpha;\n",
    "\n",
    "cons = wealth - kprime;\n",
    "\n",
    "% 消費が負値の場合、ペナルティを与えてその値が選ばれないようにする\n",
    "if cons > 0.0\n",
    "    util = CRRA(cons, gamma);\n",
    "else\n",
    "    util = -10000.0;\n",
    "end\n",
    "\n",
    "% 次期の価値関数を線形補間\n",
    "%vnext = interp1(kgrid, val_fcn, kprime, 'linear', 'extrap');\n",
    "\n",
    "% 次期の価値関数をスプライン補間\n",
    "%vnext = interp1(kgrid, val_fcn, kprime, 'spline');\n",
    "vnext = interp1(kgrid, vfcn, kprime, 'spline');\n",
    "\n",
    "value = util + beta.*vnext;\n",
    "\n",
    "%% トリック(1): k'は正の値しか取らないので、ペナルティを与えてその値が選ばれないようにする\n",
    "if kprime < 0\n",
    "    value = -1000000.0;\n",
    "end\n",
    "\n",
    "%% トリック(2): \"最小化\"をするので符号を反転\n",
    "value = -1*value;"
   ]
  },
  {
   "cell_type": "markdown",
   "metadata": {
    "slideshow": {
     "slide_type": "slide"
    }
   },
   "source": [
    "# 無限期間モデル（新古典派成長モデル）\n",
    "\n",
    "- ロビンソン・クルーソーの無人島生活と違って、われわれが生活する社会では明確な最終期は存在しない\n",
    "\n",
    "- あるいは、自分の世代から子供、孫、またその子供と続く王朝的な経済活動を考える\n",
    "\n",
    "- 無限期間モデル(infinite horizon model)では、そのような永続的な経済活動を考える"
   ]
  },
  {
   "cell_type": "markdown",
   "metadata": {
    "slideshow": {
     "slide_type": "subslide"
    }
   },
   "source": [
    "- 代表的個人が存在する経済を無限期間に拡張する\n",
    "\n",
    "- ロビンソン・クルーソーは無限期間の消費から得られる効用の割引現在価値を最大化するように、消費と貯蓄を選択する\n",
    "\n",
    "$$\n",
    "  \\max_{\\{c_{t},k_{t+1}\\}_{t=0}^{\\infty}} \\sum_{t=0}^{\\infty} \\beta^{t} u(c_{t})\n",
    "$$\n",
    "\n",
    "subject to\n",
    "\n",
    "$$\n",
    "  c_{t} + k_{t+1} \\leq f(k_{t}) + (1-\\delta)k_{t}, k_{0} \\text{ given.}\n",
    "$$\n",
    "\n",
    "ここで、資本$k_{t}$は財$f(k_{t})$を生み出すが、$\\delta$の割合で減耗する"
   ]
  },
  {
   "cell_type": "markdown",
   "metadata": {
    "slideshow": {
     "slide_type": "subslide"
    }
   },
   "source": [
    "- これをベルマン方程式の形で書き換えると\n",
    "\n",
    "$$\n",
    "  V(k_{t}) = \\max\\{u(f(k_{t})+(1-\\delta)k_{t}-k_{t+1}) + \\beta V(k_{t+1})\\}\n",
    "$$\n",
    "\n",
    "あるいは、経済主体の意思決定を再帰的(revursive)に書き直すと\n",
    "\n",
    "$$\n",
    "  V(k) = \\max\\{u(f(k)+(1-\\delta)k-k') + \\beta V(k')\\} \\tag{6}\n",
    "$$\n",
    "\n",
    "- 時間をあらわすサブスクリプト$t+1$の代わりに、次期の変数を$k'$と表記している：有限期間モデルでは、時間が状態変数の一つとなっていたが、ここでは時間を明示的に書く必要がない"
   ]
  },
  {
   "cell_type": "markdown",
   "metadata": {
    "slideshow": {
     "slide_type": "slide"
    }
   },
   "source": [
    "# 無限期間モデルの解法\n",
    "## ベルマン方程式の特徴付け\n",
    "\n",
    "- 動的計画法及びその数値計算を正しく使うためには、理論的な理解が重要になってくる\n",
    "\n",
    "- ここではベルマン方程式の重要な性質について、直観的な結果だけ証明なしで紹介する\n",
    "  - 動的計画法について詳細な理解が得たいのであれば、Stokey et al.(1989)にじっくりと取り組むこと"
   ]
  },
  {
   "cell_type": "markdown",
   "metadata": {
    "slideshow": {
     "slide_type": "subslide"
    }
   },
   "source": [
    "- (6)式の解法は、有限期間モデルの後ろ向き帰納法と似ている\n",
    "\n",
    "- 価値関数反復法(value function iteration, VFI)には昔から多くの研究の蓄積があり、その長所と短所もはっきりしている"
   ]
  },
  {
   "cell_type": "markdown",
   "metadata": {
    "slideshow": {
     "slide_type": "subslide"
    }
   },
   "source": [
    "- 有限期間モデルの場合には、$V_{T}(k)$から始まって後ろ向きに$V_{T-1}(k),V_{T-2}(k),...,V_{0}(k)$と計算することで、全期間の価値関数を計算することができた"
   ]
  },
  {
   "cell_type": "markdown",
   "metadata": {
    "slideshow": {
     "slide_type": "fragment"
    }
   },
   "source": [
    "- 無限期間モデルの場合には、任意に価値関数$V^{(0)}(k)$を推測して、有限期間モデルの場合と同じように\n",
    "\n",
    "$$\n",
    "  V^{(1)}(k) = \\max_{k'} u(c) + \\beta V^{(0)}(k')\n",
    "$$\n",
    "\n",
    "を計算する"
   ]
  },
  {
   "cell_type": "markdown",
   "metadata": {
    "slideshow": {
     "slide_type": "fragment"
    }
   },
   "source": [
    "- その後、得られた$V^{(1)}(k)$を右辺に代入して、\n",
    "\n",
    "$$\n",
    "  V^{(2)}(k) = \\max_{k'} u(c) + \\beta V^{(1)}(k')\n",
    "$$\n",
    "\n",
    "を同じように計算する\n",
    "\n",
    "- 縮小写像の性質(contraction mapping property)により、「一定の条件下において」、この繰り返し計算により得られた$V^{(0)}(k),V^{(1)}(k),...$は真の価値関数に収束(converge)する"
   ]
  },
  {
   "cell_type": "markdown",
   "metadata": {
    "slideshow": {
     "slide_type": "subslide"
    }
   },
   "source": [
    "- 多くの数値計算手法では、もっともらしい値が得られていても本当に真の値に収束しているのか、理論的にきちんと確認できないことが多い\n",
    "\n",
    "- VFIの縮小写像の性質は、モデルをベルマン方程式の形にして一定の条件を満たすことができれば、数値的に分析可能にしてくれるという意味で極めて強い性質である"
   ]
  },
  {
   "cell_type": "markdown",
   "metadata": {
    "slideshow": {
     "slide_type": "subslide"
    }
   },
   "source": [
    "## 数値計算\n",
    "\n",
    "### 状態変数と操作変数を離散化する\n",
    "\n",
    "- $u(c)=\\ln c, f(k)=k^{\\alpha}, \\delta=1$と特定化した場合、次のような解析的解が存在する\n",
    "\n",
    "\\begin{align*}\n",
    "  V(k) &= A + B\\ln k, \\\\\n",
    "  A &= (1-\\beta)^{-1}\\big[\\ln(1-\\alpha\\beta) + \\frac{\\alpha\\beta}{1-\\alpha\\beta}\\ln\\alpha\\beta\\big], \\quad B = \\frac{\\alpha}{1-\\alpha\\beta}, \\\\\n",
    "  k' &= \\alpha\\beta k^{\\alpha}\n",
    "\\end{align*}\n"
   ]
  },
  {
   "cell_type": "markdown",
   "metadata": {
    "slideshow": {
     "slide_type": "fragment"
    }
   },
   "source": [
    "- 近似的な計算によって得られた数値解と解析的解がどの程度近いかを確認する"
   ]
  },
  {
   "cell_type": "markdown",
   "metadata": {
    "slideshow": {
     "slide_type": "subslide"
    }
   },
   "source": [
    "- 状態変数$k$および操作変数$k'$を$I$個のグリッド$k^{i}\\in\\{k^{1},...,k^{I}\\}$で離散化する\n",
    "  - グリッドの下限については、正値とする：$k^{1}>0$\n",
    "  - 上限については、場合によっては試行錯誤が必要になる：政策関数と45度線が交わる点の右側（資本が減少していく）に設定"
   ]
  },
  {
   "cell_type": "markdown",
   "metadata": {
    "slideshow": {
     "slide_type": "subslide"
    }
   },
   "source": [
    "- アルゴリズム\n",
    "\n",
    "\n",
    "1. グリッド生成：状態変数および操作変数をそれぞれ$I=J=10000$個のグリッドに区切る。また、グリッド上における価値関数$V^{(0)}(k^{i})$の初期値を当て推量(initial guess)する\n",
    "\n",
    "2. 収束の基準：収束の基準になるパラメータ$\\varepsilon=10^{-5}$を与える\n",
    "\n",
    "3. 効用関数を設定：効用関数$u([k^{i}]^{\\alpha}+(1-\\delta)k^{i}-k^{j})$を状態変数と操作変数の全てのグリッド($I \\times J$個)上で評価する\n",
    "\n",
    "4. 価値関数の組み合わせを計算：各状態変数$k^{i}$について、\n",
    "\n",
    "$$\n",
    "  \\tilde{V}(k^{i},k^{j}) = u([k^{i}]^{\\alpha}+(1-\\delta)k^{i}-k^{j}) + \\beta V^{(0)}(k^{j})\n",
    "$$\n",
    "\n",
    "を計算する\n",
    "\n",
    "5. 価値関数を最大にする貯蓄を探す：各$k^{i}$について、$V^{(1)}(k^{i})=\\max_{k^{j}}\\tilde{V}(k^{i},k^{j})$を計算する\n",
    "\n",
    "6. 全ての$k^{i}$について$\\|V^{(0)}(k^{i})-V^{(1)}(k^{i})\\|<\\varepsilon$であればストップ。そうでなければ、$V^{(1)}(k^{i})$を$V^{(0)}(k^{i})$に代入して、ステップ4-5を繰り返す"
   ]
  },
  {
   "cell_type": "code",
   "execution_count": 1,
   "metadata": {
    "slideshow": {
     "slide_type": "subslide"
    }
   },
   "outputs": [
    {
     "name": "stdout",
     "output_type": "stream",
     "text": [
      "\n"
     ]
    }
   ],
   "source": [
    "%% *** カリブレーション ***\n",
    "beta  = 0.96; % 割引因子\n",
    "gamma = 1.0;  % 相対的危険回避度(異時点間の代替の弾力性の逆数)\n",
    "alpha = 0.40; % 資本分配率\n",
    "delta = 1.00; % 固定資本減耗(0.08)"
   ]
  },
  {
   "cell_type": "code",
   "execution_count": 2,
   "metadata": {
    "slideshow": {
     "slide_type": "fragment"
    }
   },
   "outputs": [
    {
     "name": "stdout",
     "output_type": "stream",
     "text": [
      "\n"
     ]
    }
   ],
   "source": [
    "% *** 離散化用のパラメータ ***\n",
    "nk   = 10001;  % グリッドの数\n",
    "kmax = 0.5;   % 資本グリッドの最大値\n",
    "%kmax = 10.0; % 資本グリッドの最大値(固定資本減耗=0.08の場合に使用)\n",
    "kmin = 0.05;  % 資本グリッドの最小値 (0にすると生産が出来なくなる)"
   ]
  },
  {
   "cell_type": "code",
   "execution_count": 3,
   "metadata": {
    "slideshow": {
     "slide_type": "fragment"
    }
   },
   "outputs": [
    {
     "name": "stdout",
     "output_type": "stream",
     "text": [
      "\n"
     ]
    }
   ],
   "source": [
    "% *** 収束の基準 ***\n",
    "it = 1;          % ループ・カウンター\n",
    "maxit = 1000;    % 繰り返し計算の最大値\n",
    "tol  = 1.0e-005; % 許容誤差(STEP 2)\n",
    "dif1 = 1;        % 価値関数の繰り返し誤差\n",
    "dif2 = 1.0;      % 政策関数の繰り返し誤差\n",
    "count = 1;"
   ]
  },
  {
   "cell_type": "code",
   "execution_count": 4,
   "metadata": {
    "slideshow": {
     "slide_type": "subslide"
    }
   },
   "outputs": [
    {
     "name": "stdout",
     "output_type": "stream",
     "text": [
      "\n"
     ]
    }
   ],
   "source": [
    "%% STEP 1(a): グリッド生成\n",
    "kgrid = linspace(kmin, kmax, nk)';"
   ]
  },
  {
   "cell_type": "code",
   "execution_count": 5,
   "metadata": {
    "slideshow": {
     "slide_type": "fragment"
    }
   },
   "outputs": [
    {
     "name": "stdout",
     "output_type": "stream",
     "text": [
      "\n"
     ]
    }
   ],
   "source": [
    "%% STEP 1(b): 価値関数・政策関数の初期値を設定\n",
    "vfcn  = zeros(nk, 1);\n",
    "pfcn  = zeros(nk, 1);\n",
    "Tvfcn = zeros(nk, 1);\n",
    "Tpfcn = zeros(nk, 1);\n",
    "vkp   = zeros(nk, nk);\n",
    "val_tmp = zeros(nk, 4);"
   ]
  },
  {
   "cell_type": "code",
   "execution_count": 8,
   "metadata": {
    "slideshow": {
     "slide_type": "fragment"
    }
   },
   "outputs": [
    {
     "name": "stdout",
     "output_type": "stream",
     "text": [
      "\n"
     ]
    }
   ],
   "source": [
    "%% 解析的解\n",
    "AA = (1.0-beta).^(-1) * (log(1.0-alpha*beta) + ((alpha*beta)/(1.0-alpha*beta))*log(alpha*beta));\n",
    "BB = alpha/(1.0-alpha*beta);\n",
    "v_true = AA + BB*log(kgrid);\n",
    "p_true = beta*alpha*(kgrid.^alpha);"
   ]
  },
  {
   "cell_type": "code",
   "execution_count": 6,
   "metadata": {
    "slideshow": {
     "slide_type": "subslide"
    }
   },
   "outputs": [
    {
     "name": "stdout",
     "output_type": "stream",
     "text": [
      "\n"
     ]
    }
   ],
   "source": [
    "%% STEP 3: 効用関数の組み合わせ\n",
    "\n",
    "% 効用関数の初期値 (消費が0以下になる組み合わせにはペナルティ)\n",
    "util = -10000.0*ones(nk, nk);\n",
    "\n",
    "% 消費が正値になる(k,k')の組み合わせについて効用を計算\n",
    "for i = 1:nk\n",
    "    %  あらゆる操作変数k'について:\n",
    "    for j = 1:nk\n",
    "        wealth = kgrid(i).^alpha + (1.0-delta).*kgrid(i);\n",
    "        cons = wealth - kgrid(j);\n",
    "        if cons > 0\n",
    "           util(j,i) = CRRA(cons, gamma);\n",
    "        end\n",
    "    end\n",
    "end"
   ]
  },
  {
   "cell_type": "code",
   "execution_count": 7,
   "metadata": {
    "slideshow": {
     "slide_type": "subslide"
    }
   },
   "outputs": [
    {
     "name": "stdout",
     "output_type": "stream",
     "text": [
      "iteration index: 1, iteration diff of value: Inf, iteration diff of policy: Inf \n",
      "iteration index: 2, iteration diff of value: 2.744248e+00, iteration diff of policy: 3.501000e+00 \n",
      "iteration index: 3, iteration diff of value: 7.753162e-01, iteration diff of policy: 1.921494e-01 \n",
      "iteration index: 4, iteration diff of value: 4.315925e-01, iteration diff of policy: 5.373336e-02 \n",
      "iteration index: 5, iteration diff of value: 2.924673e-01, iteration diff of policy: 1.871538e-02 \n",
      "iteration index: 6, iteration diff of value: 2.181128e-01, iteration diff of policy: 7.137193e-03 \n",
      "iteration index: 7, iteration diff of value: 1.721692e-01, iteration diff of policy: 2.957365e-03 \n",
      "iteration index: 8, iteration diff of value: 1.410948e-01, iteration diff of policy: 1.325772e-03 \n",
      "iteration index: 9, iteration diff of value: 1.187326e-01, iteration diff of policy: 7.694938e-04 \n",
      "iteration index: 10, iteration diff of value: 1.018964e-01, iteration diff of policy: 3.992724e-04 \n",
      "iteration index: 11, iteration diff of value: 8.877830e-02, iteration diff of policy: 3.871301e-04 \n",
      "iteration index: 12, iteration diff of value: 7.827906e-02, iteration diff of policy: 3.869803e-04 \n",
      "iteration index: 13, iteration diff of value: 6.969289e-02, iteration diff of policy: 3.796347e-04 \n",
      "iteration index: 14, iteration diff of value: 6.254631e-02, iteration diff of policy: 3.866810e-04 \n",
      "iteration index: 15, iteration diff of value: 5.651003e-02, iteration diff of policy: 3.257211e-04 \n",
      "iteration index: 16, iteration diff of value: 5.134797e-02, iteration diff of policy: 2.818401e-04 \n",
      "iteration index: 17, iteration diff of value: 4.688654e-02, iteration diff of policy: 3.868306e-04 \n",
      "iteration index: 18, iteration diff of value: 4.299518e-02, iteration diff of policy: 2.292468e-04 \n",
      "iteration index: 19, iteration diff of value: 3.957389e-02, iteration diff of policy: 2.407833e-04 \n",
      "iteration index: 20, iteration diff of value: 3.654472e-02, iteration diff of policy: 0 \n",
      "iteration index: 21, iteration diff of value: 3.384604e-02, iteration diff of policy: 0 \n",
      "iteration index: 22, iteration diff of value: 3.142846e-02, iteration diff of policy: 0 \n",
      "iteration index: 23, iteration diff of value: 2.925198e-02, iteration diff of policy: 0 \n",
      "iteration index: 24, iteration diff of value: 2.728380e-02, iteration diff of policy: 0 \n",
      "iteration index: 25, iteration diff of value: 2.549680e-02, iteration diff of policy: 0 \n",
      "iteration index: 26, iteration diff of value: 2.386836e-02, iteration diff of policy: 0 \n",
      "iteration index: 27, iteration diff of value: 2.237946e-02, iteration diff of policy: 0 \n",
      "iteration index: 28, iteration diff of value: 2.101400e-02, iteration diff of policy: 0 \n",
      "iteration index: 29, iteration diff of value: 1.975824e-02, iteration diff of policy: 0 \n",
      "iteration index: 30, iteration diff of value: 1.860040e-02, iteration diff of policy: 0 \n",
      "iteration index: 31, iteration diff of value: 1.753031e-02, iteration diff of policy: 0 \n",
      "iteration index: 32, iteration diff of value: 1.653916e-02, iteration diff of policy: 0 \n",
      "iteration index: 33, iteration diff of value: 1.561927e-02, iteration diff of policy: 0 \n",
      "iteration index: 34, iteration diff of value: 1.476390e-02, iteration diff of policy: 0 \n",
      "iteration index: 35, iteration diff of value: 1.396713e-02, iteration diff of policy: 0 \n",
      "iteration index: 36, iteration diff of value: 1.322375e-02, iteration diff of policy: 0 \n",
      "iteration index: 37, iteration diff of value: 1.252912e-02, iteration diff of policy: 0 \n",
      "iteration index: 38, iteration diff of value: 1.187912e-02, iteration diff of policy: 0 \n",
      "iteration index: 39, iteration diff of value: 1.127007e-02, iteration diff of policy: 0 \n",
      "iteration index: 40, iteration diff of value: 1.069870e-02, iteration diff of policy: 0 \n",
      "iteration index: 41, iteration diff of value: 1.016203e-02, iteration diff of policy: 0 \n",
      "iteration index: 42, iteration diff of value: 9.657407e-03, iteration diff of policy: 0 \n",
      "iteration index: 43, iteration diff of value: 9.182433e-03, iteration diff of policy: 0 \n",
      "iteration index: 44, iteration diff of value: 8.734927e-03, iteration diff of policy: 0 \n",
      "iteration index: 45, iteration diff of value: 8.312918e-03, iteration diff of policy: 0 \n",
      "iteration index: 46, iteration diff of value: 7.914607e-03, iteration diff of policy: 0 \n",
      "iteration index: 47, iteration diff of value: 7.538360e-03, iteration diff of policy: 0 \n",
      "iteration index: 48, iteration diff of value: 7.182680e-03, iteration diff of policy: 0 \n",
      "iteration index: 49, iteration diff of value: 6.846199e-03, iteration diff of policy: 0 \n",
      "iteration index: 50, iteration diff of value: 6.527661e-03, iteration diff of policy: 0 \n",
      "iteration index: 51, iteration diff of value: 6.225914e-03, iteration diff of policy: 0 \n",
      "iteration index: 52, iteration diff of value: 5.939896e-03, iteration diff of policy: 0 \n",
      "iteration index: 53, iteration diff of value: 5.668629e-03, iteration diff of policy: 0 \n",
      "iteration index: 54, iteration diff of value: 5.411210e-03, iteration diff of policy: 0 \n",
      "iteration index: 55, iteration diff of value: 5.166803e-03, iteration diff of policy: 0 \n",
      "iteration index: 56, iteration diff of value: 4.934634e-03, iteration diff of policy: 0 \n",
      "iteration index: 57, iteration diff of value: 4.713987e-03, iteration diff of policy: 0 \n",
      "iteration index: 58, iteration diff of value: 4.504195e-03, iteration diff of policy: 0 \n",
      "iteration index: 59, iteration diff of value: 4.304638e-03, iteration diff of policy: 0 \n",
      "iteration index: 60, iteration diff of value: 4.114740e-03, iteration diff of policy: 0 \n",
      "iteration index: 61, iteration diff of value: 3.933963e-03, iteration diff of policy: 0 \n",
      "iteration index: 62, iteration diff of value: 3.761806e-03, iteration diff of policy: 0 \n",
      "iteration index: 63, iteration diff of value: 3.597800e-03, iteration diff of policy: 0 \n",
      "iteration index: 64, iteration diff of value: 3.441506e-03, iteration diff of policy: 0 \n",
      "iteration index: 65, iteration diff of value: 3.292514e-03, iteration diff of policy: 0 \n",
      "iteration index: 66, iteration diff of value: 3.150441e-03, iteration diff of policy: 0 \n",
      "iteration index: 67, iteration diff of value: 3.014925e-03, iteration diff of policy: 0 \n",
      "iteration index: 68, iteration diff of value: 2.885628e-03, iteration diff of policy: 0 \n",
      "iteration index: 69, iteration diff of value: 2.762232e-03, iteration diff of policy: 0 \n",
      "iteration index: 70, iteration diff of value: 2.644438e-03, iteration diff of policy: 0 \n",
      "iteration index: 71, iteration diff of value: 2.531965e-03, iteration diff of policy: 0 \n",
      "iteration index: 72, iteration diff of value: 2.424548e-03, iteration diff of policy: 0 \n",
      "iteration index: 73, iteration diff of value: 2.321936e-03, iteration diff of policy: 0 \n",
      "iteration index: 74, iteration diff of value: 2.223895e-03, iteration diff of policy: 0 \n",
      "iteration index: 75, iteration diff of value: 2.130202e-03, iteration diff of policy: 0 \n",
      "iteration index: 76, iteration diff of value: 2.040647e-03, iteration diff of policy: 0 \n",
      "iteration index: 77, iteration diff of value: 1.955031e-03, iteration diff of policy: 0 \n",
      "iteration index: 78, iteration diff of value: 1.873168e-03, iteration diff of policy: 0 \n",
      "iteration index: 79, iteration diff of value: 1.794879e-03, iteration diff of policy: 0 \n",
      "iteration index: 80, iteration diff of value: 1.719997e-03, iteration diff of policy: 0 \n",
      "iteration index: 81, iteration diff of value: 1.648362e-03, iteration diff of policy: 0 \n",
      "iteration index: 82, iteration diff of value: 1.579823e-03, iteration diff of policy: 0 \n",
      "iteration index: 83, iteration diff of value: 1.514238e-03, iteration diff of policy: 0 \n",
      "iteration index: 84, iteration diff of value: 1.451471e-03, iteration diff of policy: 0 \n",
      "iteration index: 85, iteration diff of value: 1.391392e-03, iteration diff of policy: 0 \n",
      "iteration index: 86, iteration diff of value: 1.333881e-03, iteration diff of policy: 0 \n",
      "iteration index: 87, iteration diff of value: 1.278820e-03, iteration diff of policy: 0 \n",
      "iteration index: 88, iteration diff of value: 1.226099e-03, iteration diff of policy: 0 \n",
      "iteration index: 89, iteration diff of value: 1.175613e-03, iteration diff of policy: 0 \n",
      "iteration index: 90, iteration diff of value: 1.127264e-03, iteration diff of policy: 0 \n",
      "iteration index: 91, iteration diff of value: 1.080955e-03, iteration diff of policy: 0 \n",
      "iteration index: 92, iteration diff of value: 1.036596e-03, iteration diff of policy: 0 \n",
      "iteration index: 93, iteration diff of value: 9.941016e-04, iteration diff of policy: 0 \n",
      "iteration index: 94, iteration diff of value: 9.533898e-04, iteration diff of policy: 0 \n",
      "iteration index: 95, iteration diff of value: 9.143824e-04, iteration diff of policy: 0 \n",
      "iteration index: 96, iteration diff of value: 8.770052e-04, iteration diff of policy: 0 \n",
      "iteration index: 97, iteration diff of value: 8.411873e-04, iteration diff of policy: 0 \n",
      "iteration index: 98, iteration diff of value: 8.068611e-04, iteration diff of policy: 0 \n",
      "iteration index: 99, iteration diff of value: 7.739621e-04, iteration diff of policy: 0 \n",
      "iteration index: 100, iteration diff of value: 7.424290e-04, iteration diff of policy: 0 \n",
      "iteration index: 101, iteration diff of value: 7.122031e-04, iteration diff of policy: 0 \n",
      "iteration index: 102, iteration diff of value: 6.832284e-04, iteration diff of policy: 0 \n",
      "iteration index: 103, iteration diff of value: 6.554514e-04, iteration diff of policy: 0 \n",
      "iteration index: 104, iteration diff of value: 6.288212e-04, iteration diff of policy: 0 \n",
      "iteration index: 105, iteration diff of value: 6.032890e-04, iteration diff of policy: 0 \n",
      "iteration index: 106, iteration diff of value: 5.788083e-04, iteration diff of policy: 0 \n",
      "iteration index: 107, iteration diff of value: 5.553345e-04, iteration diff of policy: 0 \n",
      "iteration index: 108, iteration diff of value: 5.328252e-04, iteration diff of policy: 0 \n",
      "iteration index: 109, iteration diff of value: 5.112398e-04, iteration diff of policy: 0 \n",
      "iteration index: 110, iteration diff of value: 4.905394e-04, iteration diff of policy: 0 \n",
      "iteration index: 111, iteration diff of value: 4.706870e-04, iteration diff of policy: 0 \n",
      "iteration index: 112, iteration diff of value: 4.516469e-04, iteration diff of policy: 0 \n",
      "iteration index: 113, iteration diff of value: 4.333853e-04, iteration diff of policy: 0 \n",
      "iteration index: 114, iteration diff of value: 4.158696e-04, iteration diff of policy: 0 \n",
      "iteration index: 115, iteration diff of value: 3.990689e-04, iteration diff of policy: 0 \n",
      "iteration index: 116, iteration diff of value: 3.829533e-04, iteration diff of policy: 0 \n",
      "iteration index: 117, iteration diff of value: 3.674944e-04, iteration diff of policy: 0 \n",
      "iteration index: 118, iteration diff of value: 3.526651e-04, iteration diff of policy: 0 \n",
      "iteration index: 119, iteration diff of value: 3.384391e-04, iteration diff of policy: 0 \n",
      "iteration index: 120, iteration diff of value: 3.247916e-04, iteration diff of policy: 0 \n",
      "iteration index: 121, iteration diff of value: 3.116987e-04, iteration diff of policy: 0 \n",
      "iteration index: 122, iteration diff of value: 2.991375e-04, iteration diff of policy: 0 \n",
      "iteration index: 123, iteration diff of value: 2.870862e-04, iteration diff of policy: 0 \n",
      "iteration index: 124, iteration diff of value: 2.755236e-04, iteration diff of policy: 0 \n",
      "iteration index: 125, iteration diff of value: 2.644298e-04, iteration diff of policy: 0 \n",
      "iteration index: 126, iteration diff of value: 2.537855e-04, iteration diff of policy: 0 \n",
      "iteration index: 127, iteration diff of value: 2.435723e-04, iteration diff of policy: 0 \n",
      "iteration index: 128, iteration diff of value: 2.337724e-04, iteration diff of policy: 0 \n",
      "iteration index: 129, iteration diff of value: 2.243691e-04, iteration diff of policy: 0 \n",
      "iteration index: 130, iteration diff of value: 2.153460e-04, iteration diff of policy: 0 \n",
      "iteration index: 131, iteration diff of value: 2.066877e-04, iteration diff of policy: 0 \n",
      "iteration index: 132, iteration diff of value: 1.983792e-04, iteration diff of policy: 0 \n",
      "iteration index: 133, iteration diff of value: 1.904062e-04, iteration diff of policy: 0 \n",
      "iteration index: 134, iteration diff of value: 1.827552e-04, iteration diff of policy: 0 \n",
      "iteration index: 135, iteration diff of value: 1.754129e-04, iteration diff of policy: 0 \n",
      "iteration index: 136, iteration diff of value: 1.683669e-04, iteration diff of policy: 0 \n",
      "iteration index: 137, iteration diff of value: 1.616050e-04, iteration diff of policy: 0 \n",
      "iteration index: 138, iteration diff of value: 1.551157e-04, iteration diff of policy: 0 \n",
      "iteration index: 139, iteration diff of value: 1.488880e-04, iteration diff of policy: 0 \n",
      "iteration index: 140, iteration diff of value: 1.429112e-04, iteration diff of policy: 0 \n",
      "iteration index: 141, iteration diff of value: 1.371751e-04, iteration diff of policy: 0 \n",
      "iteration index: 142, iteration diff of value: 1.316701e-04, iteration diff of policy: 0 \n",
      "iteration index: 143, iteration diff of value: 1.263866e-04, iteration diff of policy: 0 \n",
      "iteration index: 144, iteration diff of value: 1.213158e-04, iteration diff of policy: 0 \n",
      "iteration index: 145, iteration diff of value: 1.164491e-04, iteration diff of policy: 0 \n",
      "iteration index: 146, iteration diff of value: 1.117781e-04, iteration diff of policy: 0 \n",
      "iteration index: 147, iteration diff of value: 1.072950e-04, iteration diff of policy: 0 \n",
      "iteration index: 148, iteration diff of value: 1.029921e-04, iteration diff of policy: 0 \n",
      "iteration index: 149, iteration diff of value: 9.886225e-05, iteration diff of policy: 0 \n",
      "iteration index: 150, iteration diff of value: 9.489838e-05, iteration diff of policy: 0 \n",
      "iteration index: 151, iteration diff of value: 9.109380e-05, iteration diff of policy: 0 \n",
      "iteration index: 152, iteration diff of value: 8.744208e-05, iteration diff of policy: 0 \n",
      "iteration index: 153, iteration diff of value: 8.393706e-05, iteration diff of policy: 0 \n",
      "iteration index: 154, iteration diff of value: 8.057281e-05, iteration diff of policy: 0 \n",
      "iteration index: 155, iteration diff of value: 7.734367e-05, iteration diff of policy: 0 \n",
      "iteration index: 156, iteration diff of value: 7.424418e-05, iteration diff of policy: 0 \n",
      "iteration index: 157, iteration diff of value: 7.126912e-05, iteration diff of policy: 0 \n",
      "iteration index: 158, iteration diff of value: 6.841348e-05, iteration diff of policy: 0 \n",
      "iteration index: 159, iteration diff of value: 6.567245e-05, iteration diff of policy: 0 \n",
      "iteration index: 160, iteration diff of value: 6.304141e-05, iteration diff of policy: 0 \n",
      "iteration index: 161, iteration diff of value: 6.051594e-05, iteration diff of policy: 0 \n",
      "iteration index: 162, iteration diff of value: 5.809179e-05, iteration diff of policy: 0 \n",
      "iteration index: 163, iteration diff of value: 5.576488e-05, iteration diff of policy: 0 \n",
      "iteration index: 164, iteration diff of value: 5.353130e-05, iteration diff of policy: 0 \n",
      "iteration index: 165, iteration diff of value: 5.138729e-05, iteration diff of policy: 0 \n",
      "iteration index: 166, iteration diff of value: 4.932927e-05, iteration diff of policy: 0 \n",
      "iteration index: 167, iteration diff of value: 4.735376e-05, iteration diff of policy: 0 \n",
      "iteration index: 168, iteration diff of value: 4.545746e-05, iteration diff of policy: 0 \n",
      "iteration index: 169, iteration diff of value: 4.363717e-05, iteration diff of policy: 0 \n",
      "iteration index: 170, iteration diff of value: 4.188986e-05, iteration diff of policy: 0 \n",
      "iteration index: 171, iteration diff of value: 4.021258e-05, iteration diff of policy: 0 \n",
      "iteration index: 172, iteration diff of value: 3.860253e-05, iteration diff of policy: 0 \n",
      "iteration index: 173, iteration diff of value: 3.705699e-05, iteration diff of policy: 0 \n",
      "iteration index: 174, iteration diff of value: 3.557340e-05, iteration diff of policy: 0 \n",
      "iteration index: 175, iteration diff of value: 3.414925e-05, iteration diff of policy: 0 \n",
      "iteration index: 176, iteration diff of value: 3.278216e-05, iteration diff of policy: 0 \n",
      "iteration index: 177, iteration diff of value: 3.146984e-05, iteration diff of policy: 0 \n",
      "iteration index: 178, iteration diff of value: 3.021009e-05, iteration diff of policy: 0 \n",
      "iteration index: 179, iteration diff of value: 2.900081e-05, iteration diff of policy: 0 \n",
      "iteration index: 180, iteration diff of value: 2.783997e-05, iteration diff of policy: 0 \n",
      "iteration index: 181, iteration diff of value: 2.672563e-05, iteration diff of policy: 0 \n",
      "iteration index: 182, iteration diff of value: 2.565592e-05, iteration diff of policy: 0 \n",
      "iteration index: 183, iteration diff of value: 2.462905e-05, iteration diff of policy: 0 \n",
      "iteration index: 184, iteration diff of value: 2.364331e-05, iteration diff of policy: 0 \n",
      "iteration index: 185, iteration diff of value: 2.269704e-05, iteration diff of policy: 0 \n",
      "iteration index: 186, iteration diff of value: 2.178866e-05, iteration diff of policy: 0 \n",
      "iteration index: 187, iteration diff of value: 2.091666e-05, iteration diff of policy: 0 \n",
      "iteration index: 188, iteration diff of value: 2.007957e-05, iteration diff of policy: 0 \n",
      "iteration index: 189, iteration diff of value: 1.927600e-05, iteration diff of policy: 0 \n",
      "iteration index: 190, iteration diff of value: 1.850461e-05, iteration diff of policy: 0 \n",
      "iteration index: 191, iteration diff of value: 1.776409e-05, iteration diff of policy: 0 \n",
      "iteration index: 192, iteration diff of value: 1.705323e-05, iteration diff of policy: 0 \n",
      "iteration index: 193, iteration diff of value: 1.637082e-05, iteration diff of policy: 0 \n",
      "iteration index: 194, iteration diff of value: 1.571573e-05, iteration diff of policy: 0 \n",
      "iteration index: 195, iteration diff of value: 1.508686e-05, iteration diff of policy: 0 \n",
      "iteration index: 196, iteration diff of value: 1.448317e-05, iteration diff of policy: 0 \n",
      "iteration index: 197, iteration diff of value: 1.390364e-05, iteration diff of policy: 0 \n",
      "iteration index: 198, iteration diff of value: 1.334731e-05, iteration diff of policy: 0 \n",
      "iteration index: 199, iteration diff of value: 1.281325e-05, iteration diff of policy: 0 \n",
      "iteration index: 200, iteration diff of value: 1.230056e-05, iteration diff of policy: 0 \n",
      "iteration index: 201, iteration diff of value: 1.180839e-05, iteration diff of policy: 0 \n",
      "iteration index: 202, iteration diff of value: 1.133592e-05, iteration diff of policy: 0 \n",
      "iteration index: 203, iteration diff of value: 1.088236e-05, iteration diff of policy: 0 \n",
      "iteration index: 204, iteration diff of value: 1.044695e-05, iteration diff of policy: 0 \n",
      "iteration index: 205, iteration diff of value: 1.002897e-05, iteration diff of policy: 0 \n",
      "iteration index: 206, iteration diff of value: 9.627715e-06, iteration diff of policy: 0 \n",
      "\n"
     ]
    }
   ],
   "source": [
    "%% STEP 4: 価値関数を繰り返し計算\n",
    "while it < maxit && dif1 > tol\n",
    "\n",
    "    % ベルマン方程式: V(k;k')\n",
    "    for i = 1:nk\n",
    "        vkp(:,i) = util(:,i) + beta.*vfcn;\n",
    "    end\n",
    "    \n",
    "    % 最適化: 各kについてV(k;k')を最大にするk'を探す\n",
    "    [Tvfcn, ploc] = max(vkp);\n",
    "    Tvfcn = Tvfcn';\n",
    "    Tpfcn = kgrid(ploc);\n",
    "    \n",
    "    % 繰り返し計算誤差を確認\n",
    "    dif1 = max(abs((Tvfcn-vfcn)./vfcn));\n",
    "\n",
    "    % 価値関数・政策関数をアップデート\n",
    "    vfcn = Tvfcn;\n",
    "    pfcn = Tpfcn;\n",
    "    fprintf('iteration index: %i, iteration diff of value: %d, iteration diff of policy: %d \\n', it, dif1, dif2);\n",
    "    \n",
    "    it = it + 1;\n",
    "\n",
    "end"
   ]
  },
  {
   "cell_type": "code",
   "execution_count": 9,
   "metadata": {
    "slideshow": {
     "slide_type": "subslide"
    }
   },
   "outputs": [
    {
     "name": "stdout",
     "output_type": "stream",
     "text": [
      "\n"
     ]
    },
    {
     "data": {
      "image/png": "[encoded data removed]",
      "text/plain": [
       "<IPython.core.display.Image object>"
      ]
     },
     "metadata": {},
     "output_type": "display_data"
    }
   ],
   "source": [
    "%% 図を描く\n",
    "figure;\n",
    "plot(kgrid, vfcn, '-', 'color', 'blue', 'linewidth', 3); hold('on');\n",
    "plot(kgrid, v_true, '--', 'color', 'red', 'linewidth', 3); hold('off');\n",
    "%title('価値関数', 'fontsize', 16);\n",
    "xlabel('資本保有量：k', 'Fontsize', 16);\n",
    "ylabel('価値関数：V(k)', 'Fontsize', 16);\n",
    "xlim([0,kmax]);\n",
    "legend('近似解', '解析的解', 'Location', 'SouthEast');\n",
    "grid on;\n",
    "set(gca,'Fontsize', 16);\n",
    "% saveas (gcf,'Fig3_dndp1.eps','epsc2');"
   ]
  },
  {
   "cell_type": "code",
   "execution_count": 10,
   "metadata": {
    "slideshow": {
     "slide_type": "subslide"
    }
   },
   "outputs": [
    {
     "name": "stdout",
     "output_type": "stream",
     "text": [
      "\n"
     ]
    },
    {
     "data": {
      "image/png": "[encoded data removed]",
      "text/plain": [
       "<IPython.core.display.Image object>"
      ]
     },
     "metadata": {},
     "output_type": "display_data"
    }
   ],
   "source": [
    "figure;\n",
    "plot(kgrid, pfcn, '-', 'color', 'blue', 'linewidth', 3); hold('on');\n",
    "plot(kgrid, p_true, '--', 'color', 'red', 'linewidth', 3);\n",
    "plot(kgrid, kgrid, ':', 'color', 'black', 'linewidth', 2); hold('off');\n",
    "%title('政策関数', 'fontsize', 16);\n",
    "xlabel('今期の資本保有量：k', 'Fontsize', 16);\n",
    "ylabel(\"次期の資本保有量：k'\", 'Fontsize', 16);\n",
    "xlim([0,kmax]);\n",
    "legend('近似解', '解析的解', '45度線', 'Location', 'NorthWest');\n",
    "grid on;\n",
    "set(gca,'Fontsize', 16);"
   ]
  },
  {
   "cell_type": "markdown",
   "metadata": {
    "slideshow": {
     "slide_type": "subslide"
    }
   },
   "source": [
    "### 操作変数が連続な場合\n",
    "\n",
    "- モデルを拡張する場合には、より洗練された手法が必要になる\n",
    "\n",
    "- 状態変数のみ離散近似をして、操作変数については連続的な値を取り、価値関数を状態変数の間の値で評価するときは内挿法を用いる"
   ]
  },
  {
   "cell_type": "markdown",
   "metadata": {
    "slideshow": {
     "slide_type": "subslide"
    }
   },
   "source": [
    "- アルゴリズム\n",
    "\n",
    "\n",
    "1. グリッド生成：状態空間の評価点を$I=21$個のグリッドに区切る。また、グリッド上における価値関数$V^{(0)}(k^{i})$の初期値を当て推量(initial guess)する\n",
    "\n",
    "2. 収束の基準：収束の基準になるパラメータ$\\varepsilon=10^{-5}$を与える\n",
    "\n",
    "3. 近似・評価：$k^{i}$上にない価値関数の値については近似する必要がある。$V(k;\\mathbb{b})$をパラメータ$\\mathbb{b}$を使って近似した時の、$k$上での価値関数の値とする\n",
    "\n",
    "4. 最適化：各$k^{i}$について、\n",
    "\n",
    "$$\n",
    "  V^{(1)}(k^{i}) = \\max_{k'} u([k^{i}]^{\\alpha}+(1-\\delta)k^{i}-k') + \\beta V^{(0)}(k';\\mathbb{b})\n",
    "$$\n",
    "\n",
    "を計算する。価値関数を最大にする$k'$を探すためには、各言語の最適化関数を利用する\n",
    "\n",
    "5. 全ての$k^{i}$について$\\|V^{(0)}(k^{i})-V^{(1)}(k^{i})\\|<\\varepsilon$であればストップ。そうでなければ、$V^{(1)}(k^{i})$を$V^{(0)}(k^{i})$に代入して、ステップ3-4を繰り返す"
   ]
  },
  {
   "cell_type": "code",
   "execution_count": 11,
   "metadata": {
    "slideshow": {
     "slide_type": "subslide"
    }
   },
   "outputs": [
    {
     "name": "stdout",
     "output_type": "stream",
     "text": [
      "\n"
     ]
    }
   ],
   "source": [
    "%% *** カリブレーション ***\n",
    "beta  = 0.96; % 割引因子\n",
    "gamma = 1.0;  % 相対的危険回避度(異時点間の代替の弾力性の逆数)\n",
    "alpha = 0.40; % 資本分配率\n",
    "delta = 1.00; % 固定資本減耗(0.08)"
   ]
  },
  {
   "cell_type": "code",
   "execution_count": 12,
   "metadata": {
    "slideshow": {
     "slide_type": "fragment"
    }
   },
   "outputs": [
    {
     "name": "stdout",
     "output_type": "stream",
     "text": [
      "\n"
     ]
    }
   ],
   "source": [
    "% *** 離散化用のパラメータ ***\n",
    "nk   = 21;    % グリッドの数\n",
    "kmax = 0.5;   % 資本グリッドの最大値\n",
    "%kmax = 10.0; % 資本グリッドの最大値(固定資本減耗=0.08の場合に使用)\n",
    "kmin = 0.05;  % 資本グリッドの最小値 (0にすると生産が出来なくなる)"
   ]
  },
  {
   "cell_type": "code",
   "execution_count": 13,
   "metadata": {
    "slideshow": {
     "slide_type": "fragment"
    }
   },
   "outputs": [
    {
     "name": "stdout",
     "output_type": "stream",
     "text": [
      "\n"
     ]
    }
   ],
   "source": [
    "% *** 収束の基準 ***\n",
    "it = 1;          % ループ・カウンター\n",
    "maxit = 1000;    % 繰り返し計算の最大値\n",
    "tol  = 1.0e-005; % 許容誤差(STEP 2)\n",
    "dif1 = 1.0;      % 価値関数の繰り返し誤差\n",
    "dif2 = 1.0;      % 政策関数の繰り返し誤差\n",
    "count = 1;"
   ]
  },
  {
   "cell_type": "code",
   "execution_count": 23,
   "metadata": {
    "slideshow": {
     "slide_type": "subslide"
    }
   },
   "outputs": [
    {
     "name": "stdout",
     "output_type": "stream",
     "text": [
      "\n"
     ]
    }
   ],
   "source": [
    "%% STEP 1(a): グリッド生成\n",
    "kgrid = linspace(kmin, kmax, nk)';"
   ]
  },
  {
   "cell_type": "code",
   "execution_count": 15,
   "metadata": {
    "slideshow": {
     "slide_type": "fragment"
    }
   },
   "outputs": [
    {
     "name": "stdout",
     "output_type": "stream",
     "text": [
      "\n"
     ]
    }
   ],
   "source": [
    "%% STEP 1(b): 価値関数・政策関数の初期値を当て推量\n",
    "pfcn0 = zeros(nk, 1);\n",
    "vfcn0 = CRRA(kgrid.^alpha + (1.-delta).*kgrid, gamma);\n",
    "pfcn1 = zeros(nk, 1);\n",
    "vfcn1 = zeros(nk, 1);"
   ]
  },
  {
   "cell_type": "code",
   "execution_count": 16,
   "metadata": {
    "slideshow": {
     "slide_type": "fragment"
    }
   },
   "outputs": [
    {
     "name": "stdout",
     "output_type": "stream",
     "text": [
      "\n"
     ]
    }
   ],
   "source": [
    "%% 解析的解\n",
    "AA = (1.0-beta).^(-1) * (log(1.0-alpha*beta) + ((alpha*beta)/(1.0-alpha*beta))*log(alpha*beta));\n",
    "BB = alpha/(1.0-alpha*beta);\n",
    "v_true = AA + BB*log(kgrid);\n",
    "p_true = beta*alpha*(kgrid.^alpha);"
   ]
  },
  {
   "cell_type": "markdown",
   "metadata": {
    "slideshow": {
     "slide_type": "subslide"
    }
   },
   "source": [
    "- およそ200回で繰り返し計算誤差は$\\varepsilon=1.0^{-5}$以下になる\n",
    "\n",
    "- 価値関数の繰り返し計算誤差より政策関数の繰り返し計算誤差の方が早く0に近づいている"
   ]
  },
  {
   "cell_type": "code",
   "execution_count": 25,
   "metadata": {
    "slideshow": {
     "slide_type": "subslide"
    }
   },
   "outputs": [
    {
     "name": "stdout",
     "output_type": "stream",
     "text": [
      "iteration index: 1 \n",
      "value function iteration error: 1.000000e+00\n",
      "policy function iteration error: 1.000000e+00\n",
      "iteration index: 2 \n",
      "value function iteration error: 3.331789e+00\n",
      "policy function iteration error: 1.000000e+00\n",
      "iteration index: 3 \n",
      "value function iteration error: 8.300218e-01\n",
      "policy function iteration error: 1.000000e+00\n",
      "iteration index: 4 \n",
      "value function iteration error: 4.511127e-01\n",
      "policy function iteration error: 1.000000e+00\n",
      "iteration index: 5 \n",
      "value function iteration error: 3.022973e-01\n",
      "policy function iteration error: 1.000000e+00\n",
      "iteration index: 6 \n",
      "value function iteration error: 2.239479e-01\n",
      "policy function iteration error: 1.000000e+00\n",
      "iteration index: 7 \n",
      "value function iteration error: 1.759961e-01\n",
      "policy function iteration error: 1.000000e+00\n",
      "iteration index: 8 \n",
      "value function iteration error: 1.437827e-01\n",
      "policy function iteration error: 1.000000e+00\n",
      "iteration index: 9 \n",
      "value function iteration error: 1.207173e-01\n",
      "policy function iteration error: 1.000000e+00\n",
      "iteration index: 10 \n",
      "value function iteration error: 1.034186e-01\n",
      "policy function iteration error: 1.000000e+00\n",
      "iteration index: 11 \n",
      "value function iteration error: 8.998105e-02\n",
      "policy function iteration error: 1.000000e+00\n",
      "iteration index: 12 \n",
      "value function iteration error: 7.925232e-02\n",
      "policy function iteration error: 1.000000e+00\n",
      "iteration index: 13 \n",
      "value function iteration error: 7.049587e-02\n",
      "policy function iteration error: 1.000000e+00\n",
      "iteration index: 14 \n",
      "value function iteration error: 6.321953e-02\n",
      "policy function iteration error: 1.000000e+00\n",
      "iteration index: 15 \n",
      "value function iteration error: 5.708212e-02\n",
      "policy function iteration error: 1.000000e+00\n",
      "iteration index: 16 \n",
      "value function iteration error: 5.183974e-02\n",
      "policy function iteration error: 1.000000e+00\n",
      "iteration index: 17 \n",
      "value function iteration error: 4.731345e-02\n",
      "policy function iteration error: 1.000000e+00\n",
      "iteration index: 18 \n",
      "value function iteration error: 4.336898e-02\n",
      "policy function iteration error: 1.000000e+00\n",
      "iteration index: 19 \n",
      "value function iteration error: 3.990364e-02\n",
      "policy function iteration error: 1.000000e+00\n",
      "iteration index: 20 \n",
      "value function iteration error: 3.683754e-02\n",
      "policy function iteration error: 1.000000e+00\n",
      "iteration index: 21 \n",
      "value function iteration error: 3.410760e-02\n",
      "policy function iteration error: 1.000000e+00\n",
      "iteration index: 22 \n",
      "value function iteration error: 3.166334e-02\n",
      "policy function iteration error: 1.000000e+00\n",
      "iteration index: 23 \n",
      "value function iteration error: 2.946388e-02\n",
      "policy function iteration error: 1.000000e+00\n",
      "iteration index: 24 \n",
      "value function iteration error: 2.747578e-02\n",
      "policy function iteration error: 1.000000e+00\n",
      "iteration index: 25 \n",
      "value function iteration error: 2.567141e-02\n",
      "policy function iteration error: 1.000000e+00\n",
      "iteration index: 26 \n",
      "value function iteration error: 2.402772e-02\n",
      "policy function iteration error: 1.000000e+00\n",
      "iteration index: 27 \n",
      "value function iteration error: 2.252538e-02\n",
      "policy function iteration error: 1.000000e+00\n",
      "iteration index: 28 \n",
      "value function iteration error: 2.114800e-02\n",
      "policy function iteration error: 1.000000e+00\n",
      "iteration index: 29 \n",
      "value function iteration error: 1.988162e-02\n",
      "policy function iteration error: 1.000000e+00\n",
      "iteration index: 30 \n",
      "value function iteration error: 1.871429e-02\n",
      "policy function iteration error: 1.000000e+00\n",
      "iteration index: 31 \n",
      "value function iteration error: 1.763568e-02\n",
      "policy function iteration error: 1.000000e+00\n",
      "iteration index: 32 \n",
      "value function iteration error: 1.663685e-02\n",
      "policy function iteration error: 1.000000e+00\n",
      "iteration index: 33 \n",
      "value function iteration error: 1.571001e-02\n",
      "policy function iteration error: 1.000000e+00\n",
      "iteration index: 34 \n",
      "value function iteration error: 1.484834e-02\n",
      "policy function iteration error: 1.000000e+00\n",
      "iteration index: 35 \n",
      "value function iteration error: 1.404585e-02\n",
      "policy function iteration error: 1.000000e+00\n",
      "iteration index: 36 \n",
      "value function iteration error: 1.329724e-02\n",
      "policy function iteration error: 1.000000e+00\n",
      "iteration index: 37 \n",
      "value function iteration error: 1.259784e-02\n",
      "policy function iteration error: 1.000000e+00\n",
      "iteration index: 38 \n",
      "value function iteration error: 1.194346e-02\n",
      "policy function iteration error: 1.000000e+00\n",
      "iteration index: 39 \n",
      "value function iteration error: 1.133040e-02\n",
      "policy function iteration error: 1.000000e+00\n",
      "iteration index: 40 \n",
      "value function iteration error: 1.075532e-02\n",
      "policy function iteration error: 1.000000e+00\n",
      "iteration index: 41 \n",
      "value function iteration error: 1.021524e-02\n",
      "policy function iteration error: 1.000000e+00\n",
      "iteration index: 42 \n",
      "value function iteration error: 9.707467e-03\n",
      "policy function iteration error: 1.000000e+00\n",
      "iteration index: 43 \n",
      "value function iteration error: 9.229573e-03\n",
      "policy function iteration error: 1.000000e+00\n",
      "iteration index: 44 \n",
      "value function iteration error: 8.779360e-03\n",
      "policy function iteration error: 1.000000e+00\n",
      "iteration index: 45 \n",
      "value function iteration error: 8.354836e-03\n",
      "policy function iteration error: 1.000000e+00\n",
      "iteration index: 46 \n",
      "value function iteration error: 7.954186e-03\n",
      "policy function iteration error: 1.000000e+00\n",
      "iteration index: 47 \n",
      "value function iteration error: 7.575760e-03\n",
      "policy function iteration error: 1.000000e+00\n",
      "iteration index: 48 \n",
      "value function iteration error: 7.218047e-03\n",
      "policy function iteration error: 1.000000e+00\n",
      "iteration index: 49 \n",
      "value function iteration error: 6.879668e-03\n",
      "policy function iteration error: 1.000000e+00\n",
      "iteration index: 50 \n",
      "value function iteration error: 6.559355e-03\n",
      "policy function iteration error: 1.000000e+00\n",
      "iteration index: 51 \n",
      "value function iteration error: 6.255946e-03\n",
      "policy function iteration error: 1.000000e+00\n",
      "iteration index: 52 \n",
      "value function iteration error: 5.968370e-03\n",
      "policy function iteration error: 1.000000e+00\n",
      "iteration index: 53 \n",
      "value function iteration error: 5.695642e-03\n",
      "policy function iteration error: 1.000000e+00\n",
      "iteration index: 54 \n",
      "value function iteration error: 5.436850e-03\n",
      "policy function iteration error: 1.000000e+00\n",
      "iteration index: 55 \n",
      "value function iteration error: 5.191152e-03\n",
      "policy function iteration error: 1.000000e+00\n",
      "iteration index: 56 \n",
      "value function iteration error: 4.957769e-03\n",
      "policy function iteration error: 1.000000e+00\n",
      "iteration index: 57 \n",
      "value function iteration error: 4.735979e-03\n",
      "policy function iteration error: 1.000000e+00\n",
      "iteration index: 58 \n",
      "value function iteration error: 4.525109e-03\n",
      "policy function iteration error: 1.000000e+00\n",
      "iteration index: 59 \n",
      "value function iteration error: 4.324535e-03\n",
      "policy function iteration error: 1.000000e+00\n",
      "iteration index: 60 \n",
      "value function iteration error: 4.133678e-03\n",
      "policy function iteration error: 1.000000e+00\n",
      "iteration index: 61 \n",
      "value function iteration error: 3.951994e-03\n",
      "policy function iteration error: 1.000000e+00\n",
      "iteration index: 62 \n",
      "value function iteration error: 3.778980e-03\n",
      "policy function iteration error: 1.000000e+00\n",
      "iteration index: 63 \n",
      "value function iteration error: 3.614163e-03\n",
      "policy function iteration error: 1.000000e+00\n",
      "iteration index: 64 \n",
      "value function iteration error: 3.457102e-03\n",
      "policy function iteration error: 1.000000e+00\n",
      "iteration index: 65 \n",
      "value function iteration error: 3.307384e-03\n",
      "policy function iteration error: 1.000000e+00\n",
      "iteration index: 66 \n",
      "value function iteration error: 3.164622e-03\n",
      "policy function iteration error: 1.000000e+00\n",
      "iteration index: 67 \n",
      "value function iteration error: 3.028453e-03\n",
      "policy function iteration error: 1.000000e+00\n",
      "iteration index: 68 \n",
      "value function iteration error: 2.898537e-03\n",
      "policy function iteration error: 1.000000e+00\n",
      "iteration index: 69 \n",
      "value function iteration error: 2.774553e-03\n",
      "policy function iteration error: 1.000000e+00\n",
      "iteration index: 70 \n",
      "value function iteration error: 2.656201e-03\n",
      "policy function iteration error: 1.000000e+00\n",
      "iteration index: 71 \n",
      "value function iteration error: 2.543198e-03\n",
      "policy function iteration error: 1.000000e+00\n",
      "iteration index: 72 \n",
      "value function iteration error: 2.435277e-03\n",
      "policy function iteration error: 1.000000e+00\n",
      "iteration index: 73 \n",
      "value function iteration error: 2.332186e-03\n",
      "policy function iteration error: 1.000000e+00\n",
      "iteration index: 74 \n",
      "value function iteration error: 2.233689e-03\n",
      "policy function iteration error: 1.000000e+00\n",
      "iteration index: 75 \n",
      "value function iteration error: 2.139563e-03\n",
      "policy function iteration error: 1.000000e+00\n",
      "iteration index: 76 \n",
      "value function iteration error: 2.049595e-03\n",
      "policy function iteration error: 1.000000e+00\n",
      "iteration index: 77 \n",
      "value function iteration error: 1.963587e-03\n",
      "policy function iteration error: 1.000000e+00\n",
      "iteration index: 78 \n",
      "value function iteration error: 1.881349e-03\n",
      "policy function iteration error: 1.000000e+00\n",
      "iteration index: 79 \n",
      "value function iteration error: 1.802703e-03\n",
      "policy function iteration error: 1.000000e+00\n",
      "iteration index: 80 \n",
      "value function iteration error: 1.727481e-03\n",
      "policy function iteration error: 1.000000e+00\n",
      "iteration index: 81 \n",
      "value function iteration error: 1.655522e-03\n",
      "policy function iteration error: 1.000000e+00\n",
      "iteration index: 82 \n",
      "value function iteration error: 1.586674e-03\n",
      "policy function iteration error: 1.000000e+00\n",
      "iteration index: 83 \n",
      "value function iteration error: 1.520794e-03\n",
      "policy function iteration error: 1.000000e+00\n",
      "iteration index: 84 \n",
      "value function iteration error: 1.457746e-03\n",
      "policy function iteration error: 1.000000e+00\n",
      "iteration index: 85 \n",
      "value function iteration error: 1.397399e-03\n",
      "policy function iteration error: 1.000000e+00\n",
      "iteration index: 86 \n",
      "value function iteration error: 1.339631e-03\n",
      "policy function iteration error: 1.000000e+00\n",
      "iteration index: 87 \n",
      "value function iteration error: 1.284325e-03\n",
      "policy function iteration error: 1.000000e+00\n",
      "iteration index: 88 \n",
      "value function iteration error: 1.231371e-03\n",
      "policy function iteration error: 1.000000e+00\n",
      "iteration index: 89 \n",
      "value function iteration error: 1.180662e-03\n",
      "policy function iteration error: 1.000000e+00\n",
      "iteration index: 90 \n",
      "value function iteration error: 1.132099e-03\n",
      "policy function iteration error: 1.000000e+00\n",
      "iteration index: 91 \n",
      "value function iteration error: 1.085586e-03\n",
      "policy function iteration error: 1.000000e+00\n",
      "iteration index: 92 \n",
      "value function iteration error: 1.041032e-03\n",
      "policy function iteration error: 1.000000e+00\n",
      "iteration index: 93 \n",
      "value function iteration error: 9.983518e-04\n",
      "policy function iteration error: 1.000000e+00\n",
      "iteration index: 94 \n",
      "value function iteration error: 9.574618e-04\n",
      "policy function iteration error: 1.000000e+00\n",
      "iteration index: 95 \n",
      "value function iteration error: 9.182841e-04\n",
      "policy function iteration error: 1.000000e+00\n",
      "iteration index: 96 \n",
      "value function iteration error: 8.807440e-04\n",
      "policy function iteration error: 1.000000e+00\n",
      "iteration index: 97 \n",
      "value function iteration error: 8.447702e-04\n",
      "policy function iteration error: 1.000000e+00\n",
      "iteration index: 98 \n",
      "value function iteration error: 8.102949e-04\n",
      "policy function iteration error: 1.000000e+00\n",
      "iteration index: 99 \n",
      "value function iteration error: 7.772533e-04\n",
      "policy function iteration error: 1.000000e+00\n",
      "iteration index: 100 \n",
      "value function iteration error: 7.455836e-04\n",
      "policy function iteration error: 1.000000e+00\n",
      "iteration index: 101 \n",
      "value function iteration error: 7.152270e-04\n",
      "policy function iteration error: 1.000000e+00\n",
      "iteration index: 102 \n",
      "value function iteration error: 6.861272e-04\n",
      "policy function iteration error: 1.000000e+00\n",
      "iteration index: 103 \n",
      "value function iteration error: 6.582305e-04\n",
      "policy function iteration error: 1.000000e+00\n",
      "iteration index: 104 \n",
      "value function iteration error: 6.314856e-04\n",
      "policy function iteration error: 1.000000e+00\n",
      "iteration index: 105 \n",
      "value function iteration error: 6.058436e-04\n",
      "policy function iteration error: 1.000000e+00\n",
      "iteration index: 106 \n",
      "value function iteration error: 5.812577e-04\n",
      "policy function iteration error: 1.000000e+00\n",
      "iteration index: 107 \n",
      "value function iteration error: 5.576832e-04\n",
      "policy function iteration error: 1.000000e+00\n",
      "iteration index: 108 \n",
      "value function iteration error: 5.350775e-04\n",
      "policy function iteration error: 1.000000e+00\n",
      "iteration index: 109 \n",
      "value function iteration error: 5.133997e-04\n",
      "policy function iteration error: 1.000000e+00\n",
      "iteration index: 110 \n",
      "value function iteration error: 4.926108e-04\n",
      "policy function iteration error: 1.000000e+00\n",
      "iteration index: 111 \n",
      "value function iteration error: 4.726735e-04\n",
      "policy function iteration error: 1.000000e+00\n",
      "iteration index: 112 \n",
      "value function iteration error: 4.535522e-04\n",
      "policy function iteration error: 1.000000e+00\n",
      "iteration index: 113 \n",
      "value function iteration error: 4.352127e-04\n",
      "policy function iteration error: 1.000000e+00\n",
      "iteration index: 114 \n",
      "value function iteration error: 4.176225e-04\n",
      "policy function iteration error: 1.000000e+00\n",
      "iteration index: 115 \n",
      "value function iteration error: 4.007502e-04\n",
      "policy function iteration error: 1.000000e+00\n",
      "iteration index: 116 \n",
      "value function iteration error: 3.845661e-04\n",
      "policy function iteration error: 1.000000e+00\n",
      "iteration index: 117 \n",
      "value function iteration error: 3.690415e-04\n",
      "policy function iteration error: 1.000000e+00\n",
      "iteration index: 118 \n",
      "value function iteration error: 3.541492e-04\n",
      "policy function iteration error: 1.000000e+00\n",
      "iteration index: 119 \n",
      "value function iteration error: 3.398628e-04\n",
      "policy function iteration error: 1.000000e+00\n",
      "iteration index: 120 \n",
      "value function iteration error: 3.261575e-04\n",
      "policy function iteration error: 1.000000e+00\n",
      "iteration index: 121 \n",
      "value function iteration error: 3.130091e-04\n",
      "policy function iteration error: 1.000000e+00\n",
      "iteration index: 122 \n",
      "value function iteration error: 3.003947e-04\n",
      "policy function iteration error: 1.000000e+00\n",
      "iteration index: 123 \n",
      "value function iteration error: 2.882923e-04\n",
      "policy function iteration error: 1.000000e+00\n",
      "iteration index: 124 \n",
      "value function iteration error: 2.766808e-04\n",
      "policy function iteration error: 1.000000e+00\n",
      "iteration index: 125 \n",
      "value function iteration error: 2.655401e-04\n",
      "policy function iteration error: 1.000000e+00\n",
      "iteration index: 126 \n",
      "value function iteration error: 2.548509e-04\n",
      "policy function iteration error: 1.000000e+00\n",
      "iteration index: 127 \n",
      "value function iteration error: 2.445945e-04\n",
      "policy function iteration error: 1.000000e+00\n",
      "iteration index: 128 \n",
      "value function iteration error: 2.347533e-04\n",
      "policy function iteration error: 1.000000e+00\n",
      "iteration index: 129 \n",
      "value function iteration error: 2.253103e-04\n",
      "policy function iteration error: 1.000000e+00\n",
      "iteration index: 130 \n",
      "value function iteration error: 2.162491e-04\n",
      "policy function iteration error: 1.000000e+00\n",
      "iteration index: 131 \n",
      "value function iteration error: 2.075543e-04\n",
      "policy function iteration error: 1.000000e+00\n",
      "iteration index: 132 \n",
      "value function iteration error: 1.992108e-04\n",
      "policy function iteration error: 1.000000e+00\n",
      "iteration index: 133 \n",
      "value function iteration error: 1.912042e-04\n",
      "policy function iteration error: 1.000000e+00\n",
      "iteration index: 134 \n",
      "value function iteration error: 1.835210e-04\n",
      "policy function iteration error: 1.000000e+00\n",
      "iteration index: 135 \n",
      "value function iteration error: 1.761478e-04\n",
      "policy function iteration error: 1.000000e+00\n",
      "iteration index: 136 \n",
      "value function iteration error: 1.690721e-04\n",
      "policy function iteration error: 1.000000e+00\n",
      "iteration index: 137 \n",
      "value function iteration error: 1.622818e-04\n",
      "policy function iteration error: 1.000000e+00\n",
      "iteration index: 138 \n",
      "value function iteration error: 1.557653e-04\n",
      "policy function iteration error: 1.000000e+00\n",
      "iteration index: 139 \n",
      "value function iteration error: 1.495114e-04\n",
      "policy function iteration error: 1.000000e+00\n",
      "iteration index: 140 \n",
      "value function iteration error: 1.435094e-04\n",
      "policy function iteration error: 1.000000e+00\n",
      "iteration index: 141 \n",
      "value function iteration error: 1.377493e-04\n",
      "policy function iteration error: 1.000000e+00\n",
      "iteration index: 142 \n",
      "value function iteration error: 1.322211e-04\n",
      "policy function iteration error: 1.000000e+00\n",
      "iteration index: 143 \n",
      "value function iteration error: 1.269155e-04\n",
      "policy function iteration error: 1.000000e+00\n",
      "iteration index: 144 \n",
      "value function iteration error: 1.218234e-04\n",
      "policy function iteration error: 1.000000e+00\n",
      "iteration index: 145 \n",
      "value function iteration error: 1.169362e-04\n",
      "policy function iteration error: 1.000000e+00\n",
      "iteration index: 146 \n",
      "value function iteration error: 1.122456e-04\n",
      "policy function iteration error: 1.000000e+00\n",
      "iteration index: 147 \n",
      "value function iteration error: 1.077437e-04\n",
      "policy function iteration error: 1.000000e+00\n",
      "iteration index: 148 \n",
      "value function iteration error: 1.034228e-04\n",
      "policy function iteration error: 1.000000e+00\n",
      "iteration index: 149 \n",
      "value function iteration error: 9.927566e-05\n",
      "policy function iteration error: 1.000000e+00\n",
      "iteration index: 150 \n",
      "value function iteration error: 9.529517e-05\n",
      "policy function iteration error: 1.000000e+00\n",
      "iteration index: 151 \n",
      "value function iteration error: 9.147465e-05\n",
      "policy function iteration error: 1.000000e+00\n",
      "iteration index: 152 \n",
      "value function iteration error: 8.780763e-05\n",
      "policy function iteration error: 1.000000e+00\n",
      "iteration index: 153 \n",
      "value function iteration error: 8.428792e-05\n",
      "policy function iteration error: 1.000000e+00\n",
      "iteration index: 154 \n",
      "value function iteration error: 8.090958e-05\n",
      "policy function iteration error: 1.000000e+00\n",
      "iteration index: 155 \n",
      "value function iteration error: 7.766692e-05\n",
      "policy function iteration error: 1.000000e+00\n",
      "iteration index: 156 \n",
      "value function iteration error: 7.455445e-05\n",
      "policy function iteration error: 1.000000e+00\n",
      "iteration index: 157 \n",
      "value function iteration error: 7.156694e-05\n",
      "policy function iteration error: 1.000000e+00\n",
      "iteration index: 158 \n",
      "value function iteration error: 6.869934e-05\n",
      "policy function iteration error: 1.000000e+00\n",
      "iteration index: 159 \n",
      "value function iteration error: 6.594684e-05\n",
      "policy function iteration error: 1.000000e+00\n",
      "iteration index: 160 \n",
      "value function iteration error: 6.330479e-05\n",
      "policy function iteration error: 1.000000e+00\n",
      "iteration index: 161 \n",
      "value function iteration error: 6.076875e-05\n",
      "policy function iteration error: 1.000000e+00\n",
      "iteration index: 162 \n",
      "value function iteration error: 5.833446e-05\n",
      "policy function iteration error: 1.000000e+00\n",
      "iteration index: 163 \n",
      "value function iteration error: 5.599781e-05\n",
      "policy function iteration error: 1.000000e+00\n",
      "iteration index: 164 \n",
      "value function iteration error: 5.375489e-05\n",
      "policy function iteration error: 1.000000e+00\n",
      "iteration index: 165 \n",
      "value function iteration error: 5.160192e-05\n",
      "policy function iteration error: 1.000000e+00\n",
      "iteration index: 166 \n",
      "value function iteration error: 4.953529e-05\n",
      "policy function iteration error: 1.000000e+00\n",
      "iteration index: 167 \n",
      "value function iteration error: 4.755152e-05\n",
      "policy function iteration error: 1.000000e+00\n",
      "iteration index: 168 \n",
      "value function iteration error: 4.564729e-05\n",
      "policy function iteration error: 1.000000e+00\n",
      "iteration index: 169 \n",
      "value function iteration error: 4.381940e-05\n",
      "policy function iteration error: 1.000000e+00\n",
      "iteration index: 170 \n",
      "value function iteration error: 4.206478e-05\n",
      "policy function iteration error: 1.000000e+00\n",
      "iteration index: 171 \n",
      "value function iteration error: 4.038049e-05\n",
      "policy function iteration error: 1.000000e+00\n",
      "iteration index: 172 \n",
      "value function iteration error: 3.876370e-05\n",
      "policy function iteration error: 1.000000e+00\n",
      "iteration index: 173 \n",
      "value function iteration error: 3.721171e-05\n",
      "policy function iteration error: 1.000000e+00\n",
      "iteration index: 174 \n",
      "value function iteration error: 3.572191e-05\n",
      "policy function iteration error: 1.000000e+00\n",
      "iteration index: 175 \n",
      "value function iteration error: 3.429181e-05\n",
      "policy function iteration error: 1.000000e+00\n",
      "iteration index: 176 \n",
      "value function iteration error: 3.291901e-05\n",
      "policy function iteration error: 1.000000e+00\n",
      "iteration index: 177 \n",
      "value function iteration error: 3.160121e-05\n",
      "policy function iteration error: 1.000000e+00\n",
      "iteration index: 178 \n",
      "value function iteration error: 3.033620e-05\n",
      "policy function iteration error: 1.000000e+00\n",
      "iteration index: 179 \n",
      "value function iteration error: 2.912187e-05\n",
      "policy function iteration error: 1.000000e+00\n",
      "iteration index: 180 \n",
      "value function iteration error: 2.795618e-05\n",
      "policy function iteration error: 1.000000e+00\n",
      "iteration index: 181 \n",
      "value function iteration error: 2.683719e-05\n",
      "policy function iteration error: 1.000000e+00\n",
      "iteration index: 182 \n",
      "value function iteration error: 2.576301e-05\n",
      "policy function iteration error: 1.000000e+00\n",
      "iteration index: 183 \n",
      "value function iteration error: 2.473185e-05\n",
      "policy function iteration error: 1.000000e+00\n",
      "iteration index: 184 \n",
      "value function iteration error: 2.374199e-05\n",
      "policy function iteration error: 1.000000e+00\n",
      "iteration index: 185 \n",
      "value function iteration error: 2.279177e-05\n",
      "policy function iteration error: 1.000000e+00\n",
      "iteration index: 186 \n",
      "value function iteration error: 2.187960e-05\n",
      "policy function iteration error: 1.000000e+00\n",
      "iteration index: 187 \n",
      "value function iteration error: 2.100395e-05\n",
      "policy function iteration error: 1.000000e+00\n",
      "iteration index: 188 \n",
      "value function iteration error: 2.016337e-05\n",
      "policy function iteration error: 1.000000e+00\n",
      "iteration index: 189 \n",
      "value function iteration error: 1.935645e-05\n",
      "policy function iteration error: 1.000000e+00\n",
      "iteration index: 190 \n",
      "value function iteration error: 1.858183e-05\n",
      "policy function iteration error: 1.000000e+00\n",
      "iteration index: 191 \n",
      "value function iteration error: 1.783823e-05\n",
      "policy function iteration error: 1.000000e+00\n",
      "iteration index: 192 \n",
      "value function iteration error: 1.712439e-05\n",
      "policy function iteration error: 1.000000e+00\n",
      "iteration index: 193 \n",
      "value function iteration error: 1.643913e-05\n",
      "policy function iteration error: 1.000000e+00\n",
      "iteration index: 194 \n",
      "value function iteration error: 1.578131e-05\n",
      "policy function iteration error: 1.000000e+00\n",
      "iteration index: 195 \n",
      "value function iteration error: 1.514982e-05\n",
      "policy function iteration error: 1.000000e+00\n",
      "iteration index: 196 \n",
      "value function iteration error: 1.454360e-05\n",
      "policy function iteration error: 1.000000e+00\n",
      "iteration index: 197 \n",
      "value function iteration error: 1.396166e-05\n",
      "policy function iteration error: 1.000000e+00\n",
      "iteration index: 198 \n",
      "value function iteration error: 1.340300e-05\n",
      "policy function iteration error: 1.000000e+00\n",
      "iteration index: 199 \n",
      "value function iteration error: 1.286671e-05\n",
      "policy function iteration error: 1.000000e+00\n",
      "iteration index: 200 \n",
      "value function iteration error: 1.235188e-05\n",
      "policy function iteration error: 1.000000e+00\n",
      "iteration index: 201 \n",
      "value function iteration error: 1.185766e-05\n",
      "policy function iteration error: 1.000000e+00\n",
      "iteration index: 202 \n",
      "value function iteration error: 1.138322e-05\n",
      "policy function iteration error: 1.000000e+00\n",
      "iteration index: 203 \n",
      "value function iteration error: 1.092777e-05\n",
      "policy function iteration error: 1.000000e+00\n",
      "iteration index: 204 \n",
      "value function iteration error: 1.049054e-05\n",
      "policy function iteration error: 1.000000e+00\n",
      "iteration index: 205 \n",
      "value function iteration error: 1.007081e-05\n",
      "policy function iteration error: 1.000000e+00\n",
      "\n"
     ]
    }
   ],
   "source": [
    "global beta gamma alpha delta capital vfcn kgrid\n",
    "\n",
    "%% STEP 4: 価値関数を繰り返し計算\n",
    "while it < maxit && dif1 > tol\n",
    "\n",
    "    fprintf('iteration index: %i \\n', it);\n",
    "    fprintf('value function iteration error: %e\\n', dif1);\n",
    "    fprintf('policy function iteration error: %e\\n', dif2);\n",
    "\n",
    "    for i = 1:nk\n",
    "\n",
    "        % グローバル変数を設定\n",
    "        % fminsearchで使う関数(BellmanEq)に最適化する変数\"以外\"の変数を渡す(グローバル変数を使わない方法もあるはず)\n",
    "        capital = kgrid(i);\n",
    "        vfcn = vfcn0;\n",
    "\n",
    "        % MATLABの最適化関数(fminsearch)を使ってグリッド上で価値関数と政策関数の値を探す\n",
    "        % 初期値は0.01\n",
    "        [pfcn1(i,1), vfcn1(i,1)] = fminsearch(@BellmanEq, 0.01);\n",
    "\n",
    "    end\n",
    "\n",
    "    % fminsearchは最小値を探す関数なので符号を反転させる\n",
    "    vfcn1 = -1*vfcn1;\n",
    "\n",
    "    % 繰り返し計算誤差を確認\n",
    "    dif1 = max(abs((vfcn1-vfcn0)./vfcn0));\n",
    "\n",
    "    % 価値関数・政策関数をアップデート\n",
    "    vfcn0 = vfcn1;\n",
    "    pfcn0 = pfcn1;\n",
    "\n",
    "    it = it + 1;\n",
    "\n",
    "end"
   ]
  },
  {
   "cell_type": "code",
   "execution_count": 26,
   "metadata": {},
   "outputs": [
    {
     "name": "stdout",
     "output_type": "stream",
     "text": [
      "\n"
     ]
    },
    {
     "data": {
      "image/png": "[encoded data removed]",
      "text/plain": [
       "<IPython.core.display.Image object>"
      ]
     },
     "metadata": {},
     "output_type": "display_data"
    }
   ],
   "source": [
    "%% 図を描く\n",
    "figure;\n",
    "plot(kgrid, vfcn0, '-', 'color', 'blue', 'linewidth', 3); hold('on');\n",
    "plot(kgrid, v_true, '--', 'color', 'red', 'linewidth', 3); hold('off');\n",
    "%title('価値関数', 'fontsize', 16);\n",
    "xlabel('資本保有量：k', 'Fontsize', 16);\n",
    "ylabel('価値関数：V(k)', 'Fontsize', 16);\n",
    "xlim([0, kmax]);\n",
    "legend('近似解', '解析的解', 'Location', 'SouthEast');\n",
    "grid on;\n",
    "set(gca,'Fontsize', 16);"
   ]
  },
  {
   "cell_type": "code",
   "execution_count": 27,
   "metadata": {},
   "outputs": [
    {
     "name": "stdout",
     "output_type": "stream",
     "text": [
      "\n"
     ]
    },
    {
     "data": {
      "image/png": "[encoded data removed]",
      "text/plain": [
       "<IPython.core.display.Image object>"
      ]
     },
     "metadata": {},
     "output_type": "display_data"
    }
   ],
   "source": [
    "figure;\n",
    "plot(kgrid, pfcn0, '-', 'color', 'blue', 'linewidth', 3); hold('on');\n",
    "plot(kgrid, p_true, '--', 'color', 'red', 'linewidth', 3);\n",
    "plot(kgrid, kgrid, ':', 'color', 'black', 'linewidth', 2); hold('off');\n",
    "%title('政策関数', 'fontsize', 16);\n",
    "xlabel('今期の資本保有量：k', 'Fontsize', 16);\n",
    "ylabel(\"次期の資本保有量：k'\", 'Fontsize', 16);\n",
    "xlim([0, kmax]);\n",
    "legend('近似解', '解析的解', '45度線', 'Location', 'NorthWest');\n",
    "grid on;\n",
    "set(gca,'Fontsize', 16);"
   ]
  },
  {
   "cell_type": "code",
   "execution_count": 29,
   "metadata": {},
   "outputs": [
    {
     "name": "stdout",
     "output_type": "stream",
     "text": [
      "\n"
     ]
    },
    {
     "data": {
      "image/png": "[encoded data removed]",
      "text/plain": [
       "<IPython.core.display.Image object>"
      ]
     },
     "metadata": {},
     "output_type": "display_data"
    }
   ],
   "source": [
    "% 最終的な政策関数が得られてから消費関数を計算\n",
    "cfcn = kgrid.^alpha + (1.-delta).*kgrid - pfcn0(:,1);\n",
    "\n",
    "figure;\n",
    "plot(kgrid, cfcn(:,1), '-', 'color', 'blue', 'linewidth', 3);\n",
    "%title('消費関数', 'fontsize', 16);\n",
    "xlabel('資本保有量：k', 'Fontsize', 16);\n",
    "ylabel('消費：c', 'Fontsize', 16);\n",
    "grid on;\n",
    "set(gca,'Fontsize', 16);"
   ]
  },
  {
   "cell_type": "code",
   "execution_count": null,
   "metadata": {},
   "outputs": [],
   "source": []
  },
  {
   "cell_type": "code",
   "execution_count": null,
   "metadata": {},
   "outputs": [],
   "source": []
  }
 ],
 "metadata": {
  "celltoolbar": "Slideshow",
  "kernelspec": {
   "display_name": "Matlab",
   "language": "matlab",
   "name": "matlab"
  },
  "language_info": {
   "codemirror_mode": "octave",
   "file_extension": ".m",
   "help_links": [
    {
     "text": "MetaKernel Magics",
     "url": "https://metakernel.readthedocs.io/en/latest/source/README.html"
    }
   ],
   "mimetype": "text/x-octave",
   "name": "matlab",
   "version": "0.16.9"
  }
 },
 "nbformat": 4,
 "nbformat_minor": 4
}
