{
 "cells": [
  {
   "cell_type": "markdown",
   "metadata": {
    "slideshow": {
     "slide_type": "slide"
    }
   },
   "source": [
    "<div style=\"text-align: center;\">\n",
    "# マクロ経済特論A\n",
    "<div style=\"text-align: center;\">\n",
    "第8回：「定量的マクロ経済学のフロンティア：HANKモデルとフォワード・ガイダンス・パズル」\n",
    "<br>\n",
    "<br>\n",
    "<div style=\"text-align: center;\">    \n",
    "2020年12月\n",
    "<div style=\"text-align: center;\">   \n",
    "一橋大学　砂川武貴"
   ]
  },
  {
   "cell_type": "markdown",
   "metadata": {
    "slideshow": {
     "slide_type": "slide"
    }
   },
   "source": [
    "# イントロダクション\n",
    "\n",
    "- 近年、金融政策分析において、HANK(Heterogeneous Agent New Keynesian)モデルが注目を集めている\n",
    "\n",
    "\n",
    "- HANKモデルは、連載第5回で学んだニューケインジアン・モデルに、連載第6回で学んだ不確実性と不完備市場の仮定のもとで家計の異質性を導入したものである\n",
    "\n",
    "\n",
    "- 例えば、金融政策が家計の資産分布、すなわち格差(inequality)に与える影響や、分布を通じた金融政策の波及過程(transmission mechanism of monetary policy)について考えることができる"
   ]
  },
  {
   "cell_type": "markdown",
   "metadata": {
    "slideshow": {
     "slide_type": "subslide"
    }
   },
   "source": [
    "- 標準的なニューケインジアン・モデルでは、金融政策の波及過程において、消費のオイラー方程式における異時点間の代替(intertemporal substitution)が非常に大きな役割を持っている\n",
    "\n",
    "- 例えば、中央銀行が名目金利を引き下げたとしよう\n",
    "  - このときインフレ率を一定とすると、実質金利も低下し、家計は貯蓄を減らすか借り入れをして、消費を増やそうとする\n",
    "  - しかし、不完備市場のもとで借入制約に直面している家計は、実質金利が低下しても、借り入れを行って消費を増やすことができないかもしれない\n",
    "  - 流動的な資産(現金や預金など)がなく限界消費性向の高いその日暮らし(hand-to-mouth)家計の経済全体に占める割合が高いとき、名目金利の引き下げは大きな緩和効果は持たない"
   ]
  },
  {
   "cell_type": "markdown",
   "metadata": {
    "slideshow": {
     "slide_type": "subslide"
    }
   },
   "source": [
    "- 世界金融危機以降、中央銀行は、名目金利の実行下限（ゼロ金利制約）の下で、非伝統的金融政策の一環として、経済の安定化を目的として将来の政策に関する情報を発信するようになった\n",
    "\n",
    "- これはフォワード・ガイダンス(forward guidance)と呼ばれる\n",
    "\n",
    "- 標準的なモデルにおいては、フォワード・ガイダンスは大きな緩和効果を持つ\n",
    "  - 経済がゼロ金利制約に直面していても、将来の名目金利を経済が回復した後もゼロに据え置くことを約束することで、現在の経済に緩和効果を持つ\n",
    "  - 経済の先行きを見越して行動するとき、家計や企業は将来の経済の過熱化を予測して、現在の経済活動を活発化させる"
   ]
  },
  {
   "cell_type": "markdown",
   "metadata": {
    "slideshow": {
     "slide_type": "subslide"
    }
   },
   "source": [
    "- しかし、実際の経済ではフォワード・ガイダンスの効果は必ずしも大きくない(DelNegro, Giannoni, and Paterson, 2015)\n",
    "\n",
    "- このパズルに対する1つの回答が、家計の異質性をモデルに導入することである(McKay, Nakamura, and Steinsson, 2016)\n",
    "  - 借入制約に直面しているような家計は、将来の金利低下とそれによる好況を知らされても、借り入れをして今期の消費を増やすことができない\n",
    "  - このような家計の影響が経済全体に与える影響が大きいとき、フォワード・ガイダンスの効果は限定的になる"
   ]
  },
  {
   "cell_type": "markdown",
   "metadata": {
    "slideshow": {
     "slide_type": "slide"
    }
   },
   "source": [
    "## HANKモデル\n",
    "\n",
    "- ここでは、不完備市場と所得の不確実性のもとでの家計の異質性が、フォワード・ガイダンスの効果にどのような影響を与えるのか見ていこう\n",
    "\n",
    "- モデルの定常状態は、第6回でみたビューリーモデルと基本的に同じである\n",
    "\n",
    "- また、消費やインフレ率といった各変数の現在から将来への経路を数値的に解くには、第7回で学習したモデルの移行過程の数値計算を応用する"
   ]
  },
  {
   "cell_type": "markdown",
   "metadata": {
    "slideshow": {
     "slide_type": "subslide"
    }
   },
   "source": [
    "- 第5回で学んだような、最終財生産企業と中間財生産企業、家計、政府からなるニューケインジアン・モデルを考える\n",
    "\n",
    "- ここでの違いは、家計は市場の不完備性と所得の不確実性に直面しており、それぞれの家計は異なる資産と生産性を持っているという点である"
   ]
  },
  {
   "cell_type": "markdown",
   "metadata": {
    "slideshow": {
     "slide_type": "subslide"
    }
   },
   "source": [
    "## 企業\n",
    "\n",
    "- 最終財生産企業は、異なる中間財$Y_{t}(j), j \\in [0,1]$を用いて、最終財を生産する\n",
    "\n",
    "\n",
    "$$\n",
    "  Y_{t} = \\left( \\int_{0}^{1} Y_{t}(j)^{1-\\nu}dj \\right)^{\\frac{1}{1-\\nu}}\n",
    "$$\n",
    "\n",
    "ここで、$\\nu$は需要の価格弾力性の逆数である"
   ]
  },
  {
   "cell_type": "markdown",
   "metadata": {
    "slideshow": {
     "slide_type": "subslide"
    }
   },
   "source": [
    "- 利潤最大化あるいは費用最小化により、以下の需要曲線を得る\n",
    "\n",
    "$$\n",
    "  Y_{t}(j) = \\left(\\frac{P_{t}(j)}{P_{t}}\\right)^{-1/\\nu} Y_{t}\n",
    "$$\n",
    "\n",
    "$P_{t}(j)$は中間投入$Y_{t}(j)$の価格である。また、一般価格水準は$P_{t}=\\left( \\int_{0}^{1} P_{t}(j)^{\\frac{\\nu-1}{\\nu}}dj \\right)^{\\frac{\\nu}{\\nu-1}}$と表される"
   ]
  },
  {
   "cell_type": "markdown",
   "metadata": {
    "slideshow": {
     "slide_type": "subslide"
    }
   },
   "source": [
    "- 中間財$j$を生産する企業は、その企業自身の生産関数と、最終財生産企業からの需要関数を制約条件として、以下の将来の期待利益の割引現在価値を最大化するように中間財価格$P_{t}(j)$を選ぶ\n",
    "$$\n",
    "  \\sum_{s=0}^{\\infty} D_{t+s} \\left( \\frac{P_{t+s}(j)}{P_{t+s}}Y_{t+s}(j)-(1-\\tau^{w})w_{t+s}N_{t+s}(j)-AC_{t+s}(j) \\right)\n",
    "$$\n",
    "ここで、$D_{t}=1, D_{t+s}=\\frac{1}{1+r_{t}}\\frac{1}{1+r_{t+1}}\\cdots\\frac{1}{1+r_{t+s-1}}$は将来利益の割引因子であり、$1+r_{t}$は粗実質金利である\n",
    "\n",
    "- 価格の調整費用は、$AC_{t}(j) = \\frac{\\phi}{2}\\left( \\frac{P_{t}(j)}{P_{t-1}(j)}-\\Pi \\right)^{2}Y_{t}(j)$として定式化される\n",
    "\n",
    "- 企業は$\\tau^{w}w_{t}N_{t}(j)$の補助金を政府から受け取る"
   ]
  },
  {
   "cell_type": "markdown",
   "metadata": {
    "slideshow": {
     "slide_type": "subslide"
    }
   },
   "source": [
    "- $P_{t}(j)$について微分し整理することで、最適化の必要条件は以下の式で与えられる\n",
    "\n",
    "$$\n",
    "  0 = (1-\\nu^{-1}) + (1-\\tau^{w})\\nu^{-1}w_{t} - \\phi \\pi_{t}(1+\\pi_{t}) - \\frac{1}{1+r_{t}}\\pi_{t+1}(1+\\pi_{t+1})\\frac{Y_{t+1}}{Y_{t}}\n",
    "$$\n",
    "\n",
    "ここで、均衡では$P_{t}(j)=P_{t}$であることを利用した。これは、割引率が実質金利であることを除いては、第5回で出てきた非線形ニューケインジアン・フィリップス曲線と同じものである"
   ]
  },
  {
   "cell_type": "markdown",
   "metadata": {
    "slideshow": {
     "slide_type": "subslide"
    }
   },
   "source": [
    "- また、独占的競争下で得られる、中間財生産企業の各期における実質利益は以下で与えられる\n",
    "\n",
    "$$\n",
    "  d_{t} = Y_{t} - (1-\\tau^{w})w_{t}Y_{t}\n",
    "$$\n",
    "\n",
    "- 定常状態では、\n",
    "\n",
    "$$\n",
    "  0 = (1-\\nu^{-1}) + (1-\\tau^{w})\\nu^{-1}w\n",
    "$$"
   ]
  },
  {
   "cell_type": "markdown",
   "metadata": {
    "slideshow": {
     "slide_type": "subslide"
    }
   },
   "source": [
    "## 家計\n",
    "\n",
    "- 家計は、実質金利$r_{t}$、賃金率$w_{t}$、税$T_{t}$および配当$d_{t}$を所与として、消費と労働時間から得られる効用の期待割引現在価値を予算制約のもとで最大化する\n",
    "\n",
    "- それぞれの家計は所得の不確実性に直面しており、市場は不完備、すなわち、家計が所得リスクに備える唯一の手段は資産を購入して貯蓄を行うことである"
   ]
  },
  {
   "cell_type": "markdown",
   "metadata": {
    "slideshow": {
     "slide_type": "subslide"
    }
   },
   "source": [
    "- ベルマン方程式は以下のように書ける\n",
    "$$\n",
    "  V(a,s_{i}) = \\max_{c,a',h}\\left\\{ u(c,h) + \\beta \\sum_{j} p_{ij}^{s} V(a',s_{j}) \\right\\}\n",
    "$$\n",
    "subject to\n",
    "\\begin{align*}\n",
    "  c + a' &= (1+r_{t})a + w_{t}s_{i}h - T_{t}(s_{i}) + d_{t} \\\\\n",
    "  a' &\\geq 0\n",
    "\\end{align*}\n",
    "\n",
    "ここで、$a' \\geq 0$であり、家計は借り入れを行うことができないとする"
   ]
  },
  {
   "cell_type": "markdown",
   "metadata": {
    "slideshow": {
     "slide_type": "subslide"
    }
   },
   "source": [
    "- 労働生産性はマルコフ連鎖に従う\n",
    "  - $s$の値が取り得る上限および下限を設定し、$N_{s}$個のグリッド$[s_{1},\\cdots,s_{N_{s}}]$で離散化する\n",
    "  - 今期の生産性$s_{i}$から次期に$s_{j}$となる確率を$p_{ij}^{s}$で表す\n",
    "  - また、価値関数$V$は今期の状態変数$(a,s_{i})$の関数となる\n",
    "  \n",
    "- 労働生産性の分布は時間によらず不変であり、$\\mu^{s}(s_{i})=\\int \\mu_{t}(a,s_{i})da$となる"
   ]
  },
  {
   "cell_type": "markdown",
   "metadata": {
    "slideshow": {
     "slide_type": "fragment"
    }
   },
   "source": [
    "## 政府\n",
    "\n",
    "- 政府の予算制約式は以下で与えられる\n",
    "\n",
    "$$\n",
    "  b_{t+1} = (1+r_{t})b_{t} - \\sum_{i}\\mu^{s}(s_{i})T_{t}(s_{i}) + \\tau^{w}w_{t}\\int N_{t}(j)dj\n",
    "$$\n",
    "\n",
    "- 中央銀行は名目金利の水準$R_{t}$を決定する。ここで、以下のフィッシャー方程式が成り立つ\n",
    "\n",
    "$$\n",
    "  1+r_{t} = \\frac{1+R_{t}}{1+\\pi_{t+1}}\n",
    "$$"
   ]
  },
  {
   "cell_type": "markdown",
   "metadata": {
    "slideshow": {
     "slide_type": "subslide"
    }
   },
   "source": [
    "- 財市場、労働市場および債券市場の市場清算条件(market clearing condition)は以下で与えられる\n",
    "\n",
    "\\begin{align*}\n",
    "  Y_{t} &= C_{t} = \\sum_{i}\\int g_{c}(a,s_{i})\\mu_{t}(a,s_{i})da \\\\\n",
    "  b_{t} &= \\sum_{i}\\int g_{a}(a,s_{i})\\mu_{t}(a,s_{i})da \\\\\n",
    "  N_{t} &= \\sum_{i}\\int s_{i}g_{h}(a,s_{i})\\mu_{t}(a,s_{i})da\n",
    "\\end{align*}\n",
    "\n",
    "また、中間財投入企業の生産関数より、$Y_{t}=N_{t}$となる"
   ]
  },
  {
   "cell_type": "markdown",
   "metadata": {
    "slideshow": {
     "slide_type": "subslide"
    }
   },
   "source": [
    "- 企業については完備市場の場合と同じ仮定を置く\n",
    "\n",
    "- 定常均衡においては、個人は毎期労働生産性のリスクに直面するが、労働生産性の分布は常に一定である"
   ]
  },
  {
   "cell_type": "markdown",
   "metadata": {
    "slideshow": {
     "slide_type": "subslide"
    }
   },
   "source": [
    "###  均衡の定義\n",
    "\n",
    "この不完備市場モデルにおける定常均衡は、以下の条件を満たす政策関数$a'=g(a,l)$、個人の状態変数空間における確率分布$m(a,l)$、総資本$K$、総労働$L$、金利$r$、および賃金$w$によって定義される\n",
    "\n",
    "1. 要素価格は競争的に決定される\n",
    "$$\n",
    "  r = F_{K}(K,L)-\\delta, \\quad w = F_{L}(K,L)\n",
    "$$\n",
    "\n",
    "2. 政策関数$a'=g(a,l)$は個人の最適化問題の解である\n",
    "\n",
    "3. 確率分布$m(a,l)$は不変であり、政策関数$g(a,l)$および労働生産性$l$の推移確率によって得られる\n",
    "\n",
    "4. 企業の総資本需要と個人の総資本供給、総労働需要と総労働供給は一致する\n",
    "$$\n",
    "  K = \\int_{l}\\int_{a} a m(a,l)dadl, \\quad L = \\int_{l}\\int_{a} l m(a,l)dadl\n",
    "$$\n"
   ]
  },
  {
   "cell_type": "markdown",
   "metadata": {
    "slideshow": {
     "slide_type": "subslide"
    }
   },
   "source": [
    "## 不完備市場における均衡の特徴\n",
    "\n",
    "- 資本市場の均衡において、価格（金利）と総資本がどのように決定されるか特徴づけてみよう\n",
    "\n",
    "- 消費と貯蓄に関するオイラー方程式は以下で与えられる\n",
    "\n",
    "$$\n",
    "  u'(c) \\geq \\beta (1+r) \\mathbb{E} u'(c') \\tag{5}\n",
    "$$\n",
    "\n",
    "- 借り入れ制約がバインドしている、すなわち借り入れ制約があるために消費を増やすことができないときには、今期の消費による限界効用が割引後の来期の限界効用を上回り、不等式が成立する"
   ]
  },
  {
   "cell_type": "markdown",
   "metadata": {
    "slideshow": {
     "slide_type": "subslide"
    }
   },
   "source": [
    "- 借り入れ制約にかからない範囲においては、金利が上がれば、貯蓄が上昇し消費成長率も増加する\n",
    "- また、金利が下方から完備市場における金利水準$\\lambda=1/\\beta-1$に近づくにつれ、期待資産は無限大に発散する\n",
    "- $u'(c)$が非負のマルチンゲールであることを利用して数学的に証明できるが(Ljungqvist and Sargent, 2018)、直感的な説明は以下の通り"
   ]
  },
  {
   "cell_type": "markdown",
   "metadata": {
    "slideshow": {
     "slide_type": "subslide"
    }
   },
   "source": [
    "- 仮に金利が$r=\\lambda$であった場合（すなわち$(1+r)\\beta=1$の場合）、(5)式は$u'(c_{t}) \\geq \\mathbb{E} u'(c_{t+1})$となる\n",
    "\n",
    "- 不等式が成立する場合には、イェンセンの不等式(Jensen's inequality)から$\\mathbb{E}(c_{t+1}) > c_{t}$となり、消費の期待値は上昇を続ける\n",
    "\n",
    "- このような消費を支えられるのは期待資産が増加し続ける場合に限られる。よって、極限においては資産は無限大となる"
   ]
  },
  {
   "cell_type": "markdown",
   "metadata": {
    "slideshow": {
     "slide_type": "subslide"
    }
   },
   "source": [
    "- 等式が成立する場合には$\\mathbb{E}(c_{t+1}) \\geq c_{t}$となる。$\\mathbb{E}(c_{t+1}) > c_{t}$であれば不等式が成立する場合と同じく、期待資産は無限大となる\n",
    "\n",
    "- $\\mathbb{E}(c_{t+1}) = c_{t}$というのは、不確実性のない$c_{t+1}=c_{t}$が成立する場合に限られる\n",
    "\n",
    "<div align=\"center\">\n",
    "<img src=\"./aiyagari1.png\",width=\"1000\",height=\"400\">\n",
    "</div>"
   ]
  },
  {
   "cell_type": "markdown",
   "metadata": {
    "slideshow": {
     "slide_type": "subslide"
    }
   },
   "source": [
    "- しかし、消費が変動しない、という状態はこの不完備市場においては永続しえない\n",
    "\n",
    "- もしそうであれば、$c_{t}=\\bar{c}$となり、均衡においては包絡線定理により$V'(a)=u'(c)(1+r)$が成り立つことから$a_{t}=\\bar{a}$となる\n",
    "\n",
    "- これは家計の予算制約式と矛盾する：$l$が不変でない限り、$\\bar{c}+\\bar{a}=(1+r)\\bar{a}+wl$は成立しえない"
   ]
  },
  {
   "cell_type": "markdown",
   "metadata": {
    "slideshow": {
     "slide_type": "subslide"
    }
   },
   "source": [
    "- 所得に不確実性が導入されたことで、完備市場と不完備市場で金利に対する個人の反応が全く異なる\n",
    "\n",
    "- 不完備市場において不確実性にさらされている個人にとって、リスクフリーの資産は不完全ながら所得変動リスクの影響を緩和してくれるため、完備市場に暮らす人たちよりも、利回りが低くても手に入れたい魅力がある\n",
    "\n",
    "- したがって、もし完備市場と同じ値段が付けられたならば、毎期毎期よろこんで資産を積み上げていく"
   ]
  },
  {
   "cell_type": "markdown",
   "metadata": {
    "slideshow": {
     "slide_type": "subslide"
    }
   },
   "source": [
    "- しかし一般均衡を考えると、そこまでの大量の資本を借り入れて生産を行いたい企業はいないため、金利は低くなり貯蓄意欲にもブレーキがかかる\n",
    "\n",
    "- 不完備市場における総資産の供給曲線$r=\\mathbb{E}a(r)$は、金利$r$が完備市場の均衡金利$\\lambda$に近づくに追れ無限大に発散する\n",
    "\n",
    "- 不完備市場における均衡点は図中の$e^{n}$となり、金利水準は完備市場より低く、総資本は高水準となる\n",
    "\n",
    "<br>\n",
    "<div align=\"center\">\n",
    "<img src=\"./aiyagari_fig.png\",width=\"600\",height=\"400\">\n",
    "</div>"
   ]
  },
  {
   "cell_type": "markdown",
   "metadata": {
    "slideshow": {
     "slide_type": "slide"
    }
   },
   "source": [
    "## カリブレーション\n",
    "\n",
    "- ここではAiyagari(1994)に沿った設定を行い、それぞれの値に関する議論は割愛する\n",
    "\n",
    "- モデル期間は年単位とし、効用関数は$u(c)=c^{1-\\gamma}/(1-\\gamma)$で与えられ、リスク回避度は$\\gamma=3$、主観的割引因子は$\\beta=0.96$、労働生産性$l$は以下のAR(1)過程に従う\n",
    "\n",
    "$$\n",
    "  \\log l_{t} = \\rho \\log l_{t-1} + \\epsilon_{t}, \\quad \\epsilon_{t} \\sim N(0,\\sigma^{2}) \n",
    "$$\n",
    "\n",
    "$\\rho=0.6,\\sigma=0.4$とする。前回学んだようにTauchen(1986)の手法で離散的に近似する\n",
    "\n",
    "- 生産関数は$F(K,L)=K^{\\alpha}L^{1-\\alpha}$とし、資本シェアは$\\alpha=0.36$、資本減耗率は$\\delta=0.08$、借り入れの上限は$b=3.0$とする"
   ]
  },
  {
   "cell_type": "markdown",
   "metadata": {
    "slideshow": {
     "slide_type": "subslide"
    }
   },
   "source": [
    "## 一般均衡の計算\n",
    "\n",
    "- 異質な個人を組み込んだ一般均衡の数値計算においては同時に満たすべき均衡条件が複数存在するため、いくつかのブロックにわけて計算を考えるとわかりやすい\n",
    "\n",
    "- ミクロの最適化問題とマクロの需給均衡の両方を同時に解くのはややこしいので、「外側」のマクロステップと「内側」のミクロステップの2段階に分けて計算する\n",
    "  - 個人の最適化問題を解くには、金利・賃金などの要素価格などのマクロ経済環境を示す変数がインプットとして必要である\n",
    "  - 要素価格はそれぞれの市場におけるマクロ的な需給均衡によって決まる"
   ]
  },
  {
   "cell_type": "markdown",
   "metadata": {
    "slideshow": {
     "slide_type": "subslide"
    }
   },
   "source": [
    "- マクロステップ：このモデルにおいては均衡の計算が必要な市場は資本市場のみである\n",
    "\n",
    "- 企業による資本需要と個人の資本供給が一致する均衡点$e^{n}$を見つければよい\n",
    "\n",
    "- $(-\\delta,\\lambda)$の範囲において、企業からの資本需要$r=F_{K}(K,L)-\\delta$を計算して需要曲線を導出し、個人の最適化問題を解いて総資産を計算して供給曲線を導出し、その交点を見つける"
   ]
  },
  {
   "cell_type": "markdown",
   "metadata": {
    "slideshow": {
     "slide_type": "fragment"
    }
   },
   "source": [
    "- 総資産の計算はいくつかのステップが必要になる\n",
    "  - ベルマン方程式を用いた動的計画法による解を導出: $a'=g(a,l)$\n",
    "  - 資産空間における定常状態を導出して総資本供給を計算: $A = \\sum_{i}\\int a m(a,l_{i})da$"
   ]
  },
  {
   "cell_type": "markdown",
   "metadata": {
    "slideshow": {
     "slide_type": "subslide"
    }
   },
   "source": [
    "- アルゴリズム\n",
    "\n",
    "\n",
    "1. 初期セットアップ: パラメータを設定する。労働生産性は$[l_{1},...,l_{N_{l}}]$のグリッドに離散化し、推移確率$p_{ij}^{l}$を求める。総労働供給$L$は不変であり計算できる\n",
    "\n",
    "2. グリッド生成: 個人の資産について、状態空間の評価点を$N_{a}$個のグリッドに区切る\n",
    "\n",
    "3. 収束の基準になるパラメータ$\\varepsilon$を定める"
   ]
  },
  {
   "cell_type": "markdown",
   "metadata": {
    "slideshow": {
     "slide_type": "subslide"
    }
   },
   "source": [
    "4. マクロ変数の初期値設定: 金利の初期値$r_{0}\\in(-\\delta,\\lambda)$を当て推量する。金利$r_{0}$における企業の資本需要$K_{0}$を$r_{0}=F_{K}(K_{0},L)-\\delta$から求め、賃金$w_{0}=F_{L}(K_{0},L)$を計算する\n",
    "\n",
    "5. 個人の政策関数の導出: 金利$r_{0}$、賃金$w_{0}$を所与として、個人の最適化問題を解く。各状態変数$(a,l)$における個人の政策関数$a'=g(a,l)$を求める\n",
    "\n",
    "6. 定常分布の導出: 定常分布を求めて総資本供給$A_{0}$を求める\n",
    "\n",
    "7. 均衡条件の確認：$|K_{0}-A_{0}|<\\varepsilon$であればストップ。そうでなければ$r_{0}$の値を調整して、ステップ4-6を繰り返す"
   ]
  },
  {
   "cell_type": "markdown",
   "metadata": {
    "slideshow": {
     "slide_type": "subslide"
    }
   },
   "source": [
    "## 定常分布の計算\n",
    "\n",
    "- 定常分布を計算するには主に二つの方法がある\n",
    "\n",
    "\n",
    "1. 価値関数反復法のように、分布の当て推量から始めて収束するまで反復計算する方法\n",
    "2. モンテカルロ・シミュレーションによる方法"
   ]
  },
  {
   "cell_type": "markdown",
   "metadata": {
    "slideshow": {
     "slide_type": "subslide"
    }
   },
   "source": [
    "### 分布計算の反復による定常分布の導出\n",
    "\n",
    "- $N_{s}=N_{a} \\times N_{l}$とし、個人の状態変数$(a,l)$空間における分布を$N_{s} \\times 1$のベクトル$\\pi$で表す\n",
    "\n",
    "- 政策関数$a'=g(a,l)$および労働生産性の遷移確率$p_{ij}^{l}$を用いて、2状態変数の推移確率行列$P$を求める"
   ]
  },
  {
   "cell_type": "markdown",
   "metadata": {
    "slideshow": {
     "slide_type": "subslide"
    }
   },
   "source": [
    "- 選択変数が離散の場合: 政策関数$a_{l}=g(a_{k},l_{i})$から、次期の状態変数が$(a_{l},l_{j})$になる確率は$p_{ij}^{l}$である\n",
    "\n",
    "\n",
    "- 選択変数が連続の場合: 政策関数$a'=g(a_{k},l_{i})$から、$a' \\in [a_{l},a_{l+1}]$であるとき、\n",
    "  - 次期の状態変数が$(a_{l},l_{j})$になる確率は$(1-w)p_{ij}^{l}$\n",
    "  - 次期の状態変数が$(a_{l+1},l_{j})$になる確率は$wp_{ij}^{l}$\n",
    "  \n",
    "ここで、$w=\\frac{a'-a_{l}}{a_{l+1}-a_{l}}$"
   ]
  },
  {
   "cell_type": "markdown",
   "metadata": {
    "slideshow": {
     "slide_type": "subslide"
    }
   },
   "source": [
    "- $t$期の分布を$\\pi_{t}$とすると、その遷移式は以下のように表される\n",
    "$$\n",
    "  \\pi'_{t+1} = \\pi'_{t} P\n",
    "$$\n",
    "\n",
    "- 定常状態においては、\n",
    "\\begin{align*}\n",
    "  & \\bar{\\pi}' = \\bar{\\pi}' P \\\\ \n",
    "  \\Leftrightarrow & \\bar{\\pi}'(I-P) = 0 \\\\ \n",
    "  \\Leftrightarrow & (I-P')\\bar{\\pi} = 0 \n",
    "\\end{align*}\n",
    "\n",
    "となることから、$P'$について固有値1に相当する固有ベクトルを求めればよい"
   ]
  },
  {
   "cell_type": "markdown",
   "metadata": {
    "slideshow": {
     "slide_type": "subslide"
    }
   },
   "source": [
    "- 脱出することのない吸収状態(absorbing state)がない場合には、定常分布は単一であることを示すことができる(Ljungvist and Sargent, 2018)\n",
    "\n",
    "- VFIにおいてもそうであったように、どのような当て推量から始めても反復を繰り返せば単一の分布に収束する"
   ]
  },
  {
   "cell_type": "markdown",
   "metadata": {
    "slideshow": {
     "slide_type": "subslide"
    }
   },
   "source": [
    "- アルゴリズム\n",
    "\n",
    "\n",
    "1. 初期セットアップ: 政策関数$a'=g(a,l)$および労働生産性の遷移確率$p_{ij}^{l}$から、推移確率行列$P$を求める\n",
    "\n",
    "2. 収束の基準になるパラメータ$\\varepsilon$を定める\n",
    "\n",
    "3. 状態変数空間における分布$\\pi_{0}$を当て推量する\n",
    "\n",
    "4. 推移確率行列$P$に基づき、$\\pi'_{1} = \\pi'_{0} P$を計算する\n",
    "\n",
    "5. $\\|\\pi_{1}-\\pi_{0}\\|<\\varepsilon$であればストップ。そうでなければ$\\pi_{0}=\\pi_{1}$として、ステップ4を繰り返す"
   ]
  },
  {
   "cell_type": "markdown",
   "metadata": {
    "slideshow": {
     "slide_type": "subslide"
    }
   },
   "source": [
    "### モンテカルロ・シミュレーションによる定常分布の導出\n",
    "\n",
    "- ある一定数の個人の状態変数の推移をモンテカルロ・シミュレーションによって計算する\n",
    "\n",
    "- この場合も、推移確率行列に関する上記の条件が満たされればいかなる初期分布からスタートしても、単一の分布に収束する\n",
    "\n",
    "- 十分なサンプルサイズ（例えば$N=5000$）でシミュレーションを行うと、やがて初期値の影響はなくなり、定常分布からサンプルされるようになる\n",
    "  - あるいは$N=1$にして、非常に長いシミュレーションを行い、時系列データをクロスセクションの分布とすることもできる"
   ]
  },
  {
   "cell_type": "markdown",
   "metadata": {
    "slideshow": {
     "slide_type": "subslide"
    }
   },
   "source": [
    "- Aiyagari(1994)は四半世紀も昔に書かれた論文で、現在に至るまであらゆる方向での拡張が行われているが、個人の直面するリスクとマクロ経済との関連を考えるうえで今も重要な示唆を与える\n",
    "\n",
    "- 不完備市場においては、リスクのない完備市場に比べると予備的動機から貯蓄が増え資本が過剰になるため、政策のツールによって個人の貯蓄意欲に手を加えることで貯蓄水準を完備市場に近づけられる\n",
    "  - Aiyagari(1995)は、最適な資本課税について、それまでの定説であるゼロが最適（Chamley(1986)およびJudd(1985)）という結果が不完備市場を考えることで覆ることを示した\n",
    "  - Aiyagari and McGrattan(1998)は、最適な政府債務残高は米国において総生産の3分の2程度であることを示している\n",
    "\n"
   ]
  }
 ],
 "metadata": {
  "celltoolbar": "Slideshow",
  "kernelspec": {
   "display_name": "Matlab",
   "language": "matlab",
   "name": "matlab"
  },
  "language_info": {
   "codemirror_mode": "octave",
   "file_extension": ".m",
   "help_links": [
    {
     "text": "MetaKernel Magics",
     "url": "https://metakernel.readthedocs.io/en/latest/source/README.html"
    }
   ],
   "mimetype": "text/x-octave",
   "name": "matlab",
   "version": "0.16.10"
  }
 },
 "nbformat": 4,
 "nbformat_minor": 4
}
