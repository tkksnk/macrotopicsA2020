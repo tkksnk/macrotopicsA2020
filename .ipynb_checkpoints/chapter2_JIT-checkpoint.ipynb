{
 "cells": [
  {
   "cell_type": "markdown",
   "metadata": {
    "slideshow": {
     "slide_type": "slide"
    }
   },
   "source": [
    "- 以下のウィキペディアの記述を参考にした\n",
    "\n",
    "https://ja.wikipedia.org/wiki/%E3%82%A4%E3%83%B3%E3%82%BF%E3%83%97%E3%83%AA%E3%82%BF\n",
    "https://ja.wikipedia.org/wiki/%E5%AE%9F%E8%A1%8C%E6%99%82%E3%82%B3%E3%83%B3%E3%83%91%E3%82%A4%E3%83%A9"
   ]
  },
  {
   "cell_type": "markdown",
   "metadata": {
    "slideshow": {
     "slide_type": "subslide"
    }
   },
   "source": [
    "- プログラミング言語は、大きく以下の2つに分類できる\n",
    "\n",
    "\n",
    "- インタプリタ言語：コードなどを逐次解釈しながら実行\n",
    "  - コーディングが容易、スクリプト言語とも呼ばれる\n",
    "  - CPUやOSに依存しない\n",
    "  - 実行速度は遅い\n",
    "  - MATLAB, Python, R, etc.\n",
    "\n",
    "\n",
    "- コンパイル言語：コードのコンパイルと実行を別に行う\n",
    "  - インタプリタ言語に比べてコーディングは難しい\n",
    "  - プログラムの最適化を行ったりや外部ライブラリを利用する場合、CPUやOSに依存することがある\n",
    "  - コンパイルを事前に行うため、実行速度は速い \n",
    "  - Fortran, C, C++, etc."
   ]
  },
  {
   "cell_type": "markdown",
   "metadata": {
    "slideshow": {
     "slide_type": "subslide"
    }
   },
   "source": [
    "- 近年、古典的な意味での「インタプリタ」と「コンパイラ」の双方の性質を備えたようなインタプリタが登場\n",
    "\n",
    "\n",
    "- 実行時(Just-In-Time, JIT)コンパイラによる動的コンパイル\n",
    "  - 表面上はインタプリタとして動作するが、内部でコンパイルを行い、メモリ上に生成した機械語のコードが実行されるため、インタプリタと比べると実行速度を向上することができる\n",
    "  - JITはCPUやOSに依存しない実行形式を配布できる、というインタプリタの利点を保ったまま、実行速度が遅い、という欠点を克服しようとするものといえる"
   ]
  },
  {
   "cell_type": "markdown",
   "metadata": {
    "slideshow": {
     "slide_type": "subslide"
    }
   },
   "source": [
    "- Numba：PythonおよびNumPyのサブセットのソースコードを高速に実行する機械語に変換するJITコンパイラ\n",
    "\n",
    "https://ja.wikipedia.org/wiki/Numba"
   ]
  },
  {
   "cell_type": "code",
   "execution_count": 1,
   "metadata": {},
   "outputs": [],
   "source": [
    "import math\n",
    "import time\n",
    "import numpy as np\n",
    "import matplotlib.pyplot as plt\n",
    "from numba import jit"
   ]
  },
  {
   "cell_type": "code",
   "execution_count": 8,
   "metadata": {},
   "outputs": [],
   "source": [
    "@jit\n",
    "def CRRA(cons, gamma):\n",
    "    \n",
    "    if not gamma == 1:\n",
    "        util = cons**(1-gamma)/(1-gamma)\n",
    "    else:\n",
    "        util = math.log(cons)\n",
    "\n",
    "    return util"
   ]
  },
  {
   "cell_type": "code",
   "execution_count": 9,
   "metadata": {},
   "outputs": [],
   "source": [
    "# あらゆる(w,a)の組み合わせについて生涯効用を計算\n",
    "# 二重ループをjitを用いて高速化\n",
    "@jit\n",
    "def calc_obj(gamma,na,nw,grid_a,grid_w):\n",
    "\n",
    "    obj = np.empty((na, nw))\n",
    "\n",
    "    for i in range(nw):\n",
    "        for j in range(na):\n",
    "            cons = grid_w[i] - grid_a[j]\n",
    "            if cons > 0.0:\n",
    "                obj[j, i] = CRRA(cons, gamma) \\\n",
    "                            + beta*CRRA((1.0+rent)*grid_a[j], gamma)\n",
    "            else:\n",
    "                # 消費が負値の場合、ペナルティを与えてその値が選ばれないようにする\n",
    "                obj[j, i] = -1000.0\n",
    "                \n",
    "    return obj"
   ]
  },
  {
   "cell_type": "code",
   "execution_count": 25,
   "metadata": {},
   "outputs": [
    {
     "name": "stdout",
     "output_type": "stream",
     "text": [
      "elapsed time: 0.009383916854858398\n"
     ]
    }
   ],
   "source": [
    "# カリブレーション\n",
    "beta = 0.985**30      # 割引因子\n",
    "gamma = 2.0           # 相対的危険回避度\n",
    "rent = 1.025**30-1.0  # 純利子率\n",
    "\n",
    "# パラメータ\n",
    "nw = int(100)  # 所得グリッドの数\n",
    "w_max = 1.0    # 所得グリッドの最大値\n",
    "w_min = 0.1    # 所得グリッドの最小値\n",
    "\n",
    "na = int(400)  # 貯蓄グリッドの数\n",
    "a_max = 1.0    # 貯蓄グリッドの最大値\n",
    "a_min = 0.025  # 貯蓄グリッドの最小値\n",
    "\n",
    "# グリッドポイントを計算\n",
    "grid_w = np.linspace(w_min, w_max, nw)\n",
    "grid_a = np.linspace(a_min, a_max, na)\n",
    "\n",
    "# あらゆる(w,a)の組み合わせについて生涯効用を計算\n",
    "# 実行時間を計測\n",
    "start = time.time()\n",
    "obj = calc_obj(gamma,na,nw,grid_a,grid_w)\n",
    "elapsed_time = time.time() - start\n",
    "print('elapsed time:',elapsed_time)\n",
    "\n",
    "# 効用を最大にする操作変数を探し出す：政策関数\n",
    "pol = np.empty(nw)\n",
    "\n",
    "for i in range(nw):\n",
    "    maxl = np.ndarray.argmax(obj[:, i])\n",
    "    pol[i] = grid_a[maxl]"
   ]
  },
  {
   "cell_type": "code",
   "execution_count": 26,
   "metadata": {},
   "outputs": [
    {
     "data": {
      "image/png": "[encoded data removed]",
      "text/plain": [
       "<Figure size 432x288 with 1 Axes>"
      ]
     },
     "metadata": {
      "needs_background": "light"
     },
     "output_type": "display_data"
    }
   ],
   "source": [
    "plt.figure()\n",
    "plt.plot(grid_w, pol, marker='o', color='blue', label='policy')\n",
    "plt.title(\"policy function\")\n",
    "plt.xlabel(\"current asset\")\n",
    "plt.ylabel(\"next asset\")\n",
    "plt.ylim(0, 0.5)\n",
    "plt.grid(True)\n",
    "plt.show()"
   ]
  }
 ],
 "metadata": {
  "celltoolbar": "Slideshow",
  "kernelspec": {
   "display_name": "Python 3",
   "language": "python",
   "name": "python3"
  },
  "language_info": {
   "codemirror_mode": {
    "name": "ipython",
    "version": 3
   },
   "file_extension": ".py",
   "mimetype": "text/x-python",
   "name": "python",
   "nbconvert_exporter": "python",
   "pygments_lexer": "ipython3",
   "version": "3.8.3"
  }
 },
 "nbformat": 4,
 "nbformat_minor": 4
}
