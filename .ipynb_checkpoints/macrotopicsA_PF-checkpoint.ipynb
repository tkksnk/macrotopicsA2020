{
 "cells": [
  {
   "cell_type": "markdown",
   "metadata": {
    "slideshow": {
     "slide_type": "slide"
    }
   },
   "source": [
    "<div style=\"text-align: center;\">\n",
    "# マクロ経済特論A\n",
    "<div style=\"text-align: center;\">\n",
    "「完全予見の下での非線形解法」\n",
    "<br>\n",
    "<br>\n",
    "<div style=\"text-align: center;\">    \n",
    "2020年12月\n",
    "<div style=\"text-align: center;\">   \n",
    "一橋大学　砂川武貴"
   ]
  },
  {
   "cell_type": "markdown",
   "metadata": {
    "slideshow": {
     "slide_type": "slide"
    }
   },
   "source": [
    "# イントロダクション\n",
    "\n",
    "- ゼロ金利制約のような非線形な現象を分析するためには、モデルを非線形に解くことが必要になる\n",
    "\n",
    "- 将来の事象について完全予見(perfect foresight)を仮定することで、そのような非線形モデルを比較的簡単に解くことができる"
   ]
  },
  {
   "cell_type": "markdown",
   "metadata": {
    "slideshow": {
     "slide_type": "subslide"
    }
   },
   "source": [
    "- アルゴリズムの解説\n",
    "\n",
    "- 応用例\n",
    "  1. RCKモデル\n",
    "  2. ニューケインジアンモデル\n",
    "  \n",
    "- 仲田泰祐氏（東大）が作成したコードおよび講義資料を参照した"
   ]
  },
  {
   "cell_type": "markdown",
   "metadata": {
    "slideshow": {
     "slide_type": "subslide"
    }
   },
   "source": [
    "- RCKモデルの均衡条件は、以下のようにまとめられる\n",
    "\n",
    "\\begin{align*}\n",
    "  C_{t}^{-\\sigma} = C_{t+1}^{-\\sigma}\\beta\\left[ \\alpha A K_{t+1}^{\\alpha-1} + 1 -\\delta \\right] \\\\\n",
    "  K_{t+1} = AK_{t}^{\\alpha} - C_{t} + (1-\\delta)K_{t}\n",
    "\\end{align*}"
   ]
  },
  {
   "cell_type": "markdown",
   "metadata": {
    "slideshow": {
     "slide_type": "subslide"
    }
   },
   "source": [
    "## Shooting algorithm\n",
    "\n",
    "1. C_{0}^{i}"
   ]
  },
  {
   "cell_type": "markdown",
   "metadata": {
    "slideshow": {
     "slide_type": "slide"
    }
   },
   "source": [
    "## Modified Newton method\n",
    "\n",
    "- some intro ..."
   ]
  },
  {
   "cell_type": "markdown",
   "metadata": {
    "slideshow": {
     "slide_type": "subslide"
    }
   },
   "source": [
    "- 十分に大きい$T$について、$K_{T+1}=K_{ss}, C_{T}=C_{ss}$が成り立つ。このとき、\n",
    "\n",
    "\\begin{align*}\n",
    "  0 &= -C_{0}^{-\\sigma} + C_{1}^{-\\sigma}\\beta\\left[ \\alpha A K_{1}^{\\alpha-1} + 1 -\\delta \\right] \\\\\n",
    "  0 &= -K_{1} + AK_{0}^{\\alpha} - C_{0} + (1-\\delta)K_{0} \\\\\n",
    "  & \\cdots \\\\\n",
    "  0 &= -C_{t}^{-\\sigma} + C_{t+1}^{-\\sigma}\\beta\\left[ \\alpha A K_{t+1}^{\\alpha-1} + 1 -\\delta \\right] \\\\\n",
    "  0 &= -K_{t+1} + AK_{t}^{\\alpha} - C_{t} + (1-\\delta)K_{t} \\\\\n",
    "  & \\cdots \\\\\n",
    "  0 &= -C_{T-1}^{-\\sigma} + C_{\\color{red}{ss}}^{-\\sigma}\\beta\\left[ \\alpha A K_{T}^{\\alpha-1} + 1 -\\delta \\right] \\\\\n",
    "  0 &= -K_{T} + AK_{T-1}^{\\alpha} - C_{T-1} + (1-\\delta)K_{T-1}\n",
    "\\end{align*}\n",
    "\n",
    "$2T$の未知数$\\{C_{t},K_{t+1}\\}_{t=0}^{T-1}$に対して、$2T$の非線形の連立方程式が得られる"
   ]
  },
  {
   "cell_type": "markdown",
   "metadata": {
    "slideshow": {
     "slide_type": "subslide"
    }
   },
   "source": [
    "多変数のニュートン法(multivariate Newton's method)を用いて、以下のゼロ点$X\\in\\mathbb{R}^{n}$を求める\n",
    "\n",
    "$$\n",
    "  F(X)=0\n",
    "$$\n",
    "\n",
    "ここで、$F(\\cdot):\\mathbb{R}^{n} \\rightarrow \\mathbb{R}^{n}$"
   ]
  },
  {
   "cell_type": "markdown",
   "metadata": {
    "slideshow": {
     "slide_type": "fragment"
    }
   },
   "source": [
    "アルゴリズム\n",
    "\n",
    "1. $X^{0}$を推測する\n",
    "\n",
    "2. $X^{i+1}$をアップデート\n",
    "\n",
    "$$\n",
    "  X^{i+1} = X^{i} - \\left[\\frac{\\partial F(X)}{\\partial X} \\biggr|_{X=X^{i}} \\right]^{-1} F(X^{i})\n",
    "$$\n",
    "\n",
    "3. $X^{i}$が収束するまで繰り返す"
   ]
  },
  {
   "cell_type": "markdown",
   "metadata": {
    "slideshow": {
     "slide_type": "subslide"
    }
   },
   "source": [
    "- この場合、\n",
    "\n",
    "$$\n",
    "  X = \\left[\\begin{array}{c}\n",
    "  K_{T} \\\\\n",
    "  C_{T-1} \\\\\n",
    "  K_{T-1} \\\\\n",
    "  C_{T-2} \\\\\n",
    "  \\dots \\\\\n",
    "  C_{1} \\\\\n",
    "  K_{1} \\\\\n",
    "  C_{0} \\end{array}\\right], \n",
    "  F(X) = \\left[\\begin{array}{c}\n",
    "  -C_{T-1}^{-\\sigma} + C_{\\color{red}{ss}}^{-\\sigma}\\beta\\left[ \\alpha A K_{T}^{\\alpha-1} + 1 -\\delta \\right] \\\\\n",
    "  -K_{T} + AK_{T-1}^{\\alpha} - C_{T-1} + (1-\\delta)K_{T-1} \\\\\n",
    "  \\dots \\\\\n",
    "  -C_{t}^{-\\sigma} + C_{t+1}^{-\\sigma}\\beta\\left[ \\alpha A K_{t+1}^{\\alpha-1} + 1 -\\delta \\right] \\\\\n",
    "  -K_{t+1} + AK_{t}^{\\alpha} - C_{t} + (1-\\delta)K_{t} \\\\\n",
    "  \\dots \\\\\n",
    "  -C_{0}^{-\\sigma} + C_{1}^{-\\sigma}\\beta\\left[ \\alpha A K_{1}^{\\alpha-1} + 1 -\\delta \\right] \\\\\n",
    "  -K_{1} + AK_{0}^{\\alpha} - C_{0} + (1-\\delta)K_{0} \\end{array}\\right]\n",
    "$$\n",
    "\n",
    "$X$はサイズ$2T$の列ベクトル。$F(\\cdot):\\mathbb{R}^{2T} \\rightarrow \\mathbb{R}^{2T}$"
   ]
  },
  {
   "cell_type": "markdown",
   "metadata": {
    "slideshow": {
     "slide_type": "subslide"
    }
   },
   "source": [
    "- $\\left[\\frac{\\partial F(X)}{\\partial X} \\biggr|_{X=X^{i}} \\right]^{-1}$はサイズ$2T \\times 2T$の行列になる\n",
    "\n",
    "- ここで、この行列は帯行列（対角(Diagonal)要素の上下に帯（バンド）状に非ゼロ要素をもつ行列）になっていることに着目する"
   ]
  },
  {
   "cell_type": "markdown",
   "metadata": {
    "slideshow": {
     "slide_type": "subslide"
    }
   },
   "source": [
    "- ニューケインジアンモデルの均衡条件は、以下のようにまとめられる\n",
    "\n",
    "\\begin{align*}\n",
    " & \\tilde{C}_{t}^{-\\tau}=\\beta R_{n,t}\\mathbb{E}_{t}\\left[\\frac{\\tilde{C}_{t+1}^{-\\tau}}{\\exp(\\gamma_{t+1})\\Pi_{t+1}}\\right] \\tag{4} \\\\\n",
    " & 0=\\left((1-\\nu^{-1})+\\nu^{-1}\\tilde{C}_{t}^{\\tau}-\\phi\\left(\\Pi_{t}-\\bar{\\Pi}\\right)\\left[\\Pi_{t}-\\frac{1}{2\\nu}\\left(\\Pi_{t}-\\bar{\\Pi}\\right)\\right]\\right)\\tilde{C}_{t}^{-\\tau}\\tilde{Y}_{t} \\\\\n",
    " & +\\beta\\phi\\mathbb{E}_{t}\\left[\\tilde{C}_{t+1}^{-\\tau}\\tilde{Y}_{t+1}\\left(\\Pi_{t+1}-\\bar{\\Pi}\\right)\\Pi_{t+1}\\right] \\tag{5} \\\\\n",
    " & \\tilde{C}_{t}+\\frac{\\phi}{2}\\left(\\Pi_{t}-\\Pi\\right)^{2}\\tilde{Y}_{t}=\\exp(-g_{t})\\tilde{Y}_{t} \\tag{6} \\\\\n",
    " & R_{n,t}^{*}=\\left(R^{*}\\bar{\\Pi}\\left(\\frac{\\Pi}{\\bar{\\Pi}}\\right)^{\\psi_{1}}\\left(\\frac{\\tilde{Y}_{t}}{\\tilde{Y}_{t}^{*}}\\right)^{\\psi_{2}}\\right)^{1-\\rho_{R}}R_{n,t-1}^{*\\rho_{R}}\\exp(\\varepsilon_{R,t}) \\tag{7} \\\\\n",
    " & R_{n,t}=\\max\\left\\{ R_{n,t}^{*},1\\right\\} \\tag{8}\n",
    "\\end{align*}"
   ]
  },
  {
   "cell_type": "markdown",
   "metadata": {
    "slideshow": {
     "slide_type": "subslide"
    }
   },
   "source": [
    "- この場合、\n",
    "\n",
    "$$\n",
    "  X = \\left[\\begin{array}{c}\n",
    "  K_{T} \\\\\n",
    "  C_{T-1} \\\\\n",
    "  K_{T-1} \\\\\n",
    "  C_{T-2} \\\\\n",
    "  \\dots \\\\\n",
    "  C_{1} \\\\\n",
    "  K_{1} \\\\\n",
    "  C_{0} \\end{array}\\right], \n",
    "  F(X) = \\left[\\begin{array}{c}\n",
    "  -C_{T-1}^{-\\sigma} + C_{\\color{red}{ss}}^{-\\sigma}\\beta\\left[ \\alpha A K_{T}^{\\alpha-1} + 1 -\\delta \\right] \\\\\n",
    "  -K_{T} + AK_{T-1}^{\\alpha} - C_{T-1} + (1-\\delta)K_{T-1} \\\\\n",
    "  \\dots \\\\\n",
    "  -C_{t}^{-\\sigma} + C_{t+1}^{-\\sigma}\\beta\\left[ \\alpha A K_{t+1}^{\\alpha-1} + 1 -\\delta \\right] \\\\\n",
    "  -K_{t+1} + AK_{t}^{\\alpha} - C_{t} + (1-\\delta)K_{t} \\\\\n",
    "  \\dots \\\\\n",
    "  -C_{0}^{-\\sigma} + C_{1}^{-\\sigma}\\beta\\left[ \\alpha A K_{1}^{\\alpha-1} + 1 -\\delta \\right] \\\\\n",
    "  -K_{1} + AK_{0}^{\\alpha} - C_{0} + (1-\\delta)K_{0} \\end{array}\\right]\n",
    "$$\n",
    "\n",
    "$X$はサイズ$2T$の列ベクトル。$F(\\cdot):\\mathbb{R}^{2T} \\rightarrow \\mathbb{R}^{2T}$"
   ]
  }
 ],
 "metadata": {
  "celltoolbar": "Slideshow",
  "kernelspec": {
   "display_name": "Matlab",
   "language": "matlab",
   "name": "matlab"
  },
  "language_info": {
   "codemirror_mode": "octave",
   "file_extension": ".m",
   "help_links": [
    {
     "text": "MetaKernel Magics",
     "url": "https://metakernel.readthedocs.io/en/latest/source/README.html"
    }
   ],
   "mimetype": "text/x-octave",
   "name": "matlab",
   "version": "0.16.9"
  }
 },
 "nbformat": 4,
 "nbformat_minor": 4
}
