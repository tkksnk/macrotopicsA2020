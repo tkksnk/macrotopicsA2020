{
 "cells": [
  {
   "cell_type": "markdown",
   "metadata": {
    "slideshow": {
     "slide_type": "slide"
    }
   },
   "source": [
    "<div style=\"text-align: center;\">\n",
    "# マクロ経済特論A\n",
    "<div style=\"text-align: center;\">\n",
    "第5回：「ニューケインジアン・モデルの新展開」\n",
    "<br>\n",
    "<br>\n",
    "<div style=\"text-align: center;\">    \n",
    "2020年11月\n",
    "<div style=\"text-align: center;\">   \n",
    "一橋大学　砂川武貴"
   ]
  },
  {
   "cell_type": "markdown",
   "metadata": {
    "slideshow": {
     "slide_type": "slide"
    }
   },
   "source": [
    "# イントロダクション\n",
    "\n",
    "- 連載第4回では、時間反復法を用いて新古典派成長モデルを数値的に解く方法を示した\n",
    "\n",
    "- 時間反復法では、解の必要条件である均衡条件を連立方程式とみなしてモデルの解を求める\n",
    "\n",
    "- 均衡条件を求めること自体は比較的容易なため、この方法の汎用性は高く、たとえば、金融政策分析に使われるニューケインジアン・モデルを、非線形性を考慮して解くのによく使われる"
   ]
  },
  {
   "cell_type": "markdown",
   "metadata": {
    "slideshow": {
     "slide_type": "subslide"
    }
   },
   "source": [
    "- ニューケインジアン・モデルとしてよく知られているのは、以下の3本の線形差分方程式であろう\n",
    "  - 消費のオイラー方程式(consumption Euler equation)\n",
    "  - ニューケインジアン・フィリップス曲線(New Keynesian Phillips curve)\n",
    "  - テイラー・ルール(Taylor rule)\n",
    "  \n",
    "- この3本の式の線形モデルでも、ゼロ金利制約(zero lower bound on nominal interest rates)を導入するとモデルは非線形になり、解析解がある特殊なケースを除いては、数値解を求める必要がある"
   ]
  },
  {
   "cell_type": "markdown",
   "metadata": {
    "slideshow": {
     "slide_type": "subslide"
    }
   },
   "source": [
    "- これまでは、モデルに不確実な要素のない確定的なケースのみを扱ってきた\n",
    "\n",
    "- 今回はモデルに確率的なショックを導入する\n",
    "\n",
    "- より一般的なケースでは、連続的空間においてショックが自己回帰過程に従うことも考えられる\n",
    "\n",
    "- Tauchen(1986)等の手法を使うことで、$N$個の離散的な値をとるマルコフ連鎖で自己回帰過程を近似することができる"
   ]
  },
  {
   "cell_type": "markdown",
   "metadata": {
    "slideshow": {
     "slide_type": "subslide"
    }
   },
   "source": [
    "- 時間反復法は、最適金融政策の分析にも適用可能である\n",
    "\n",
    "- 最適金融政策は、均衡条件を制約として社会厚生を最大化するような配分を求めるが、このような動学最適化問題の1階の必要条件から解を求めることができる\n",
    "\n",
    "- また、ゼロ金利制約以外の非線形性についても、時間反復法を用いて完全に非線形なケースを考えることができる"
   ]
  },
  {
   "cell_type": "markdown",
   "metadata": {
    "slideshow": {
     "slide_type": "slide"
    }
   },
   "source": [
    "# 2状態モデル\n",
    "## 準線形モデル\n",
    "\n",
    "- 標準的な線形ニューケインジアン・モデルにゼロ金利制約を追加した準線形(quasi-linear)モデルを考える\n",
    "\n",
    "- 外生的なショック$s_{t}\\in\\{s_{H},s_{L}\\}$は$N=2$個だけの値をとると仮定しよう\n",
    "  - $s_{t}$はモデルの状態変数(state variable)であり、ここでは自然利子率(natural rate of interest)とする\n",
    "  - $s_{H}>s_{L}$として、添字$\\{H,L\\}$はそれぞれ状態(state)がHighもしくはLowであることを示す\n"
   ]
  },
  {
   "cell_type": "markdown",
   "metadata": {
    "slideshow": {
     "slide_type": "subslide"
    }
   },
   "source": [
    "- 状態は、$H$と$L$の間を、ある確率過程にしたがって時間とともに動く\n",
    "\n",
    "- ここで、今期の状態がいずれかになる確率は、前期の状態にのみ依存するという仮定を置く。すなわち、確率過程は以下の遷移行列を持つマルコフ連鎖によって表される\n",
    "\n",
    "$$\n",
    "  P = \\left[\\begin{array}{cc}\n",
    "  1-p_{H} & p_{H} \\\\ \n",
    "  1-p_{L} & p_{L} \\end{array}\\right]\n",
    "$$"
   ]
  },
  {
   "cell_type": "markdown",
   "metadata": {
    "slideshow": {
     "slide_type": "subslide"
    }
   },
   "source": [
    "- モデルの均衡条件は、以下の3つの式からなる連立方程式で与えられる\n",
    "\n",
    "\\begin{align*}\n",
    "  y_{t} &= \\mathbb{E}_{t}y_{t+1} - \\left(r_{n,t}-\\mathbb{E}_{t}\\pi_{t+1}-s_{t}\\right) \\tag{1} \\\\\n",
    "  \\pi_{t} &= \\kappa y_{t} + \\beta \\mathbb{E}_{t}\\pi_{t+1} \\tag{2} \\\\\n",
    "  r_{n,t}^{*} &= r^{*} + \\phi_{\\pi} \\mathbb{E}_{t}\\pi_{t+1} \\tag{3}\n",
    "\\end{align*}"
   ]
  },
  {
   "cell_type": "markdown",
   "metadata": {
    "slideshow": {
     "slide_type": "fragment"
    }
   },
   "source": [
    "- これらの式は、家計や企業の最適化問題から導出された均衡条件を対数線形近似したものであり、それぞれ、消費のオイラー方程式、ニューケインジアン・フィリップス曲線、テイラー型の金融政策ルールと呼ばれる\n",
    "\n",
    "- $y_{t}$は生産ギャップ、$\\pi_{t}$はインフレ率、$r_{n,t}$は名目金利\n",
    "\n",
    "- $(\\beta,\\phi_{\\pi},\\kappa,r^{*})$はパラメータ：家計や企業の最適化行動のミクロ的基礎付けのある非線形モデルに基づく"
   ]
  },
  {
   "cell_type": "markdown",
   "metadata": {
    "slideshow": {
     "slide_type": "subslide"
    }
   },
   "source": []
  },
  {
   "cell_type": "code",
   "execution_count": null,
   "metadata": {},
   "outputs": [],
   "source": []
  }
 ],
 "metadata": {
  "celltoolbar": "Slideshow",
  "kernelspec": {
   "display_name": "Matlab",
   "language": "matlab",
   "name": "matlab"
  },
  "language_info": {
   "codemirror_mode": "octave",
   "file_extension": ".m",
   "help_links": [
    {
     "text": "MetaKernel Magics",
     "url": "https://metakernel.readthedocs.io/en/latest/source/README.html"
    }
   ],
   "mimetype": "text/x-octave",
   "name": "matlab",
   "version": "0.16.9"
  }
 },
 "nbformat": 4,
 "nbformat_minor": 4
}
