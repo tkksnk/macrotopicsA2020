{
 "cells": [
  {
   "cell_type": "markdown",
   "metadata": {
    "slideshow": {
     "slide_type": "slide"
    }
   },
   "source": [
    "<div style=\"text-align: center;\">\n",
    "# マクロ経済特論A\n",
    "<div style=\"text-align: center;\">\n",
    "第3回：「動的計画法」\n",
    "<br>\n",
    "<br>\n",
    "<div style=\"text-align: center;\">    \n",
    "2020年11月\n",
    "<div style=\"text-align: center;\">   \n",
    "一橋大学　砂川武貴"
   ]
  },
  {
   "cell_type": "markdown",
   "metadata": {
    "slideshow": {
     "slide_type": "slide"
    }
   },
   "source": [
    "# 局所的近似と大域的近似\n",
    "\n",
    "\n",
    "- 動学的マクロ経済モデルの代表的な解法：動的計画法(dynamic programming)\n",
    "\n",
    "\n",
    "- 現在のマクロ経済モデルは新古典派成長モデル(neoclassical growth model)に支えられている\n",
    "  - 代表的個人（家計）と代表的企業が経済活動を無限期間行うと想定した際の動学的最適化問題\n",
    "  - 実物的景気循環理論やニューケインジアンDSGEモデルなどのベース"
   ]
  },
  {
   "cell_type": "markdown",
   "metadata": {
    "slideshow": {
     "slide_type": "subslide"
    }
   },
   "source": [
    "- 似たような経済問題であっても、モデルの特性や知りたいことに応じて解法はいくつか存在\n",
    "\n",
    "\n",
    "- 2つのアプローチ\n",
    "  - 定常状態の近傍を局所的(local)に線形近似で解くアプローチ\n",
    "  - モデルを大域的(global)に解くアプローチ\n",
    "\n",
    "\n",
    "- 動的計画法は大域的に消費者や企業の意思決定問題を解くことができる\n",
    "  - 強い非線形性が存在するモデルにおいて強みを発揮\n",
    "  - 構造推計(structural estimation)にも利用される"
   ]
  },
  {
   "cell_type": "markdown",
   "metadata": {
    "slideshow": {
     "slide_type": "slide"
    }
   },
   "source": [
    "# ロビンソン・クルーソーとベルマン方程式\n",
    "\n",
    "- 代表的個人モデル(representative agent model)を設定\n",
    "\n",
    "- 無人島で生活するロビンソン・クルーソーは、一人で生産と消費・貯蓄の計画を立てる\n",
    "\n",
    "- 他の経済主体との市場における取引は存在しない\n",
    "\n",
    "- 消費と貯蓄の最適経路(optimal path)を考えて実行する"
   ]
  },
  {
   "cell_type": "markdown",
   "metadata": {
    "slideshow": {
     "slide_type": "subslide"
    }
   },
   "source": [
    "- 時間は離散的に進む\n",
    "  - 現時点でのカレンダー年：$t>0$\n",
    "  - 必ず$T$期終了後に助けが来ることがわかっている：$t=0,...,T$\n",
    "\n",
    "\n",
    "- $t=0$期時点で手元にある資本（穀物の種）$k_{0}$を使って、最適な消費・貯蓄計画を立てる\n",
    "\n",
    "\n",
    "- この種を食べるか、種を蒔いて増やす：全ての種を食べると次期に食べるものがなくなるが、全ての種を蒔くと今日ひもじい思いをするため、ちょうどよいバランスを考える"
   ]
  },
  {
   "cell_type": "markdown",
   "metadata": {
    "slideshow": {
     "slide_type": "subslide"
    }
   },
   "source": [
    "- この状況を予算制約として表現すると、\n",
    "\n",
    "$$\n",
    "  c_{t} + k_{t+1} \\leq f(k_{t}) \\tag{1}\n",
    "$$"
   ]
  },
  {
   "cell_type": "markdown",
   "metadata": {
    "slideshow": {
     "slide_type": "fragment"
    }
   },
   "source": [
    "- $c_{t}$は$t$期における消費\n",
    "\n",
    "- $f(k_{t})$は生産関数：$k_{t}$単位の種を蒔くと$y_{t}=f(k_{t})$だけの種が収穫できる\n",
    "\n",
    "- $f'(k_{t})>0$および$f''(k_{t})<0$を満たす（収穫逓減の仮定）"
   ]
  },
  {
   "cell_type": "markdown",
   "metadata": {
    "slideshow": {
     "slide_type": "subslide"
    }
   },
   "source": [
    "- ロビンソン・クルーソーは消費から得られる効用の割引現在価値を最大化する\n",
    "\n",
    "$$\n",
    "  \\max_{\\{c_{t},k_{t+1}\\}_{t=0}^{T}} \\sum_{t=0}^{T} \\beta^{t} u(c_{t}) \\tag{2}\n",
    "$$"
   ]
  },
  {
   "cell_type": "markdown",
   "metadata": {
    "slideshow": {
     "slide_type": "fragment"
    }
   },
   "source": [
    "- 効用関数$u(c_{t})$にも、$u'(c_{t})>0$および$u''(c_{t})<0$を仮定する\n",
    "\n",
    "- (2)の目的関数を最大にする消費及び資本の経路$\\{c_{t},k_{t+1}\\}_{t=0}^{T}$を知りたい\n",
    "  - $T$期にある種は全て食べてしまうのが最適：$k_{T+1}=0$\n",
    "  - $0$期に手元にある種（無人島では種を借りることはできない）：$k_{0}>0$"
   ]
  },
  {
   "cell_type": "markdown",
   "metadata": {
    "slideshow": {
     "slide_type": "subslide"
    }
   },
   "source": [
    "- 予算制約式(1)のもとで(2)式を最大化する動学的最適化問題を解く\n",
    "\n",
    "\n",
    "- 逐次問題(sequential problem)：ラグランジュ未定乗数法を用いると、1階の必要条件であるオイラー方程式を導出できる\n",
    "\n",
    "$$\n",
    "  u'(c_{t}) = \\beta u'(c_{t+1})f'(k_{t+1})\n",
    "$$"
   ]
  },
  {
   "cell_type": "markdown",
   "metadata": {
    "slideshow": {
     "slide_type": "subslide"
    }
   },
   "source": [
    "- ここでは、別のアプローチを考える\n",
    "\n",
    "- ロビンソン・クルーソーが最適計画を立てるのに必要な情報は、無人島で生活する期間$T$とスタート時点で保有している資本$k_{0}$である"
   ]
  },
  {
   "cell_type": "markdown",
   "metadata": {
    "slideshow": {
     "slide_type": "fragment"
    }
   },
   "source": [
    "- 価値関数(value function)：$V_{0}(k_{0})$を0期において$k_{0}$だけ資本を保有していた際に達成できる最大効用と定義すると\n",
    "\n",
    "\\begin{align*}\n",
    "  V_{0}(k_{0}) &= \\max\\{u(c_{0}) + \\beta u(c_{1}) + \\beta^{2} u(c_{2}) + \\cdots + \\beta^{T} u(c_{T})\\} \\\\\n",
    "  & = \\max\\{u(c_{0}) + \\beta [u(c_{1}) + \\beta u(c_{2}) + \\cdots + \\beta^{T-1} u(c_{T})]\\} \\\\\n",
    "  & = \\max\\{u(c_{0}) + \\beta V_{1}(k_{1})\\} \\tag{4}\n",
    "\\end{align*}\n",
    "\n",
    "$V_{1}(k_{1})$は1期に$k_{1}$だけ資本を保有していた際の価値関数\n",
    "\n",
    "- 同じだけ資本を保有していても残存期間が異なれば価値関数は異なる($V_{0}(k) \\neq V_{1}(k)$)"
   ]
  },
  {
   "cell_type": "markdown",
   "metadata": {
    "slideshow": {
     "slide_type": "subslide"
    }
   },
   "source": [
    "- 0期に$k_{0}$を保有していた経済主体が$T+1$期間を通じた最適貯蓄計画を解く問題を、\n",
    "  - 0期の消費・貯蓄選択問題と\n",
    "  - 「1期に$k_{1}$を保有している際の最適貯蓄問題」に分割した\n",
    "  \n",
    "  \n",
    "- これにより、$T+1$期間の消費と貯蓄の流列を探す問題を、（$V_{1}(k)$を所与として）$k_{1}$を探す問題に変換した"
   ]
  },
  {
   "cell_type": "markdown",
   "metadata": {
    "slideshow": {
     "slide_type": "fragment"
    }
   },
   "source": [
    "- 最適性原理(principle of optimality)：0期に最適計画が出来ているのであれば、それ以降の部分問題（「1期に$k_{1}$を保有している際の最適貯蓄問題」）も最適になっている\n",
    "\n",
    "\n",
    "- (4)式はベルマン方程式(Bellman equation)とも呼ばれる"
   ]
  },
  {
   "cell_type": "markdown",
   "metadata": {
    "slideshow": {
     "slide_type": "slide"
    }
   },
   "source": [
    "# 有限期間モデルの解法\n",
    "## 後ろ向き帰納法\n",
    "\n",
    "- 我々が知りたいのは、価値関数$V_{t}(k_{t})$と、政策関数$k_{t+1}=g_{t}(k_{t})$である\n",
    "\n",
    "- 前回同様、最終期から後ろ向きに解いていけばよい\n",
    "\n",
    "- カリブレーション\n",
    "  - ロビンソン・クルーソーは、$T=10$期間後に助けが来ることを知っている\n",
    "  - 割引因子：$\\beta=0.96$\n",
    "  - 効用関数：$u(c)=\\ln c$\n",
    "  - 生産関数：$f(k)=k^{\\alpha}, \\alpha=0.4$"
   ]
  },
  {
   "cell_type": "markdown",
   "metadata": {
    "slideshow": {
     "slide_type": "subslide"
    }
   },
   "source": [
    "- 状態変数$k$を離散化して、$k^{i}\\in\\{k^{1},...,k^{I}\\}$を資本に関するグリッドとする\n",
    "\n",
    "- 最終期の$T$期では、資本を残しておく必要はない\n",
    "\n",
    "$$\n",
    "  c^{i}_{T} = f(k^{i}), \\quad V_{T}(k^{i}) = \\ln c^{i}_{T}\n",
    "$$"
   ]
  },
  {
   "cell_type": "markdown",
   "metadata": {
    "slideshow": {
     "slide_type": "subslide"
    }
   },
   "source": [
    "- $T-1$期では、前回勉強した2期間モデルと構造は全く同じである\n",
    "\n",
    "\\begin{align*}\n",
    "  V_{T-1}(k^{i}) &= \\max_{k_{T}} u(f(k^{i})-k_{T}) + \\beta V_{T}(k_{T}) \\\\\n",
    "  &= \\max_{k_{T}} \\ln(f(k^{i})-k_{T}) + \\beta \\ln(k_{T})\n",
    "\\end{align*}\n",
    "\n",
    "- 前回紹介した最適化によって、近似的な価値関数（点の集まり）$\\{V_{T-1}(k^{i})\\}_{i=1}^{I}$を得られる"
   ]
  },
  {
   "cell_type": "code",
   "execution_count": null,
   "metadata": {
    "slideshow": {
     "slide_type": "subslide"
    }
   },
   "outputs": [],
   "source": [
    "%%file CRRA.m\n",
    "function util = CRRA(cons,gamma)\n",
    "\n",
    "if gamma ~= 1;\n",
    "    util = (cons.^(1-gamma)-1)./(1-gamma);\n",
    "else\n",
    "    util = log(cons);\n",
    "end\n",
    "\n",
    "return;"
   ]
  },
  {
   "cell_type": "code",
   "execution_count": 1,
   "metadata": {
    "slideshow": {
     "slide_type": "subslide"
    }
   },
   "outputs": [
    {
     "name": "stdout",
     "output_type": "stream",
     "text": [
      "\n"
     ]
    }
   ],
   "source": [
    "global beta gamma alpha capital vfcn kgrid\n",
    "\n",
    "%% *** カリブレーション ***\n",
    "beta  = 0.96; % 割引因子\n",
    "gamma = 1.0;  % 相対的危険回避度(異時点間の代替の弾力性の逆数)\n",
    "alpha = 0.4;  % 資本分配率\n",
    "\n",
    "% *** 離散化用のパラメータ ***\n",
    "nk   = 11;    % グリッドの数\n",
    "kmax =  1.0;  % 資本グリッドの最大値\n",
    "kmin =  0.05; % 資本グリッドの最小値\n",
    "\n",
    "%% グリッドポイントを計算\n",
    "kgrid = linspace(kmin, kmax, nk)';"
   ]
  },
  {
   "cell_type": "code",
   "execution_count": null,
   "metadata": {
    "slideshow": {
     "slide_type": "subslide"
    }
   },
   "outputs": [],
   "source": [
    "%%file BellmanEqT.m\n",
    "function  value = BellmanEqT(kprime)\n",
    "\n",
    "global beta gamma alpha delta capital vfcn kgrid\n",
    "%global beta gamma alpha capital val_fcn kgrid\n",
    "\n",
    "%% ベルマン方程式\n",
    "\n",
    "wealth = capital.^alpha;\n",
    "\n",
    "cons = wealth - kprime;\n",
    "\n",
    "% 消費が負値の場合、ペナルティを与えてその値が選ばれないようにする\n",
    "if cons > 0.0\n",
    "    util = CRRA(cons, gamma);\n",
    "else\n",
    "    util = -10000.0;\n",
    "end\n",
    "\n",
    "% 最終期の価値関数＝消費から得られる効用\n",
    "vnext = CRRA(kprime^alpha, gamma);\n",
    "\n",
    "value = util + beta.*vnext;\n",
    "\n",
    "%% トリック(1): k'は正の値しか取らないので、ペナルティを与えてその値が選ばれないようにする\n",
    "if kprime < 0\n",
    "    value = -1000000.0;\n",
    "end\n",
    "\n",
    "%% トリック(2): \"最小化\"をするので符号を反転\n",
    "value = -1*value;"
   ]
  },
  {
   "cell_type": "code",
   "execution_count": 9,
   "metadata": {
    "slideshow": {
     "slide_type": "subslide"
    }
   },
   "outputs": [
    {
     "name": "stdout",
     "output_type": "stream",
     "text": [
      "\n"
     ]
    }
   ],
   "source": [
    "%% T-1期\n",
    "for i = 1:nk\n",
    "\n",
    "    % グローバル変数を設定\n",
    "    % fminsearchで使う関数(BellmanEq)に最適化する変数\"以外\"の変数を渡す(グローバル変数を使わない方法もあるはず)\n",
    "    capital = kgrid(i);\n",
    "\n",
    "    % MATLABの最適化関数(fminsearch)を使ってグリッド上で価値関数と政策関数の値を探す\n",
    "    % 初期値は0.01\n",
    "    [pfcn1(i), vfcn1(i)] = fminsearch(@BellmanEqT, 0.01);\n",
    "\n",
    "end\n",
    "\n",
    "% 消費関数を計算(必ずしも計算する必要はない)\n",
    "cfcn1 = kgrid.^alpha - pfcn1;\n",
    "\n",
    "% fminsearchは最小値を探す関数なので符号を反転させる\n",
    "vfcn1 = -1*vfcn1;"
   ]
  },
  {
   "cell_type": "markdown",
   "metadata": {
    "slideshow": {
     "slide_type": "subslide"
    }
   },
   "source": [
    "- 計算の結果、$T-1$期の価値関数$V_{T-1}(k^{i})$のグリッドの値は、以下のようになる"
   ]
  },
  {
   "cell_type": "code",
   "execution_count": 10,
   "metadata": {
    "slideshow": {
     "slide_type": "fragment"
    }
   },
   "outputs": [
    {
     "name": "stdout",
     "output_type": "stream",
     "text": [
      "\n"
     ]
    },
    {
     "data": {
      "image/png": "[encoded data removed]",
      "text/plain": [
       "<IPython.core.display.Image object>"
      ]
     },
     "metadata": {},
     "output_type": "display_data"
    }
   ],
   "source": [
    "%% DATA POINTS\n",
    "figure;\n",
    "plot(kgrid, vfcn1, 'o', 'color', 'blue', 'MarkerSize', 12, 'linewidth', 3);\n",
    "xlabel('資本保有量：k', 'Fontsize', 16);\n",
    "ylabel('グリッド上の価値関数：V_{T-1}(k^{i})', 'Fontsize', 16);\n",
    "xlim([0, 1.5]);\n",
    "ylim([-3, 0]);\n",
    "grid on;\n",
    "set(gca,'Fontsize',16);"
   ]
  },
  {
   "cell_type": "markdown",
   "metadata": {
    "slideshow": {
     "slide_type": "subslide"
    }
   },
   "source": [
    "- $T-2$期では、解きたい問題は\n",
    "\n",
    "$$\n",
    "  V_{T-2}(k^{i}) = \\max_{k_{T-1}} u(f(k^{i})-k_{T-1}) + \\beta V_{T-1}(k_{T-1}) \\tag{5}\n",
    "$$"
   ]
  },
  {
   "cell_type": "markdown",
   "metadata": {
    "slideshow": {
     "slide_type": "fragment"
    }
   },
   "source": [
    "- $V_{T-1}(k_{T-1})$は、$\\{V_{T-1}(k^{i})\\}_{i=1}^{I}$という離散個の点の集まり\n",
    "\n",
    "- 最適な次期の資本$k_{T-1}$が必ずしもグリッド上の値を取る保証はないため、内挿法(interpolation)が必要になる"
   ]
  },
  {
   "cell_type": "markdown",
   "metadata": {
    "slideshow": {
     "slide_type": "subslide"
    }
   },
   "source": [
    "## 内挿法と外挿法\n",
    "\n",
    "$k_{T-1}\\in[k^{i},k^{i+1}]$であれば、\n",
    "\n",
    "- 線形補間(linear interpolation)：\n",
    "\n",
    "$$\n",
    "  V_{T-1}(k_{T-1}) = V_{T-1}(k^{i})\\frac{k^{i}-k_{T-1}}{k^{i+1}-k^{i}} + V_{T-1}(k^{i+1})\\frac{k_{T-1}-k^{i}}{k^{i+1}-k^{i}}\n",
    "$$\n",
    "\n",
    "<!--\n",
    "- スプライン補間(spline interpolation)：\n",
    "\n",
    "$$\n",
    "  V_{T-1}(k_{T-1}) = c_{0,i} + c_{1,i}(k_{T-1}-k^{i}) + c_{2,i}(k_{T-1}-k^{i})^{2} + c_{3,i}(k_{T-1}-k^{i})^{3}   \n",
    "$$\n",
    "\n",
    "$(c_{0,i},c_{1,i},c_{2,i},c_{3,i})$は以下の条件を満たすように求められる\n",
    "-->"
   ]
  },
  {
   "cell_type": "markdown",
   "metadata": {
    "slideshow": {
     "slide_type": "fragment"
    }
   },
   "source": [
    "- 線形補間は直観的で強力であるが、欠点も存在\n",
    "\n",
    "- 価値関数は微分可能な関数であるが、それを線形補間して近似した関数は、線と線のつなぎ目（グリッド上）で微分不可能になる\n",
    "\n",
    "- 微分可能性を維持する方法の1つとして、3次のスプライン補間(cubic spline interpolation)がある"
   ]
  },
  {
   "cell_type": "code",
   "execution_count": 11,
   "metadata": {
    "slideshow": {
     "slide_type": "fragment"
    }
   },
   "outputs": [
    {
     "name": "stdout",
     "output_type": "stream",
     "text": [
      "\n"
     ]
    }
   ],
   "source": [
    "%% MATLAB関数を使った内挿\n",
    "nkk = 1001;\n",
    "kkmin = 0.0;\n",
    "kkmax = 1.5;\n",
    "kkgrid = linspace(kkmin, kkmax, nkk);\n",
    "\n",
    "v_ln = zeros(nkk, 1);\n",
    "v_cs = zeros(nkk, 1);\n",
    "\n",
    "for i = 1:nkk\n",
    "    v_ln(i, 1) = interp1(kgrid, vfcn1, kkgrid(i), 'linear', 'extrap');\n",
    "    v_cs(i, 1) = interp1(kgrid, vfcn1, kkgrid(i), 'spline');\n",
    "end"
   ]
  },
  {
   "cell_type": "markdown",
   "metadata": {
    "slideshow": {
     "slide_type": "subslide"
    }
   },
   "source": [
    "- $T-1$期の価値関数$V_{T-1}(k^{i})$のグリッドを線形補間およびスプライン補間したのが以下の図である\n",
    "\n",
    "- 定義域の外側を補完する場合には、線形補間とスプライン補間で違いが出ている"
   ]
  },
  {
   "cell_type": "code",
   "execution_count": 12,
   "metadata": {
    "slideshow": {
     "slide_type": "fragment"
    }
   },
   "outputs": [
    {
     "name": "stdout",
     "output_type": "stream",
     "text": [
      "\n"
     ]
    },
    {
     "data": {
      "image/png": "[encoded data removed]",
      "text/plain": [
       "<IPython.core.display.Image object>"
      ]
     },
     "metadata": {},
     "output_type": "display_data"
    }
   ],
   "source": [
    "figure;\n",
    "plot(kkgrid, v_ln, '-', 'color', 'blue', 'linewidth', 3); hold('on');\n",
    "plot(kkgrid, v_cs, '--', 'color', 'red', 'linewidth', 3); hold('off');\n",
    "xlabel('資本保有量：k', 'Fontsize', 16);\n",
    "ylabel('価値関数：V_{T-1}(k)', 'Fontsize', 16);\n",
    "legend('線形近似', 'スプライン近似', 'Location', 'SouthEast');\n",
    "xlim([0, 1.5]);\n",
    "ylim([-3, 0]);\n",
    "grid on;\n",
    "set(gca,'Fontsize',16);"
   ]
  },
  {
   "cell_type": "markdown",
   "metadata": {
    "slideshow": {
     "slide_type": "subslide"
    }
   },
   "source": [
    "## 計算結果\n",
    "\n",
    "- 内挿法と前回学んだ最適化を組み合わせることで、グリッド上で(5)式を解くことが出来る\n",
    "\n",
    "\n",
    "- 計算を繰り返し$t=0$期までさかのぼっていく"
   ]
  },
  {
   "cell_type": "code",
   "execution_count": null,
   "metadata": {
    "slideshow": {
     "slide_type": "subslide"
    }
   },
   "outputs": [],
   "source": [
    "%%file BellmanEq.m\n",
    "function  value = BellmanEq(kprime)\n",
    "\n",
    "global beta gamma alpha delta capital vfcn kgrid\n",
    "%global beta gamma alpha capital val_fcn kgrid\n",
    "\n",
    "%% ベルマン方程式\n",
    "\n",
    "wealth = capital.^alpha;\n",
    "\n",
    "cons = wealth - kprime;\n",
    "\n",
    "% 消費が負値の場合、ペナルティを与えてその値が選ばれないようにする\n",
    "if cons > 0.0\n",
    "    util = CRRA(cons, gamma);\n",
    "else\n",
    "    util = -10000.0;\n",
    "end\n",
    "\n",
    "% 次期の価値関数を線形補間\n",
    "% vnext = interp1(kgrid, vfcn, kprime, 'linear', 'extrap');\n",
    "\n",
    "% 次期の価値関数をスプライン補間\n",
    "vnext = interp1(kgrid, vfcn, kprime, 'spline');\n",
    "\n",
    "value = util + beta.*vnext;\n",
    "\n",
    "%% トリック(1): k'は正の値しか取らないので、ペナルティを与えてその値が選ばれないようにする\n",
    "if kprime < 0\n",
    "    value = -1000000.0;\n",
    "end\n",
    "\n",
    "%% トリック(2): \"最小化\"をするので符号を反転\n",
    "value = -1*value;"
   ]
  },
  {
   "cell_type": "code",
   "execution_count": 13,
   "metadata": {
    "slideshow": {
     "slide_type": "subslide"
    }
   },
   "outputs": [
    {
     "name": "stdout",
     "output_type": "stream",
     "text": [
      "\n"
     ]
    }
   ],
   "source": [
    "% *** 変数を定義 ***\n",
    "TT   = 10;                % 無人島に滞在する期間\n",
    "vfcn_mat = zeros(nk, TT); % 価値関数\n",
    "pfcn_mat = zeros(nk, TT); % 政策関数\n",
    "cfcn_mat = zeros(nk, TT); % 消費関数\n",
    "\n",
    "%% 最終期(全てを消費)\n",
    "pfcn_mat(:, TT) = 0; % 全て消費するので貯蓄はゼロ\n",
    "cfcn_mat(:, TT) = kgrid.^alpha; % 生産=消費\n",
    "vfcn_mat(:, TT) = CRRA(cfcn_mat(:, TT), gamma); % 消費から得られる効用"
   ]
  },
  {
   "cell_type": "code",
   "execution_count": 14,
   "metadata": {
    "slideshow": {
     "slide_type": "subslide"
    }
   },
   "outputs": [
    {
     "name": "stdout",
     "output_type": "stream",
     "text": [
      "period 9: \n",
      "period 8: \n",
      "period 7: \n",
      "period 6: \n",
      "period 5: \n",
      "period 4: \n",
      "period 3: \n",
      "period 2: \n",
      "period 1: \n",
      "\n"
     ]
    }
   ],
   "source": [
    "%% メインループ\n",
    "for t = TT-1:-1:1\n",
    "\n",
    "    fprintf('period %d: \\n', t);\n",
    "\n",
    "    for i = 1:nk\n",
    "\n",
    "        % グローバル変数を設定\n",
    "        % fminsearchで使う関数(BellmanEq)に最適化する変数\"以外\"の変数を渡す(グローバル変数を使わない方法もあるはず)\n",
    "        capital = kgrid(i);\n",
    "        vfcn = vfcn_mat(:, t+1);\n",
    "\n",
    "        % MATLABの最適化関数(fminsearch)を使ってグリッド上で価値関数と政策関数の値を探す\n",
    "        % 初期値は0.01\n",
    "        [pfcn_mat(i, t), vfcn_mat(i, t)] = fminsearch(@BellmanEq, 0.01);\n",
    "\n",
    "    end\n",
    "\n",
    "    % 消費関数を計算(必ずしも計算する必要はない)\n",
    "    cfcn_mat(:, t) = kgrid.^alpha - pfcn_mat(:, t);\n",
    "\n",
    "    % fminsearchは最小値を探す関数なので符号を反転させる\n",
    "    vfcn_mat(:, t) = -1*vfcn_mat(:, t);\n",
    "\n",
    "end"
   ]
  },
  {
   "cell_type": "markdown",
   "metadata": {
    "slideshow": {
     "slide_type": "subslide"
    }
   },
   "source": [
    "- 価値関数は凸関数であり、効用関数の性質を引き継いでいる\n",
    "\n",
    "- 同じ資本保有量でも、残存期間に応じて最適な貯蓄額は異なる\n",
    "\n",
    "- 消費関数も凸関数である：消費者行動の分析につながる"
   ]
  },
  {
   "cell_type": "code",
   "execution_count": 15,
   "metadata": {
    "slideshow": {
     "slide_type": "fragment"
    }
   },
   "outputs": [
    {
     "name": "stdout",
     "output_type": "stream",
     "text": [
      "\n"
     ]
    },
    {
     "data": {
      "image/png": "[encoded data removed]",
      "text/plain": [
       "<IPython.core.display.Image object>"
      ]
     },
     "metadata": {},
     "output_type": "display_data"
    }
   ],
   "source": [
    "figure;\n",
    "plot(kgrid, vfcn_mat(:,TT), '-', 'linewidth', 3); hold('on');\n",
    "plot(kgrid, vfcn_mat(:,9), '-.', 'linewidth', 3);\n",
    "plot(kgrid, vfcn_mat(:,8), '--', 'linewidth', 3);\n",
    "plot(kgrid, vfcn_mat(:,7), ':', 'linewidth', 3);\n",
    "plot(kgrid, vfcn_mat(:,1), '-', 'linewidth', 3); hold('off');\n",
    "%title('価値関数', 'fontsize', 16);\n",
    "xlabel('資本保有量：k_{t}', 'Fontsize', 16);\n",
    "ylabel('価値関数：V_{t}(k_{t})', 'Fontsize', 16);\n",
    "legend('10期', '9期', '8期', '7期', '1期', 'Location', 'SouthEast');\n",
    "grid on;\n",
    "set(gca,'Fontsize',16);"
   ]
  },
  {
   "cell_type": "code",
   "execution_count": 16,
   "metadata": {
    "slideshow": {
     "slide_type": "subslide"
    }
   },
   "outputs": [
    {
     "name": "stdout",
     "output_type": "stream",
     "text": [
      "\n"
     ]
    },
    {
     "data": {
      "image/png": "[encoded data removed]",
      "text/plain": [
       "<IPython.core.display.Image object>"
      ]
     },
     "metadata": {},
     "output_type": "display_data"
    }
   ],
   "source": [
    "figure;\n",
    "plot(kgrid, pfcn_mat(:,TT), '-', 'linewidth', 3); hold('on');\n",
    "plot(kgrid, pfcn_mat(:,9), '-.', 'linewidth', 3);\n",
    "plot(kgrid, pfcn_mat(:,8), '--', 'linewidth', 3);\n",
    "plot(kgrid, pfcn_mat(:,7), ':', 'linewidth', 3);\n",
    "plot(kgrid, pfcn_mat(:,1), '-', 'linewidth', 3); hold('off');\n",
    "%title('政策関数', 'fontsize', 16);\n",
    "xlabel('t期の資本保有量：k_{t}', 'Fontsize', 16);\n",
    "ylabel(\"t+1期の資本保有量：k_{t+1}\", 'Fontsize', 16);\n",
    "legend('10期', '9期', '8期', '7期', '1期', 'Location', 'SouthEast');\n",
    "grid on;\n",
    "set(gca,'Fontsize',16);"
   ]
  },
  {
   "cell_type": "code",
   "execution_count": 17,
   "metadata": {
    "slideshow": {
     "slide_type": "subslide"
    }
   },
   "outputs": [
    {
     "name": "stdout",
     "output_type": "stream",
     "text": [
      "\n"
     ]
    },
    {
     "data": {
      "image/png": "[encoded data removed]",
      "text/plain": [
       "<IPython.core.display.Image object>"
      ]
     },
     "metadata": {},
     "output_type": "display_data"
    }
   ],
   "source": [
    "figure;\n",
    "plot(kgrid, cfcn_mat(:,TT), '-', 'linewidth', 3); hold('on');\n",
    "plot(kgrid, cfcn_mat(:,9), '-.', 'linewidth', 3);\n",
    "plot(kgrid, cfcn_mat(:,8), '--', 'linewidth', 3);\n",
    "plot(kgrid, cfcn_mat(:,7), ':', 'linewidth', 3);\n",
    "plot(kgrid, cfcn_mat(:,1), '-', 'linewidth', 3); hold('off');\n",
    "%title('消費関数', 'fontsize', 16);\n",
    "xlabel('資本保有量：k_{t}', 'Fontsize', 16);\n",
    "ylabel('消費：c_{t}', 'Fontsize', 16);\n",
    "legend('10期', '9期', '8期', '7期', '1期', 'Location', 'SouthEast');\n",
    "grid on;\n",
    "set(gca,'Fontsize',16);"
   ]
  },
  {
   "cell_type": "markdown",
   "metadata": {
    "slideshow": {
     "slide_type": "slide"
    }
   },
   "source": [
    "# 無限期間モデル（新古典派成長モデル）\n",
    "\n",
    "- ロビンソン・クルーソーの無人島生活と違って、われわれが生活する社会では明確な最終期は存在しない\n",
    "\n",
    "- あるいは、自分の世代から子供、孫、またその子供と続く王朝的な経済活動を考える\n",
    "\n",
    "- 無限期間モデル(infinite horizon model)では、そのような永続的な経済活動を考える"
   ]
  },
  {
   "cell_type": "markdown",
   "metadata": {
    "slideshow": {
     "slide_type": "subslide"
    }
   },
   "source": [
    "- 代表的個人が存在する経済を無限期間に拡張する\n",
    "\n",
    "- ロビンソン・クルーソーは無限期間の消費から得られる効用の割引現在価値を最大化するように、消費と貯蓄を選択する\n",
    "\n",
    "$$\n",
    "  \\max_{\\{c_{t},k_{t+1}\\}_{t=0}^{\\infty}} \\sum_{t=0}^{\\infty} \\beta^{t} u(c_{t})\n",
    "$$\n",
    "\n",
    "subject to\n",
    "\n",
    "$$\n",
    "  c_{t} + k_{t+1} \\leq f(k_{t}) + (1-\\delta)k_{t}, k_{0} \\text{ given.}\n",
    "$$\n",
    "\n",
    "ここで、資本$k_{t}$は財$f(k_{t})$を生み出すが、$\\delta$の割合で減耗する"
   ]
  },
  {
   "cell_type": "markdown",
   "metadata": {
    "slideshow": {
     "slide_type": "subslide"
    }
   },
   "source": [
    "- これをベルマン方程式の形で書き換えると\n",
    "\n",
    "$$\n",
    "  V(k_{t}) = \\max\\{u(f(k_{t})+(1-\\delta)k_{t}-k_{t+1}) + \\beta V(k_{t+1})\\}\n",
    "$$\n",
    "\n",
    "あるいは、経済主体の意思決定を再帰的(revursive)に書き直すと\n",
    "\n",
    "$$\n",
    "  V(k) = \\max\\{u(f(k)+(1-\\delta)k-k') + \\beta V(k')\\} \\tag{6}\n",
    "$$\n",
    "\n",
    "- 時間をあらわすサブスクリプト$t+1$の代わりに、次期の変数を$k'$と表記している：有限期間モデルでは、時間が状態変数の一つとなっていたが、ここでは時間を明示的に書く必要がない"
   ]
  },
  {
   "cell_type": "markdown",
   "metadata": {
    "slideshow": {
     "slide_type": "slide"
    }
   },
   "source": [
    "# 無限期間モデルの解法\n",
    "## ベルマン方程式の特徴付け\n",
    "\n",
    "- 動的計画法及びその数値計算を正しく使うためには、理論的な理解が重要になってくる\n",
    "\n",
    "- ここではベルマン方程式の重要な性質について、直観的な結果だけ証明なしで紹介する\n",
    "  - 動的計画法について詳細な理解が得たいのであれば、Stokey et al.(1989)にじっくりと取り組むこと"
   ]
  },
  {
   "cell_type": "markdown",
   "metadata": {
    "slideshow": {
     "slide_type": "subslide"
    }
   },
   "source": [
    "- (6)式の解法は、有限期間モデルの後ろ向き帰納法と似ている\n",
    "\n",
    "- 価値関数反復法(value function iteration, VFI)には昔から多くの研究の蓄積があり、その長所と短所もはっきりしている"
   ]
  },
  {
   "cell_type": "markdown",
   "metadata": {
    "slideshow": {
     "slide_type": "subslide"
    }
   },
   "source": [
    "- 有限期間モデルの場合には、$V_{T}(k)$から始まって後ろ向きに$V_{T-1}(k),V_{T-2}(k),...,V_{0}(k)$と計算することで、全期間の価値関数を計算することができた"
   ]
  },
  {
   "cell_type": "markdown",
   "metadata": {
    "slideshow": {
     "slide_type": "fragment"
    }
   },
   "source": [
    "- 無限期間モデルの場合には、任意に価値関数$V^{(0)}(k)$を推測して、有限期間モデルの場合と同じように\n",
    "\n",
    "$$\n",
    "  V^{(1)}(k) = \\max_{k'} u(c) + \\beta V^{(0)}(k')\n",
    "$$\n",
    "\n",
    "を計算する"
   ]
  },
  {
   "cell_type": "markdown",
   "metadata": {
    "slideshow": {
     "slide_type": "fragment"
    }
   },
   "source": [
    "- その後、得られた$V^{(1)}(k)$を右辺に代入して、\n",
    "\n",
    "$$\n",
    "  V^{(2)}(k) = \\max_{k'} u(c) + \\beta V^{(1)}(k')\n",
    "$$\n",
    "\n",
    "を同じように計算する\n",
    "\n",
    "- 縮小写像の性質(contraction mapping property)により、「一定の条件下において」、この繰り返し計算により得られた$V^{(0)}(k),V^{(1)}(k),...$は真の価値関数に収束(converge)する"
   ]
  },
  {
   "cell_type": "markdown",
   "metadata": {
    "slideshow": {
     "slide_type": "subslide"
    }
   },
   "source": [
    "- 多くの数値計算手法では、もっともらしい値が得られていても本当に真の値に収束しているのか、理論的にきちんと確認できないことが多い\n",
    "\n",
    "- VFIの縮小写像の性質は、モデルをベルマン方程式の形にして一定の条件を満たすことができれば、数値的に分析可能にしてくれるという意味で極めて強い性質である"
   ]
  },
  {
   "cell_type": "markdown",
   "metadata": {
    "slideshow": {
     "slide_type": "subslide"
    }
   },
   "source": [
    "## 数値計算\n",
    "\n",
    "### 状態変数と操作変数を離散化する\n",
    "\n",
    "- $u(c)=\\ln c, f(k)=k^{\\alpha}, \\delta=1$と特定化した場合、次のような解析的解が存在する\n",
    "\n",
    "\\begin{align*}\n",
    "  V(k) &= A + B\\ln k, \\\\\n",
    "  A &= (1-\\beta)^{-1}\\big[\\ln(1-\\alpha\\beta) + \\frac{\\alpha\\beta}{1-\\alpha\\beta}\\ln\\alpha\\beta\\big], \\quad B = \\frac{\\alpha}{1-\\alpha\\beta}, \\\\\n",
    "  k' &= \\alpha\\beta k^{\\alpha}\n",
    "\\end{align*}\n"
   ]
  },
  {
   "cell_type": "markdown",
   "metadata": {
    "slideshow": {
     "slide_type": "fragment"
    }
   },
   "source": [
    "- 近似的な計算によって得られた数値解と解析的解がどの程度近いかを確認する"
   ]
  },
  {
   "cell_type": "markdown",
   "metadata": {
    "slideshow": {
     "slide_type": "subslide"
    }
   },
   "source": [
    "- 状態変数$k$および操作変数$k'$を$I$個のグリッド$k^{i}\\in\\{k^{1},...,k^{I}\\}$で離散化する\n",
    "  - グリッドの下限については、正値とする：$k^{1}>0$\n",
    "  - 上限については、場合によっては試行錯誤が必要になる：政策関数と45度線が交わる点の右側（資本が減少していく）に設定"
   ]
  },
  {
   "cell_type": "markdown",
   "metadata": {
    "slideshow": {
     "slide_type": "subslide"
    }
   },
   "source": [
    "- アルゴリズム\n",
    "\n",
    "\n",
    "1. グリッド生成：状態変数および操作変数をそれぞれ$I=J=10000$個のグリッドに区切る。また、グリッド上における価値関数$V^{(0)}(k^{i})$の初期値を当て推量(initial guess)する\n",
    "\n",
    "2. 収束の基準：収束の基準になるパラメータ$\\varepsilon=10^{-5}$を与える\n",
    "\n",
    "3. 効用関数を設定：効用関数$u([k^{i}]^{\\alpha}+(1-\\delta)k^{i}-k^{j})$を状態変数と操作変数の全てのグリッド($I \\times J$個)上で評価する\n",
    "\n",
    "4. 価値関数の組み合わせを計算：各状態変数$k^{i}$について、\n",
    "\n",
    "$$\n",
    "  \\tilde{V}(k^{i},k^{j}) = u([k^{i}]^{\\alpha}+(1-\\delta)k^{i}-k^{j}) + \\beta V^{(0)}(k^{j})\n",
    "$$\n",
    "\n",
    "を計算する\n",
    "\n",
    "5. 価値関数を最大にする貯蓄を探す：各$k^{i}$について、$V^{(1)}(k^{i})=\\max_{k^{j}}\\tilde{V}(k^{i},k^{j})$を計算する\n",
    "\n",
    "6. 全ての$k^{i}$について$\\|V^{(0)}(k^{i})-V^{(1)}(k^{i})\\|<\\varepsilon$であればストップ。そうでなければ、$V^{(1)}(k^{i})$を$V^{(0)}(k^{i})$に代入して、ステップ4-5を繰り返す"
   ]
  },
  {
   "cell_type": "code",
   "execution_count": null,
   "metadata": {
    "slideshow": {
     "slide_type": "subslide"
    }
   },
   "outputs": [],
   "source": [
    "%% *** カリブレーション ***\n",
    "beta  = 0.96; % 割引因子\n",
    "gamma = 1.0;  % 相対的危険回避度(異時点間の代替の弾力性の逆数)\n",
    "alpha = 0.40; % 資本分配率\n",
    "delta = 1.00; % 固定資本減耗(0.08)"
   ]
  },
  {
   "cell_type": "code",
   "execution_count": null,
   "metadata": {
    "slideshow": {
     "slide_type": "fragment"
    }
   },
   "outputs": [],
   "source": [
    "% *** 離散化用のパラメータ ***\n",
    "nk   = 10001;  % グリッドの数\n",
    "kmax = 0.5;   % 資本グリッドの最大値\n",
    "%kmax = 10.0; % 資本グリッドの最大値(固定資本減耗=0.08の場合に使用)\n",
    "kmin = 0.05;  % 資本グリッドの最小値 (0にすると生産が出来なくなる)"
   ]
  },
  {
   "cell_type": "code",
   "execution_count": null,
   "metadata": {
    "slideshow": {
     "slide_type": "fragment"
    }
   },
   "outputs": [],
   "source": [
    "% *** 収束の基準 ***\n",
    "it = 1;          % ループ・カウンター\n",
    "maxit = 1000;    % 繰り返し計算の最大値\n",
    "tol  = 1.0e-005; % 許容誤差(STEP 2)\n",
    "dif1 = 1;        % 価値関数の繰り返し誤差\n",
    "dif2 = 1.0;      % 政策関数の繰り返し誤差\n",
    "count = 1;"
   ]
  },
  {
   "cell_type": "code",
   "execution_count": null,
   "metadata": {
    "slideshow": {
     "slide_type": "subslide"
    }
   },
   "outputs": [],
   "source": [
    "%% STEP 1(a): グリッド生成\n",
    "kgrid = linspace(kmin, kmax, nk)';"
   ]
  },
  {
   "cell_type": "code",
   "execution_count": null,
   "metadata": {
    "slideshow": {
     "slide_type": "fragment"
    }
   },
   "outputs": [],
   "source": [
    "%% STEP 1(b): 価値関数・政策関数の初期値を設定\n",
    "vfcn  = zeros(nk, 1);\n",
    "pfcn  = zeros(nk, 1);\n",
    "Tvfcn = zeros(nk, 1);\n",
    "Tpfcn = zeros(nk, 1);\n",
    "vkp   = zeros(nk, nk);\n",
    "val_tmp = zeros(nk, 4);"
   ]
  },
  {
   "cell_type": "code",
   "execution_count": null,
   "metadata": {
    "slideshow": {
     "slide_type": "fragment"
    }
   },
   "outputs": [],
   "source": [
    "%% 解析的解\n",
    "AA = (1.0-beta).^(-1) * (log(1.0-alpha*beta) + ((alpha*beta)/(1.0-alpha*beta))*log(alpha*beta));\n",
    "BB = alpha/(1.0-alpha*beta);\n",
    "v_true = AA + BB*log(kgrid);\n",
    "p_true = beta*alpha*(kgrid.^alpha);"
   ]
  },
  {
   "cell_type": "code",
   "execution_count": null,
   "metadata": {
    "slideshow": {
     "slide_type": "subslide"
    }
   },
   "outputs": [],
   "source": [
    "%% STEP 3: 効用関数の組み合わせ\n",
    "\n",
    "% 効用関数の初期値 (消費が0以下になる組み合わせにはペナルティ)\n",
    "util = -10000.0*ones(nk, nk);\n",
    "\n",
    "% 消費が正値になる(k,k')の組み合わせについて効用を計算\n",
    "for i = 1:nk\n",
    "    %  あらゆる操作変数k'について:\n",
    "    for j = 1:nk\n",
    "        wealth = kgrid(i).^alpha + (1.0-delta).*kgrid(i);\n",
    "        cons = wealth - kgrid(j);\n",
    "        if cons > 0\n",
    "           util(j,i) = CRRA(cons, gamma);\n",
    "        end\n",
    "    end\n",
    "end"
   ]
  },
  {
   "cell_type": "code",
   "execution_count": null,
   "metadata": {
    "slideshow": {
     "slide_type": "subslide"
    }
   },
   "outputs": [],
   "source": [
    "%% STEP 4: 価値関数を繰り返し計算\n",
    "while it < maxit && dif1 > tol\n",
    "\n",
    "    % ベルマン方程式: V(k;k')\n",
    "    for i = 1:nk\n",
    "        vkp(:,i) = util(:,i) + beta.*vfcn;\n",
    "    end\n",
    "    \n",
    "    % 最適化: 各kについてV(k;k')を最大にするk'を探す\n",
    "    [Tvfcn, ploc] = max(vkp);\n",
    "    Tvfcn = Tvfcn';\n",
    "    Tpfcn = kgrid(ploc);\n",
    "    \n",
    "    % 繰り返し計算誤差を確認\n",
    "    dif1 = max(abs((Tvfcn-vfcn)./vfcn));\n",
    "\n",
    "    % 価値関数・政策関数をアップデート\n",
    "    vfcn = Tvfcn;\n",
    "    pfcn = Tpfcn;\n",
    "    fprintf('iteration index: %i, iteration diff of value: %d, iteration diff of policy: %d \\n', it, dif1, dif2);\n",
    "    \n",
    "    it = it + 1;\n",
    "\n",
    "end"
   ]
  },
  {
   "cell_type": "code",
   "execution_count": null,
   "metadata": {
    "slideshow": {
     "slide_type": "subslide"
    }
   },
   "outputs": [],
   "source": [
    "%% 図を描く\n",
    "figure;\n",
    "plot(kgrid, vfcn, '-', 'color', 'blue', 'linewidth', 3); hold('on');\n",
    "plot(kgrid, v_true, '--', 'color', 'red', 'linewidth', 3); hold('off');\n",
    "%title('価値関数', 'fontsize', 16);\n",
    "xlabel('資本保有量：k', 'Fontsize', 16);\n",
    "ylabel('価値関数：V(k)', 'Fontsize', 16);\n",
    "xlim([0,kmax]);\n",
    "legend('近似解', '解析的解', 'Location', 'SouthEast');\n",
    "grid on;\n",
    "set(gca,'Fontsize', 16);\n",
    "% saveas (gcf,'Fig3_dndp1.eps','epsc2');"
   ]
  },
  {
   "cell_type": "code",
   "execution_count": null,
   "metadata": {
    "slideshow": {
     "slide_type": "subslide"
    }
   },
   "outputs": [],
   "source": [
    "figure;\n",
    "plot(kgrid, pfcn, '-', 'color', 'blue', 'linewidth', 3); hold('on');\n",
    "plot(kgrid, p_true, '--', 'color', 'red', 'linewidth', 3);\n",
    "plot(kgrid, kgrid, ':', 'color', 'black', 'linewidth', 2); hold('off');\n",
    "%title('政策関数', 'fontsize', 16);\n",
    "xlabel('今期の資本保有量：k', 'Fontsize', 16);\n",
    "ylabel(\"次期の資本保有量：k'\", 'Fontsize', 16);\n",
    "xlim([0,kmax]);\n",
    "legend('近似解', '解析的解', '45度線', 'Location', 'NorthWest');\n",
    "grid on;\n",
    "set(gca,'Fontsize', 16);"
   ]
  },
  {
   "cell_type": "markdown",
   "metadata": {
    "slideshow": {
     "slide_type": "subslide"
    }
   },
   "source": [
    "### 操作変数が連続な場合\n",
    "\n",
    "- モデルを拡張する場合には、より洗練された手法が必要になる\n",
    "\n",
    "- 状態変数のみ離散近似をして、操作変数については連続的な値を取り、価値関数を状態変数の間の値で評価するときは内挿法を用いる"
   ]
  },
  {
   "cell_type": "markdown",
   "metadata": {
    "slideshow": {
     "slide_type": "subslide"
    }
   },
   "source": [
    "- アルゴリズム\n",
    "\n",
    "\n",
    "1. グリッド生成：状態空間の評価点を$I=21$個のグリッドに区切る。また、グリッド上における価値関数$V^{(0)}(k^{i})$の初期値を当て推量(initial guess)する\n",
    "\n",
    "2. 収束の基準：収束の基準になるパラメータ$\\varepsilon=10^{-5}$を与える\n",
    "\n",
    "3. 近似・評価：$k^{i}$上にない価値関数の値については近似する必要がある。$V(k;\\mathbb{b})$をパラメータ$\\mathbb{b}$を使って近似した時の、$k$上での価値関数の値とする\n",
    "\n",
    "4. 最適化：各$k^{i}$について、\n",
    "\n",
    "$$\n",
    "  V^{(1)}(k^{i}) = \\max_{k'} u([k^{i}]^{\\alpha}+(1-\\delta)k^{i}-k') + \\beta V^{(0)}(k';\\mathbb{b})\n",
    "$$\n",
    "\n",
    "を計算する。価値関数を最大にする$k'$を探すためには、各言語の最適化関数を利用する\n",
    "\n",
    "5. 全ての$k^{i}$について$\\|V^{(0)}(k^{i})-V^{(1)}(k^{i})\\|<\\varepsilon$であればストップ。そうでなければ、$V^{(1)}(k^{i})$を$V^{(0)}(k^{i})$に代入して、ステップ3-4を繰り返す"
   ]
  },
  {
   "cell_type": "code",
   "execution_count": null,
   "metadata": {
    "slideshow": {
     "slide_type": "subslide"
    }
   },
   "outputs": [],
   "source": [
    "%% *** カリブレーション ***\n",
    "beta  = 0.96; % 割引因子\n",
    "gamma = 1.0;  % 相対的危険回避度(異時点間の代替の弾力性の逆数)\n",
    "alpha = 0.40; % 資本分配率\n",
    "delta = 1.00; % 固定資本減耗(0.08)"
   ]
  },
  {
   "cell_type": "code",
   "execution_count": null,
   "metadata": {
    "slideshow": {
     "slide_type": "fragment"
    }
   },
   "outputs": [],
   "source": [
    "% *** 離散化用のパラメータ ***\n",
    "nk   = 21;    % グリッドの数\n",
    "kmax = 0.5;   % 資本グリッドの最大値\n",
    "%kmax = 10.0; % 資本グリッドの最大値(固定資本減耗=0.08の場合に使用)\n",
    "kmin = 0.05;  % 資本グリッドの最小値 (0にすると生産が出来なくなる)"
   ]
  },
  {
   "cell_type": "code",
   "execution_count": null,
   "metadata": {
    "slideshow": {
     "slide_type": "fragment"
    }
   },
   "outputs": [],
   "source": [
    "% *** 収束の基準 ***\n",
    "it = 1;          % ループ・カウンター\n",
    "maxit = 1000;    % 繰り返し計算の最大値\n",
    "tol  = 1.0e-005; % 許容誤差(STEP 2)\n",
    "dif1 = 1.0;      % 価値関数の繰り返し誤差\n",
    "dif2 = 1.0;      % 政策関数の繰り返し誤差\n",
    "count = 1;"
   ]
  },
  {
   "cell_type": "code",
   "execution_count": null,
   "metadata": {
    "slideshow": {
     "slide_type": "subslide"
    }
   },
   "outputs": [],
   "source": [
    "%% STEP 1(a): グリッド生成\n",
    "kgrid = linspace(kmin, kmax, nk)';"
   ]
  },
  {
   "cell_type": "code",
   "execution_count": null,
   "metadata": {
    "slideshow": {
     "slide_type": "fragment"
    }
   },
   "outputs": [],
   "source": [
    "%% STEP 1(b): 価値関数・政策関数の初期値を当て推量\n",
    "pfcn0 = zeros(nk, 1);\n",
    "vfcn0 = CRRA(kgrid.^alpha + (1.-delta).*kgrid, gamma);\n",
    "pfcn1 = zeros(nk, 1);\n",
    "vfcn1 = zeros(nk, 1);"
   ]
  },
  {
   "cell_type": "code",
   "execution_count": null,
   "metadata": {
    "slideshow": {
     "slide_type": "fragment"
    }
   },
   "outputs": [],
   "source": [
    "%% 解析的解\n",
    "AA = (1.0-beta).^(-1) * (log(1.0-alpha*beta) + ((alpha*beta)/(1.0-alpha*beta))*log(alpha*beta));\n",
    "BB = alpha/(1.0-alpha*beta);\n",
    "v_true = AA + BB*log(kgrid);\n",
    "p_true = beta*alpha*(kgrid.^alpha);"
   ]
  },
  {
   "cell_type": "markdown",
   "metadata": {
    "slideshow": {
     "slide_type": "subslide"
    }
   },
   "source": [
    "- およそ200回で繰り返し計算誤差は$\\varepsilon=1.0^{-5}$以下になる\n",
    "\n",
    "- 価値関数の繰り返し計算誤差より政策関数の繰り返し計算誤差の方が早く0に近づいている"
   ]
  },
  {
   "cell_type": "code",
   "execution_count": null,
   "metadata": {
    "slideshow": {
     "slide_type": "subslide"
    }
   },
   "outputs": [],
   "source": [
    "global beta gamma alpha delta capital vfcn kgrid\n",
    "\n",
    "%% STEP 4: 価値関数を繰り返し計算\n",
    "while it < maxit && dif1 > tol\n",
    "\n",
    "    fprintf('iteration index: %i \\n', it);\n",
    "    fprintf('value function iteration error: %e\\n', dif1);\n",
    "    fprintf('policy function iteration error: %e\\n', dif2);\n",
    "\n",
    "    for i = 1:nk\n",
    "\n",
    "        % グローバル変数を設定\n",
    "        % fminsearchで使う関数(BellmanEq)に最適化する変数\"以外\"の変数を渡す(グローバル変数を使わない方法もあるはず)\n",
    "        capital = kgrid(i);\n",
    "        vfcn = vfcn0;\n",
    "\n",
    "        % MATLABの最適化関数(fminsearch)を使ってグリッド上で価値関数と政策関数の値を探す\n",
    "        % 初期値は0.01\n",
    "        [pfcn1(i,1), vfcn1(i,1)] = fminsearch(@BellmanEq, 0.01);\n",
    "\n",
    "    end\n",
    "\n",
    "    % fminsearchは最小値を探す関数なので符号を反転させる\n",
    "    vfcn1 = -1*vfcn1;\n",
    "\n",
    "    % 繰り返し計算誤差を確認\n",
    "    dif1 = max(abs((vfcn1-vfcn0)./vfcn0));\n",
    "\n",
    "    % 価値関数・政策関数をアップデート\n",
    "    vfcn0 = vfcn1;\n",
    "    pfcn0 = pfcn1;\n",
    "\n",
    "    it = it + 1;\n",
    "\n",
    "end"
   ]
  },
  {
   "cell_type": "code",
   "execution_count": null,
   "metadata": {},
   "outputs": [],
   "source": [
    "%% 図を描く\n",
    "figure;\n",
    "plot(kgrid, vfcn0, '-', 'color', 'blue', 'linewidth', 3); hold('on');\n",
    "plot(kgrid, v_true, '--', 'color', 'red', 'linewidth', 3); hold('off');\n",
    "%title('価値関数', 'fontsize', 16);\n",
    "xlabel('資本保有量：k', 'Fontsize', 16);\n",
    "ylabel('価値関数：V(k)', 'Fontsize', 16);\n",
    "xlim([0, kmax]);\n",
    "legend('近似解', '解析的解', 'Location', 'SouthEast');\n",
    "grid on;\n",
    "set(gca,'Fontsize', 16);"
   ]
  },
  {
   "cell_type": "code",
   "execution_count": null,
   "metadata": {},
   "outputs": [],
   "source": [
    "figure;\n",
    "plot(kgrid, pfcn0, '-', 'color', 'blue', 'linewidth', 3); hold('on');\n",
    "plot(kgrid, p_true, '--', 'color', 'red', 'linewidth', 3);\n",
    "plot(kgrid, kgrid, ':', 'color', 'black', 'linewidth', 2); hold('off');\n",
    "%title('政策関数', 'fontsize', 16);\n",
    "xlabel('今期の資本保有量：k', 'Fontsize', 16);\n",
    "ylabel(\"次期の資本保有量：k'\", 'Fontsize', 16);\n",
    "xlim([0, kmax]);\n",
    "legend('近似解', '解析的解', '45度線', 'Location', 'NorthWest');\n",
    "grid on;\n",
    "set(gca,'Fontsize', 16);"
   ]
  },
  {
   "cell_type": "code",
   "execution_count": null,
   "metadata": {},
   "outputs": [],
   "source": [
    "% 最終的な政策関数が得られてから消費関数を計算\n",
    "cfcn = kgrid.^alpha + (1.-delta).*kgrid - pfcn0(:,1);\n",
    "\n",
    "figure;\n",
    "plot(kgrid, cfcn(:,1), '-', 'color', 'blue', 'linewidth', 3);\n",
    "%title('消費関数', 'fontsize', 16);\n",
    "xlabel('資本保有量：k', 'Fontsize', 16);\n",
    "ylabel('消費：c', 'Fontsize', 16);\n",
    "grid on;\n",
    "set(gca,'Fontsize', 16);"
   ]
  },
  {
   "cell_type": "code",
   "execution_count": null,
   "metadata": {},
   "outputs": [],
   "source": []
  },
  {
   "cell_type": "code",
   "execution_count": null,
   "metadata": {},
   "outputs": [],
   "source": []
  }
 ],
 "metadata": {
  "celltoolbar": "Slideshow",
  "kernelspec": {
   "display_name": "Matlab",
   "language": "matlab",
   "name": "matlab"
  },
  "language_info": {
   "codemirror_mode": "octave",
   "file_extension": ".m",
   "help_links": [
    {
     "text": "MetaKernel Magics",
     "url": "https://metakernel.readthedocs.io/en/latest/source/README.html"
    }
   ],
   "mimetype": "text/x-octave",
   "name": "matlab",
   "version": "0.16.9"
  }
 },
 "nbformat": 4,
 "nbformat_minor": 4
}
