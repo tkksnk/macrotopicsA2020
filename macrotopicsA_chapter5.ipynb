{
 "cells": [
  {
   "cell_type": "markdown",
   "metadata": {
    "slideshow": {
     "slide_type": "slide"
    }
   },
   "source": [
    "<div style=\"text-align: center;\">\n",
    "# マクロ経済特論A\n",
    "<div style=\"text-align: center;\">\n",
    "第5回：「ニューケインジアン・モデルの新展開」\n",
    "<br>\n",
    "<br>\n",
    "<div style=\"text-align: center;\">    \n",
    "2020年11月\n",
    "<div style=\"text-align: center;\">   \n",
    "一橋大学　砂川武貴"
   ]
  },
  {
   "cell_type": "markdown",
   "metadata": {
    "slideshow": {
     "slide_type": "slide"
    }
   },
   "source": [
    "# イントロダクション\n",
    "\n",
    "- 連載第4回では、時間反復法を用いて新古典派成長モデルを数値的に解く方法を示した\n",
    "\n",
    "- 時間反復法では、解の必要条件である均衡条件を連立方程式とみなしてモデルの解を求める\n",
    "\n",
    "- 均衡条件を求めること自体は比較的容易なため、この方法の汎用性は高く、たとえば、金融政策分析に使われるニューケインジアン・モデルを、非線形性を考慮して解くのによく使われる"
   ]
  },
  {
   "cell_type": "markdown",
   "metadata": {
    "slideshow": {
     "slide_type": "subslide"
    }
   },
   "source": [
    "- ニューケインジアン・モデルとしてよく知られているのは、以下の3本の線形差分方程式であろう\n",
    "  - 消費のオイラー方程式(consumption Euler equation)\n",
    "  - ニューケインジアン・フィリップス曲線(New Keynesian Phillips curve)\n",
    "  - テイラー・ルール(Taylor rule)\n",
    "  \n",
    "- この3本の式の線形モデルでも、ゼロ金利制約(zero lower bound on nominal interest rates)を導入するとモデルは非線形になり、解析解がある特殊なケースを除いては、数値解を求める必要がある"
   ]
  },
  {
   "cell_type": "markdown",
   "metadata": {
    "slideshow": {
     "slide_type": "subslide"
    }
   },
   "source": [
    "- これまでは、モデルに不確実な要素のない確定的なケースのみを扱ってきた\n",
    "\n",
    "- 今回はモデルに確率的なショックを導入する\n",
    "\n",
    "- より一般的なケースでは、連続的空間においてショックが自己回帰過程に従うことも考えられる\n",
    "\n",
    "- Tauchen(1986)等の手法を使うことで、$N$個の離散的な値をとるマルコフ連鎖で自己回帰過程を近似することができる"
   ]
  },
  {
   "cell_type": "markdown",
   "metadata": {
    "slideshow": {
     "slide_type": "subslide"
    }
   },
   "source": [
    "- 時間反復法は、最適金融政策の分析にも適用可能である\n",
    "\n",
    "- 最適金融政策は、均衡条件を制約として社会厚生を最大化するような配分を求めるが、このような動学最適化問題の1階の必要条件から解を求めることができる\n",
    "\n",
    "- また、ゼロ金利制約以外の非線形性についても、時間反復法を用いて完全に非線形なケースを考えることができる"
   ]
  },
  {
   "cell_type": "markdown",
   "metadata": {
    "slideshow": {
     "slide_type": "slide"
    }
   },
   "source": [
    "# 2状態モデル\n",
    "## 準線形モデル\n",
    "\n",
    "- 標準的な線形ニューケインジアン・モデルにゼロ金利制約を追加した準線形(quasi-linear)モデルを考える\n",
    "\n",
    "- 外生的なショック$s_{t}\\in\\{s_{H},s_{L}\\}$は$N=2$個だけの値をとると仮定しよう\n",
    "  - $s_{t}$はモデルの状態変数(state variable)であり、ここでは自然利子率(natural rate of interest)とする\n",
    "  - $s_{H}>s_{L}$として、添字$\\{H,L\\}$はそれぞれ状態(state)がHighもしくはLowであることを示す\n"
   ]
  },
  {
   "cell_type": "markdown",
   "metadata": {
    "slideshow": {
     "slide_type": "subslide"
    }
   },
   "source": [
    "- 状態は、$H$と$L$の間を、ある確率過程にしたがって時間とともに動く\n",
    "\n",
    "- ここで、今期の状態がいずれかになる確率は、前期の状態にのみ依存するという仮定を置く。すなわち、確率過程は以下の遷移行列を持つマルコフ連鎖によって表される\n",
    "\n",
    "$$\n",
    "  P = \\left[\\begin{array}{cc}\n",
    "  1-p_{H} & p_{H} \\\\ \n",
    "  1-p_{L} & p_{L} \\end{array}\\right]\n",
    "$$"
   ]
  },
  {
   "cell_type": "markdown",
   "metadata": {
    "slideshow": {
     "slide_type": "subslide"
    }
   },
   "source": [
    "- モデルの均衡条件は、以下の3つの式からなる連立方程式で与えられる\n",
    "\n",
    "\\begin{align*}\n",
    "  y_{t} &= \\mathbb{E}_{t}y_{t+1} - \\left(r_{n,t}-\\mathbb{E}_{t}\\pi_{t+1}-s_{t}\\right) \\tag{1} \\\\\n",
    "  \\pi_{t} &= \\kappa y_{t} + \\beta \\mathbb{E}_{t}\\pi_{t+1} \\tag{2} \\\\\n",
    "  r_{n,t}^{*} &= r^{*} + \\phi_{\\pi} \\mathbb{E}_{t}\\pi_{t+1} \\tag{3}\n",
    "\\end{align*}"
   ]
  },
  {
   "cell_type": "markdown",
   "metadata": {
    "slideshow": {
     "slide_type": "fragment"
    }
   },
   "source": [
    "- これらの式は、家計や企業の最適化問題から導出された均衡条件を対数線形近似したものであり、それぞれ、消費のオイラー方程式、ニューケインジアン・フィリップス曲線、テイラー型の金融政策ルールと呼ばれる\n",
    "\n",
    "- $y_{t}$は生産ギャップ、$\\pi_{t}$はインフレ率、$r_{n,t}$は名目金利\n",
    "\n",
    "- $(\\beta,\\phi_{\\pi},\\kappa,r^{*})$はパラメータ：家計や企業の最適化行動のミクロ的基礎付けのある非線形モデルに基づく"
   ]
  },
  {
   "cell_type": "markdown",
   "metadata": {
    "slideshow": {
     "slide_type": "subslide"
    }
   },
   "source": [
    "- $r_{n,t}^{*}$はシャドーレートと呼ばれ、ゼロ金利制約がなければ名目金利と一致する\n",
    "\n",
    "- このとき、3つの未知数$(y_{t},\\pi_{t},r_{n,t})$に対して3本の方程式があるので、通常の線形モデルを解く手続きにしたがって、解を求めることができる"
   ]
  },
  {
   "cell_type": "markdown",
   "metadata": {
    "slideshow": {
     "slide_type": "fragment"
    }
   },
   "source": [
    "- ここで、名目金利はゼロを下回ることができないという制約を明示的に考えると、\n",
    "\n",
    "$$\n",
    "  r_{n,t} = \\max \\{r_{n,t}^{*}, 0\\} \\tag{4}\n",
    "$$\n",
    "\n",
    "この制約の下では、モデルの解は非線形となり、通常の線形モデルの解法はそのままでは使えない"
   ]
  },
  {
   "cell_type": "markdown",
   "metadata": {
    "slideshow": {
     "slide_type": "subslide"
    }
   },
   "source": [
    "## 準線形モデルの解析解\n",
    "\n",
    "- $N=2$の場合、準線形モデルの解析解は比較的容易に導出できる\n",
    "\n",
    "- モデルの解は以下のような関数となる\n",
    "\n",
    "$$\n",
    "  y = \\varsigma_{y}(s), \\quad \\pi = \\varsigma_{\\pi}(s), \\quad r_{n} = \\varsigma_{r_{n}}(s) \n",
    "$$"
   ]
  },
  {
   "cell_type": "markdown",
   "metadata": {
    "slideshow": {
     "slide_type": "fragment"
    }
   },
   "source": [
    "- さらに、$N=2$のとき、$s$のとりうる値は2つだけなので、これらの関数も2つの値のいずれかをとる。すなわち、\n",
    "\n",
    "$$\n",
    "  y\\in\\{y_{H},y_{L}\\}, \\quad \\pi\\in\\{\\pi_{H},\\pi_{L}\\}, \\quad r_{n}\\in\\{r_{n,H},r_{n,L}\\}\n",
    "$$\n",
    "\n",
    "の6つの未知数がモデルの解となる\n",
    "\n",
    "- 以下では、$r_{n,H}>0, r_{n,L}=0$という仮定を置く"
   ]
  },
  {
   "cell_type": "markdown",
   "metadata": {
    "slideshow": {
     "slide_type": "subslide"
    }
   },
   "source": [
    "- ここで、\n",
    "\n",
    "\\begin{align*}\n",
    "  \\mathbb{E}_{t}y_{t+1} &= (1-p_{i})y_{H} + p_{i}y_{L} \\\\\n",
    "  \\mathbb{E}_{t}\\pi_{t+1} &= (1-p_{i})\\pi_{H} + p_{i}\\pi_{L}\n",
    "\\end{align*}\n",
    "\n",
    "をそれぞれの状態$i\\in\\{H,L\\}$における均衡条件に代入すると、\n",
    "\n",
    "\\begin{align*}\n",
    "  y_{H} &= (1-p_{H})y_{H} + p_{H}y_{L} - \\left(r_{n,t}-[(1-p_{H})\\pi_{H} + p_{H}\\pi_{L}]-s_{t}\\right) \\\\\n",
    "  \\pi_{H} &= \\kappa y_{H} + \\beta [(1-p_{H})\\pi_{H} + p_{H}\\pi_{L}] \\\\\n",
    "  r_{n,H}^{*} &= r^{*} + \\phi_{\\pi} [(1-p_{H})\\pi_{H} + p_{H}\\pi_{L}] \\\\\n",
    "  y_{L} &= (1-p_{L})y_{H} + p_{L}y_{L} - \\left(r_{n,t}-[(1-p_{L})\\pi_{H} + p_{L}\\pi_{L}]-s_{t}\\right) \\\\\n",
    "  \\pi_{L} &= \\kappa y_{L} + \\beta [(1-p_{L})\\pi_{H} + p_{L}\\pi_{L}] \\\\\n",
    "  r_{n,L}^{*} &= 0  \n",
    "\\end{align*}\n",
    "\n",
    "6つの未知数に対して6つの線形の方程式があるため、未知数を解析的に求めることができる"
   ]
  },
  {
   "cell_type": "markdown",
   "metadata": {
    "slideshow": {
     "slide_type": "subslide"
    }
   },
   "source": [
    "## 時間反復法による準線形モデルの数値計算\n",
    "\n",
    "- 準線形モデルは、時間反復法を使っても解くことができる\n",
    "\n",
    "- $N$が大きい場合は解析解を求めるのが非常に煩雑になるため、このアプローチが有用になる"
   ]
  },
  {
   "cell_type": "markdown",
   "metadata": {
    "slideshow": {
     "slide_type": "fragment"
    }
   },
   "source": [
    "- アルゴリズム\n",
    "\n",
    "\n",
    "1. グリッド生成：状態空間の評価点を有限個のグリッドに区切る。この場合、$(s_{H},s_{L})$はすでに与えられている\n",
    "\n",
    "2. 収束の基準：収束の基準になるパラメータ$\\varepsilon$を与える"
   ]
  },
  {
   "cell_type": "markdown",
   "metadata": {
    "slideshow": {
     "slide_type": "subslide"
    }
   },
   "source": [
    "3. 最適化：古い政策関数$y = \\varsigma_{y}^{(n-1)}(s),\\pi = \\varsigma_{\\pi}^{(n-1)}(s),r_{n} = \\varsigma_{r_{n}}^{(n-1)}(s)$を所与として、各$s_{i}$について、以下の3本の式を$(y_{t},\\pi_{t},r_{n,t})$について解く\n",
    "\n",
    "\\begin{align*}\n",
    "  y_{i} &= y_{i}^{e} - \\left(r_{n,i}-\\pi_{i}^{e}-s_{t}\\right) \\\\\n",
    "  \\pi_{i} &= \\kappa y_{i} + \\beta \\pi_{i}^{e} \\\\\n",
    "  r_{n,i}^{*} &= \\max\\{r^{*} + \\phi_{\\pi} \\pi_{i}^{e}, 0\\}\n",
    "\\end{align*}\n",
    "\n",
    "ここで、\n",
    "\n",
    "\\begin{align*}\n",
    "  y_{i}^{e} &= (1-p_{i})\\varsigma_{y}^{(n-1)}(s_{H}) + p_{i}\\varsigma_{y}^{(n-1)}(s_{L}) \\\\\n",
    "  \\pi_{i}^{e} &= (1-p_{i})\\varsigma_{\\pi}^{(n-1)}(s_{H}) + p_{i}\\varsigma_{\\pi}^{(n-1)}(s_{L})\n",
    "\\end{align*}\n",
    "\n",
    "である。また、$p_{ij}$は、遷移行列の$i$行$j$列の要素である。このステップで、新しい政策関数のベクトル$\\varsigma^{(n)}(s_{i})$を得る\n",
    "\n",
    "4. 全ての$s_{i}$について$\\|\\varsigma^{(n)}(s_{i})-\\varsigma^{(n-1)}(s_{i})\\|<\\varepsilon$であればストップ。そうでなければ、$\\varsigma^{(n)}(s_{i})$を$\\varsigma^{(n-1)}(s_{i})$に代入して、ステップ3-4を繰り返す"
   ]
  },
  {
   "cell_type": "code",
   "execution_count": 2,
   "metadata": {},
   "outputs": [
    {
     "name": "stdout",
     "output_type": "stream",
     "text": [
      "Created file 'C:\\Users\\takeki\\Documents\\macrotopicsA2020\\dist.m'.\n"
     ]
    }
   ],
   "source": [
    "%%file dist.m\n",
    "function f = dist(x0,sH,pH,pL,bet,phi,rstar,yLtar,piLtar)\n",
    "\n",
    "sL = x0(1);\n",
    "kap = x0(2);\n",
    "\n",
    "% 解析的解\n",
    "A = [-1+(1-pH) pH -(phi-1)*(1-pH) -(phi-1)*pH;\n",
    "    kap 0 -1+bet*(1-pH) bet*pH;\n",
    "    (1-pL) -1+pL (1-pL) pL;\n",
    "    0 kap bet*(1-pL) -1+bet*pL];\n",
    "b = [rstar-sH;0;-sL;0];\n",
    "x = A\\b;\n",
    "%yH  = x(1);\n",
    "yL  = x(2);\n",
    "%piH = x(3);\n",
    "piL = x(4);\n",
    "\n",
    "% データの値とモデルの値の間の距離を最小化\n",
    "f = (yL-yLtar)^2 + (piL-piLtar)^2;"
   ]
  },
  {
   "cell_type": "code",
   "execution_count": 14,
   "metadata": {
    "slideshow": {
     "slide_type": "subslide"
    }
   },
   "outputs": [
    {
     "name": "stdout",
     "output_type": "stream",
     "text": [
      "\n"
     ]
    }
   ],
   "source": [
    "rstar = 0.75; % pH=0のときの、定常状態での名目金利の値\n",
    "bet = 1/(1+rstar/100); % 割引率(オイラー方程式の定常状態より)\n",
    "phi = 5.0;  % テイラー係数(注: 小さいとiL=0にならない)\n",
    "pL = 0.75;  % 危機の継続確率\n",
    "sH = rstar; % 状態Hでの自然利子率の値\n",
    "% カリブレートしたパラメータをセット\n",
    "sL = -1.5625;\n",
    "kap = 0.0091;"
   ]
  },
  {
   "cell_type": "code",
   "execution_count": 13,
   "metadata": {},
   "outputs": [
    {
     "name": "stdout",
     "output_type": "stream",
     "text": [
      "   -1.5625    0.0091\n",
      "\n",
      "\n"
     ]
    }
   ],
   "source": [
    "% カリブレーション\n",
    "% yLとpiLのターゲットにpH=0のときのモデルの値を合わせるように、sLとkapの値をセット\n",
    "yLtar = -7.0;\n",
    "piLtar = -1.0/4;\n",
    "\n",
    "pH = 0.0; % 危機が起こる確率\n",
    "x0 = [-2.0, 0.01]; % sLとkapの初期値\n",
    "\n",
    "% 最小化関数(Matlabの場合fminsearch)を用いる\n",
    "x = fminsearch(@dist,x0,[],sH,pH,pL,bet,phi,rstar,yLtar,piLtar);\n",
    "\n",
    "% カリブレートしたパラメータをセット\n",
    "sL = x(1); % 状態Lでの自然利子率の値\n",
    "kap = x(2); % フィリップス曲線の傾き\n",
    "disp([sL kap])"
   ]
  },
  {
   "cell_type": "code",
   "execution_count": 7,
   "metadata": {
    "slideshow": {
     "slide_type": "subslide"
    }
   },
   "outputs": [
    {
     "name": "stdout",
     "output_type": "stream",
     "text": [
      "\n"
     ]
    }
   ],
   "source": [
    "maxiter = 2000; % 繰り返し回数の最大値\n",
    "tol = 1e-5; % 許容誤差\n",
    "\n",
    "%% STEP 1(a): グリッド生成\n",
    "Gs = [sH; sL];\n",
    "Ps = [1-pH pH;\n",
    "    1-pL pL]; \n",
    "\n",
    "%% STEP 1(b): 政策関数の初期値を当て推量\n",
    "Ns = 2;\n",
    "% 解析的解を初期値とする(1回の繰り返しで収束)\n",
    "% yvec0 = [yH; yL];\n",
    "% pvec0 = [piH; piL];\n",
    "% rvec0 = [rH; 0];\n",
    "% 適当な初期値\n",
    "yvec0 = zeros(Ns,1);\n",
    "pvec0 = zeros(Ns,1);\n",
    "rvec0 = zeros(Ns,1);\n",
    "yvec1 = zeros(Ns,1);\n",
    "pvec1 = zeros(Ns,1);\n",
    "rvec1 = zeros(Ns,1);"
   ]
  },
  {
   "cell_type": "code",
   "execution_count": 9,
   "metadata": {
    "slideshow": {
     "slide_type": "subslide"
    }
   },
   "outputs": [
    {
     "name": "stdout",
     "output_type": "stream",
     "text": [
      "    1.0000    2.3125\n",
      "\n",
      "    2.0000    1.6711\n",
      "\n",
      "    3.0000    1.1604\n",
      "\n",
      "    4.0000    0.7694\n",
      "\n",
      "    5.0000    0.4809\n",
      "\n",
      "    6.0000    0.2759\n",
      "\n",
      "    7.0000    0.1363\n",
      "\n",
      "    8.0000    0.0704\n",
      "\n",
      "    9.0000    0.0437\n",
      "\n",
      "   10.0000    0.0092\n",
      "\n",
      "   11.0000    0.0129\n",
      "\n",
      "   12.0000    0.0143\n",
      "\n",
      "   13.0000    0.0142\n",
      "\n",
      "   14.0000    0.0134\n",
      "\n",
      "   15.0000    0.0122\n",
      "\n",
      "   16.0000    0.0108\n",
      "\n",
      "   17.0000    0.0094\n",
      "\n",
      "   18.0000    0.0081\n",
      "\n",
      "   19.0000    0.0069\n",
      "\n",
      "   20.0000    0.0058\n",
      "\n",
      "   21.0000    0.0049\n",
      "\n",
      "   22.0000    0.0041\n",
      "\n",
      "   23.0000    0.0034\n",
      "\n",
      "   24.0000    0.0029\n",
      "\n",
      "   25.0000    0.0024\n",
      "\n",
      "   26.0000    0.0020\n",
      "\n",
      "   27.0000    0.0016\n",
      "\n",
      "   28.0000    0.0013\n",
      "\n",
      "   29.0000    0.0011\n",
      "\n",
      "   30.0000    0.0009\n",
      "\n",
      "   31.0000    0.0008\n",
      "\n",
      "   32.0000    0.0006\n",
      "\n",
      "   33.0000    0.0005\n",
      "\n",
      "   34.0000    0.0004\n",
      "\n",
      "   35.0000    0.0003\n",
      "\n",
      "   36.0000    0.0003\n",
      "\n",
      "   37.0000    0.0002\n",
      "\n",
      "   38.0000    0.0002\n",
      "\n",
      "   39.0000    0.0002\n",
      "\n",
      "   40.0000    0.0001\n",
      "\n",
      "   41.0000    0.0001\n",
      "\n",
      "   42.0000    0.0001\n",
      "\n",
      "   43.0000    0.0001\n",
      "\n",
      "   44.0000    0.0001\n",
      "\n",
      "   45.0000    0.0000\n",
      "\n",
      "   46.0000    0.0000\n",
      "\n",
      "   47.0000    0.0000\n",
      "\n",
      "   48.0000    0.0000\n",
      "\n",
      "   49.0000    0.0000\n",
      "\n",
      "   50.0000    0.0000\n",
      "\n",
      "   51.0000    0.0000\n",
      "\n",
      "   52.0000    0.0000\n",
      "\n",
      "   53.0000    0.0000\n",
      "\n",
      "   54.0000    0.0000\n",
      "\n",
      "\n"
     ]
    }
   ],
   "source": [
    "%% STEP 4: 政策関数を繰り返し計算\n",
    "diff = 1e+4; % 政策関数の繰り返し誤差\n",
    "iter = 1; % ループ・カウンター\n",
    "\n",
    "while(diff > tol)\n",
    "\n",
    "    for is = 1:Ns\n",
    "\n",
    "        % ショックの値\n",
    "        s0 = Gs(is);\n",
    "\n",
    "        % 古い政策関数から期待値(ye, pie)を計算\n",
    "        ye = Ps(is,:)*yvec0;\n",
    "        pie = Ps(is,:)*pvec0;\n",
    "\n",
    "        % 期待値を所与として最適化\n",
    "        r0 = max(rstar + phi*pie, 0);\n",
    "        y0 = ye - (r0 - pie - s0);\n",
    "        p0 = kap*y0 + bet*pie;\n",
    "\n",
    "        % 新しい政策関数を保存\n",
    "        yvec1(is,1) = y0;\n",
    "        pvec1(is,1) = p0;\n",
    "        rvec1(is,1) = r0;\n",
    "\n",
    "    end\n",
    "    \n",
    "    % 繰り返し計算誤差を確認\n",
    "    ydiff = max(abs(yvec1-yvec0));\n",
    "    pdiff = max(abs(pvec1-pvec0));\n",
    "    rdiff = max(abs(rvec1-rvec0));\n",
    "    diff = max([ydiff pdiff rdiff]);\n",
    "\n",
    "    disp([iter diff]);\n",
    "\n",
    "    % 政策関数をアップデート\n",
    "    yvec0 = yvec1;\n",
    "    pvec0 = pvec1;\n",
    "    rvec0 = rvec1;\n",
    "    \n",
    "    iter = iter + 1;\n",
    "    \n",
    "end"
   ]
  },
  {
   "cell_type": "code",
   "execution_count": 12,
   "metadata": {
    "slideshow": {
     "slide_type": "subslide"
    }
   },
   "outputs": [
    {
     "name": "stdout",
     "output_type": "stream",
     "text": [
      "\n"
     ]
    },
    {
     "data": {
      "image/png": "[encoded data removed]",
      "text/plain": [
       "<IPython.core.display.Image object>"
      ]
     },
     "metadata": {},
     "output_type": "display_data"
    }
   ],
   "source": [
    "%%\n",
    "xvec = [0 1];\n",
    "\n",
    "figure;\n",
    "subplot(231);\n",
    "plot(xvec,rvec0*4,'k*-','LineWidth',3.0);\n",
    "hold on;\n",
    "% plot(xvec,rvec1*4,'k*--','LineWidth',3.0);\n",
    "plot(xvec,[0 0],'r-');\n",
    "title('政策金利');\n",
    "xticks([0 1]);\n",
    "xticklabels({'H','L'});\n",
    "set(gca,'Fontsize',12);\n",
    "\n",
    "subplot(232);\n",
    "plot(xvec,yvec0,'k*-','LineWidth',3.0);\n",
    "hold on;\n",
    "% plot(xvec,yvec1,'k*--','LineWidth',3.0);\n",
    "plot(xvec,[0 0],'r-');\n",
    "title('産出ギャップ');\n",
    "xticks([0 1]);\n",
    "xticklabels({'H','L'});\n",
    "set(gca,'Fontsize',12);\n",
    "\n",
    "subplot(233);\n",
    "plot(xvec,pvec0*4,'k*-','LineWidth',3.0);\n",
    "hold on;\n",
    "% plot(xvec,pvec1*4,'k*--','LineWidth',3.0);\n",
    "plot(xvec,[0 0],'r-');\n",
    "title('インフレ率');\n",
    "xticks([0 1]);\n",
    "xticklabels({'H','L'});\n",
    "set(gca,'Fontsize',12);\n",
    "% m = legend('p_H=0','p_H=0.025','Location','SouthWest');\n",
    "FontSize = 8;\n",
    "% saveas(gcf,'simplepf.eps','epsc2');"
   ]
  },
  {
   "cell_type": "markdown",
   "metadata": {
    "slideshow": {
     "slide_type": "subslide"
    }
   },
   "source": [
    "- 図は、$N=2$の数値解についてプロットしたものである\n",
    "\n",
    "- $p_{H}=0$の場合、状態$H$は吸収状態(absorbing state)とも呼ばれ、一度経済の状態が$H$になった後はそこから動かない\n",
    "\n",
    "- ここで、状態$H$では、政策金利（名目金利）はプラスになっており、産出ギャップ、インフレ率の値はゼロである"
   ]
  },
  {
   "cell_type": "markdown",
   "metadata": {
    "slideshow": {
     "slide_type": "fragment"
    }
   },
   "source": [
    "- $p_{H}>0$の場合、状態$H$であっても政策金利が下がり、インフレ率が状態$H$と状態$L$の両方で下がる\n",
    "\n",
    "- これは、ゼロ金利制約による不確実性の非中立性(non-neutrality of uncertainty)と呼ばれ、非線形モデルによってのみ分析が可能である"
   ]
  }
 ],
 "metadata": {
  "celltoolbar": "Slideshow",
  "kernelspec": {
   "display_name": "Matlab",
   "language": "matlab",
   "name": "matlab"
  },
  "language_info": {
   "codemirror_mode": "octave",
   "file_extension": ".m",
   "help_links": [
    {
     "text": "MetaKernel Magics",
     "url": "https://metakernel.readthedocs.io/en/latest/source/README.html"
    }
   ],
   "mimetype": "text/x-octave",
   "name": "matlab",
   "version": "0.16.9"
  }
 },
 "nbformat": 4,
 "nbformat_minor": 4
}
